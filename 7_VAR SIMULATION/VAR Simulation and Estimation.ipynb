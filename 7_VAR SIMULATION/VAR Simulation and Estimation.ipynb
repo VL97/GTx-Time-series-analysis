{
 "cells": [
  {
   "cell_type": "code",
   "execution_count": 1,
   "metadata": {},
   "outputs": [
    {
     "name": "stderr",
     "output_type": "stream",
     "text": [
      "Warning message:\n",
      "\"package 'MASS' was built under R version 3.6.3\""
     ]
    }
   ],
   "source": [
    "## R function\n",
    "library(MASS)\n",
    "VAR.sim=function(phi, sigma, Y0, Time){\n",
    "n=dim(phi)[[1]];\n",
    "res=array(NA,c(Time+1,n));\n",
    "res[1,]=Y0;\n",
    "for(i in 2:(Time+1))\n",
    "    res[i,]=phi%*%res[i-1,] + mvrnorm(1, rep(0,n),sigma);\n",
    "res=res[-1,];                          # res[-i,] removes row at index i from the table\n",
    "return(res);\n",
    "} "
   ]
  },
  {
   "cell_type": "markdown",
   "metadata": {},
   "source": [
    "mvrnorm pulls sample from multivariate normal distribution given a covariance matrix (directional property)"
   ]
  },
  {
   "cell_type": "code",
   "execution_count": 2,
   "metadata": {
    "scrolled": false
   },
   "outputs": [
    {
     "name": "stdout",
     "output_type": "stream",
     "text": [
      "     [,1] [,2] [,3]\n",
      "[1,]  0.5 0.00 0.00\n",
      "[2,]  0.0 0.01 0.00\n",
      "[3,]  0.0 0.00 0.97\n",
      "             [,1]         [,2]         [,3]\n",
      "[1,] 4.424352e-04 6.896004e-05 1.550325e-04\n",
      "[2,] 6.896004e-05 3.665090e-04 9.574216e-05\n",
      "[3,] 1.550325e-04 9.574216e-05 1.421814e-04\n"
     ]
    }
   ],
   "source": [
    "## Model coefficients and simulation \n",
    "phi=diag(c(0.5,0.01,0.97))\n",
    "sigma=array(c(4.424352e-04,6.896004e-05, 1.550325e-04, 6.896004e-05, 3.665090e-04,9.574216e-05, 1.550325e-04, 9.574216e-05, 1.421814e-04),c(3,3))\n",
    "Y0=c(0.07,-0.17,-0.009) \n",
    "simulated.Data=VAR.sim(phi,sigma,Y0,1000)\n",
    "\n",
    "# pi matrix\n",
    "print(phi)\n",
    "# covariance matrix of errors\n",
    "print(sigma)\n"
   ]
  },
  {
   "cell_type": "markdown",
   "metadata": {},
   "source": [
    "Note the series are granger independent:<h3> <center>Y<sub>1t</sub> = 0.5*Y<sub>1(t-1)</sub> + 𝜖<sub>1t</sub> <BR>\n",
    "    Y<sub>2t</sub> = 0.01*Y<sub>2(t-1)</sub> + 𝜖<sub>2t</sub> <BR>\n",
    "    Y<sub>3t</sub> = 0.97*Y<sub>3(t-1)</sub> + 𝜖<sub>3t</sub> <BR>"
   ]
  },
  {
   "cell_type": "markdown",
   "metadata": {},
   "source": [
    "Now estimate same time series(s) using VAR library"
   ]
  },
  {
   "cell_type": "code",
   "execution_count": 3,
   "metadata": {},
   "outputs": [
    {
     "name": "stderr",
     "output_type": "stream",
     "text": [
      "Warning message:\n",
      "\"package 'vars' was built under R version 3.6.3\"Loading required package: strucchange\n",
      "Warning message:\n",
      "\"package 'strucchange' was built under R version 3.6.3\"Loading required package: zoo\n",
      "Warning message:\n",
      "\"package 'zoo' was built under R version 3.6.3\"\n",
      "Attaching package: 'zoo'\n",
      "\n",
      "The following objects are masked from 'package:base':\n",
      "\n",
      "    as.Date, as.Date.numeric\n",
      "\n",
      "Loading required package: sandwich\n",
      "Warning message:\n",
      "\"package 'sandwich' was built under R version 3.6.3\"Loading required package: urca\n",
      "Warning message:\n",
      "\"package 'urca' was built under R version 3.6.3\"Loading required package: lmtest\n",
      "Warning message:\n",
      "\"package 'lmtest' was built under R version 3.6.3\"Warning message in VAR(simulated.Data, p = 1):\n",
      "\"No column names supplied in y, using: y1, y2, y3 , instead.\n",
      "\""
     ]
    },
    {
     "data": {
      "text/plain": [
       "\n",
       "VAR Estimation Results:\n",
       "========================= \n",
       "Endogenous variables: y1, y2, y3 \n",
       "Deterministic variables: const \n",
       "Sample size: 999 \n",
       "Log Likelihood: 8357.921 \n",
       "Roots of the characteristic polynomial:\n",
       "0.9668 0.5078 0.04632\n",
       "Call:\n",
       "VAR(y = simulated.Data, p = 1)\n",
       "\n",
       "\n",
       "Estimation results for equation y1: \n",
       "=================================== \n",
       "y1 = y1.l1 + y2.l1 + y3.l1 + const \n",
       "\n",
       "        Estimate Std. Error t value Pr(>|t|)    \n",
       "y1.l1  0.5077778  0.0283311  17.923   <2e-16 ***\n",
       "y2.l1 -0.0418967  0.0356724  -1.174   0.2405    \n",
       "y3.l1 -0.0065774  0.0153880  -0.427   0.6692    \n",
       "const  0.0013997  0.0006686   2.093   0.0366 *  \n",
       "---\n",
       "Signif. codes:  0 '***' 0.001 '**' 0.01 '*' 0.05 '.' 0.1 ' ' 1\n",
       "\n",
       "\n",
       "Residual standard error: 0.0207 on 995 degrees of freedom\n",
       "Multiple R-Squared: 0.253,\tAdjusted R-squared: 0.2508 \n",
       "F-statistic: 112.3 on 3 and 995 DF,  p-value: < 2.2e-16 \n",
       "\n",
       "\n",
       "Estimation results for equation y2: \n",
       "=================================== \n",
       "y2 = y1.l1 + y2.l1 + y3.l1 + const \n",
       "\n",
       "        Estimate Std. Error t value Pr(>|t|)\n",
       "y1.l1 -0.0034027  0.0254716  -0.134    0.894\n",
       "y2.l1 -0.0461904  0.0320719  -1.440    0.150\n",
       "y3.l1  0.0035361  0.0138349   0.256    0.798\n",
       "const  0.0003530  0.0006011   0.587    0.557\n",
       "\n",
       "\n",
       "Residual standard error: 0.01861 on 995 degrees of freedom\n",
       "Multiple R-Squared: 0.002187,\tAdjusted R-squared: -0.0008212 \n",
       "F-statistic: 0.727 on 3 and 995 DF,  p-value: 0.5359 \n",
       "\n",
       "\n",
       "Estimation results for equation y3: \n",
       "=================================== \n",
       "y3 = y1.l1 + y2.l1 + y3.l1 + const \n",
       "\n",
       "        Estimate Std. Error t value Pr(>|t|)    \n",
       "y1.l1 -1.564e-02  1.639e-02  -0.954   0.3403    \n",
       "y2.l1 -3.600e-02  2.064e-02  -1.744   0.0815 .  \n",
       "y3.l1  9.667e-01  8.903e-03 108.582   <2e-16 ***\n",
       "const -7.452e-05  3.868e-04  -0.193   0.8473    \n",
       "---\n",
       "Signif. codes:  0 '***' 0.001 '**' 0.01 '*' 0.05 '.' 0.1 ' ' 1\n",
       "\n",
       "\n",
       "Residual standard error: 0.01198 on 995 degrees of freedom\n",
       "Multiple R-Squared: 0.9262,\tAdjusted R-squared: 0.926 \n",
       "F-statistic:  4161 on 3 and 995 DF,  p-value: < 2.2e-16 \n",
       "\n",
       "\n",
       "\n",
       "Covariance matrix of residuals:\n",
       "          y1        y2        y3\n",
       "y1 4.285e-04 7.266e-05 1.492e-04\n",
       "y2 7.266e-05 3.463e-04 9.542e-05\n",
       "y3 1.492e-04 9.542e-05 1.434e-04\n",
       "\n",
       "Correlation matrix of residuals:\n",
       "       y1     y2     y3\n",
       "y1 1.0000 0.1886 0.6017\n",
       "y2 0.1886 1.0000 0.4281\n",
       "y3 0.6017 0.4281 1.0000\n",
       "\n"
      ]
     },
     "metadata": {},
     "output_type": "display_data"
    }
   ],
   "source": [
    "## Fit a VAR model\n",
    "library(vars)\n",
    "model=VAR(simulated.Data,p=1)\n",
    "summary(model)"
   ]
  },
  {
   "cell_type": "markdown",
   "metadata": {},
   "source": [
    "<H3> ANALYSIS"
   ]
  },
  {
   "cell_type": "markdown",
   "metadata": {},
   "source": [
    "For Y<sub> 1t </sub>: <br>\n",
    "Simulated Coefficients: 𝜋_11=0.5; 𝜋_12=0; 𝜋_13=0 <br>\n",
    "Estimated Coefficients: 𝜋 ̂_11=0.50;𝜋 ̂_12=-0.04;𝜋 ̂_13=0.00  <br>\n",
    "𝜋_12 & 𝜋_13 not statistically significant at the significance level 0.05\n",
    "<br> <br>\n",
    "Also note the simulated covariance matrix is close to specified in simulation."
   ]
  },
  {
   "cell_type": "markdown",
   "metadata": {},
   "source": [
    "#  CHECK ALL BELOW (UNSURE)"
   ]
  },
  {
   "cell_type": "markdown",
   "metadata": {},
   "source": [
    "<h3> Test Normality of residual for individual time series."
   ]
  },
  {
   "cell_type": "code",
   "execution_count": 4,
   "metadata": {},
   "outputs": [
    {
     "data": {
      "text/plain": [
       "$JB\n",
       "\n",
       "\tJB-Test (multivariate)\n",
       "\n",
       "data:  Residuals of VAR object model\n",
       "Chi-squared = 5.491, df = 6, p-value = 0.4825\n",
       "\n",
       "\n",
       "$Skewness\n",
       "\n",
       "\tSkewness only (multivariate)\n",
       "\n",
       "data:  Residuals of VAR object model\n",
       "Chi-squared = 4.2106, df = 3, p-value = 0.2396\n",
       "\n",
       "\n",
       "$Kurtosis\n",
       "\n",
       "\tKurtosis only (multivariate)\n",
       "\n",
       "data:  Residuals of VAR object model\n",
       "Chi-squared = 1.2804, df = 3, p-value = 0.7338\n",
       "\n",
       "\n",
       "$jb.mul\n",
       "$jb.mul$JB\n",
       "\n",
       "\tJB-Test (multivariate)\n",
       "\n",
       "data:  Residuals of VAR object model\n",
       "Chi-squared = 5.491, df = 6, p-value = 0.4825\n",
       "\n",
       "\n",
       "$jb.mul$Skewness\n",
       "\n",
       "\tSkewness only (multivariate)\n",
       "\n",
       "data:  Residuals of VAR object model\n",
       "Chi-squared = 4.2106, df = 3, p-value = 0.2396\n",
       "\n",
       "\n",
       "$jb.mul$Kurtosis\n",
       "\n",
       "\tKurtosis only (multivariate)\n",
       "\n",
       "data:  Residuals of VAR object model\n",
       "Chi-squared = 1.2804, df = 3, p-value = 0.7338\n",
       "\n",
       "\n"
      ]
     },
     "metadata": {},
     "output_type": "display_data"
    }
   ],
   "source": [
    "model.residuals=residuals(model)\n",
    "## Testing for Normality\n",
    "normality.test(model)"
   ]
  },
  {
   "cell_type": "markdown",
   "metadata": {},
   "source": [
    "for JB p value is greater than 0.05 hence we accept NULL hypothesis of Normality ie along x,y,z axis (conditional distributions of multivariate gaussian f(x,y,z)) the residuals follow a gaussian dbn."
   ]
  },
  {
   "cell_type": "markdown",
   "metadata": {},
   "source": [
    "<h3>Test for heteroscedasticity of residuals"
   ]
  },
  {
   "cell_type": "code",
   "execution_count": 5,
   "metadata": {},
   "outputs": [
    {
     "data": {
      "text/plain": [
       "\n",
       "\tARCH (multivariate)\n",
       "\n",
       "data:  Residuals of VAR object model\n",
       "Chi-squared = 208.48, df = 180, p-value = 0.0717\n",
       "\n",
       "$arch.mul\n",
       "\n",
       "\tARCH (multivariate)\n",
       "\n",
       "data:  Residuals of VAR object model\n",
       "Chi-squared = 208.48, df = 180, p-value = 0.0717\n",
       "\n"
      ]
     },
     "metadata": {},
     "output_type": "display_data"
    }
   ],
   "source": [
    "## Testing for heterogeneous variance \n",
    "arch.test(model)"
   ]
  },
  {
   "cell_type": "markdown",
   "metadata": {},
   "source": [
    "Reject null hypothesis of constant variance. there is time varying volatility or heteroscedasticity."
   ]
  },
  {
   "cell_type": "markdown",
   "metadata": {},
   "source": [
    "<h3> Test for Cross correlation ie if non diagonal covariance matrix "
   ]
  },
  {
   "cell_type": "code",
   "execution_count": 6,
   "metadata": {},
   "outputs": [
    {
     "data": {
      "text/plain": [
       "\n",
       "\tPortmanteau Test (asymptotic)\n",
       "\n",
       "data:  Residuals of VAR object model\n",
       "Chi-squared = 117.22, df = 135, p-value = 0.8627\n",
       "\n",
       "$serial\n",
       "\n",
       "\tPortmanteau Test (asymptotic)\n",
       "\n",
       "data:  Residuals of VAR object model\n",
       "Chi-squared = 117.22, df = 135, p-value = 0.8627\n",
       "\n"
      ]
     },
     "metadata": {},
     "output_type": "display_data"
    }
   ],
   "source": [
    "## Residual Analysis: Uncorrelated Errors Assumption\n",
    "serial.test(model)\n",
    "serialtest = serial.test(model)"
   ]
  },
  {
   "cell_type": "markdown",
   "metadata": {},
   "source": [
    "p-value small, reject the null of uncorrelation of residuals. That is there is some evidence of directional dependency due to non diagonal covariance matrix AS IS EVIDENT from contemporarious (lag=0) cross ACFs below:"
   ]
  },
  {
   "cell_type": "code",
   "execution_count": 7,
   "metadata": {},
   "outputs": [
    {
     "data": {
      "image/png": "[encoded data removed]",
      "text/plain": [
       "Plot with title \"ACF\""
      ]
     },
     "metadata": {},
     "output_type": "display_data"
    }
   ],
   "source": [
    "acf(model.residuals, main=\"ACF\")"
   ]
  },
  {
   "cell_type": "markdown",
   "metadata": {},
   "source": [
    "Note also, we can see from above, there wont be any leading/lagging series since we simulated the series that were granger independent."
   ]
  },
  {
   "cell_type": "markdown",
   "metadata": {},
   "source": [
    "<h3> Plot residual series"
   ]
  },
  {
   "cell_type": "code",
   "execution_count": 8,
   "metadata": {
    "scrolled": false
   },
   "outputs": [
    {
     "data": {
      "image/png": "[encoded data removed]",
      "text/plain": [
       "Plot with title \"PACF of squared Residuals\""
      ]
     },
     "metadata": {},
     "output_type": "display_data"
    },
    {
     "data": {
      "image/png": "[encoded data removed]",
      "text/plain": [
       "Plot with title \"PACF of squared Residuals\""
      ]
     },
     "metadata": {},
     "output_type": "display_data"
    },
    {
     "data": {
      "image/png": "[encoded data removed]",
      "text/plain": [
       "Plot with title \"PACF of squared Residuals\""
      ]
     },
     "metadata": {},
     "output_type": "display_data"
    }
   ],
   "source": [
    "plot(serialtest)"
   ]
  },
  {
   "cell_type": "markdown",
   "metadata": {},
   "source": [
    "Residuals will be following a normal distribution (along x, y and z directions ie conditional of the multivariate gaussian dbn) as they came from a multivariate normal distribution (we generated them from mvrnom) <br> (NOTE: multivariate noises should come from a multivariate normal distribution if our model specification is correct like the univariate case) <br> <b> Theorem </b>\n",
    "A conditional distribution of gaussian multivariate is also a gaussian distribution. See below demonstration:"
   ]
  },
  {
   "cell_type": "code",
   "execution_count": 9,
   "metadata": {},
   "outputs": [
    {
     "data": {
      "image/png": "[encoded data removed]",
      "text/plain": [
       "plot without title"
      ]
     },
     "metadata": {},
     "output_type": "display_data"
    }
   ],
   "source": [
    "################EXAMPLE WITH 2x2 COVARIANCE MATRIX########################\n",
    "\n",
    "# https://stat.ethz.ch/pipermail/r-help/2003-September/038314.html\n",
    "# lets first simulate a bivariate normal sample\n",
    "library(MASS)\n",
    "# Simulate bivariate normal data\n",
    "mu <- c(0,0)                         # Mean\n",
    "Sigma <- matrix(c(1, 0.8, 0, 1), 2)  # Covariance matrix\n",
    "# > Sigma\n",
    "# [,1] [,2]\n",
    "# [1,]  1.0  0.1\n",
    "# [2,]  0.1  1.0\n",
    " \n",
    "# Generate sample from N(mu, Sigma)\n",
    "bivn <- mvrnorm(10000, mu = mu, Sigma = Sigma )  # from Mass package\n",
    "# Calculate kernel density estimate\n",
    "bivn.kde <- kde2d(bivn[,1], bivn[,2], n = 50)   # from MASS package\n",
    "# Contour plot overlayed on heat map image of results\n",
    "image(bivn.kde)       # from base graphics package\n",
    "contour(bivn.kde, add = TRUE)     # from base graphics package"
   ]
  },
  {
   "cell_type": "markdown",
   "metadata": {},
   "source": [
    "Useful for WALD/Granger test:"
   ]
  },
  {
   "cell_type": "code",
   "execution_count": 29,
   "metadata": {},
   "outputs": [
    {
     "data": {
      "text/html": [
       "<table>\n",
       "<thead><tr><th></th><th scope=col>y1:(Intercept)</th><th scope=col>y1:y1.l1</th><th scope=col>y1:y2.l1</th><th scope=col>y1:y3.l1</th><th scope=col>y2:(Intercept)</th><th scope=col>y2:y1.l1</th><th scope=col>y2:y2.l1</th><th scope=col>y2:y3.l1</th><th scope=col>y3:(Intercept)</th><th scope=col>y3:y1.l1</th><th scope=col>y3:y2.l1</th><th scope=col>y3:y3.l1</th></tr></thead>\n",
       "<tbody>\n",
       "\t<tr><th scope=row>y1:(Intercept)</th><td> 4.470563e-07</td><td>-2.937226e-06</td><td>-2.022633e-07</td><td> 1.639610e-06</td><td> 7.581720e-08</td><td>-4.981301e-07</td><td>-3.430224e-08</td><td> 2.780648e-07</td><td> 1.556239e-07</td><td>-1.022472e-06</td><td>-7.040947e-08</td><td> 5.707615e-07</td></tr>\n",
       "\t<tr><th scope=row>y1:y1.l1</th><td>-2.937226e-06</td><td> 8.026521e-04</td><td>-1.301138e-04</td><td>-9.687049e-05</td><td>-4.981301e-07</td><td> 1.361234e-04</td><td>-2.206626e-05</td><td>-1.642846e-05</td><td>-1.022472e-06</td><td> 2.794097e-04</td><td>-4.529366e-05</td><td>-3.372140e-05</td></tr>\n",
       "\t<tr><th scope=row>y1:y2.l1</th><td>-2.022633e-07</td><td>-1.301138e-04</td><td> 1.272518e-03</td><td>-4.706138e-05</td><td>-3.430224e-08</td><td>-2.206626e-05</td><td> 2.158089e-04</td><td>-7.981235e-06</td><td>-7.040947e-08</td><td>-4.529366e-05</td><td> 4.429738e-04</td><td>-1.638244e-05</td></tr>\n",
       "\t<tr><th scope=row>y1:y3.l1</th><td> 1.639610e-06</td><td>-9.687049e-05</td><td>-4.706138e-05</td><td> 2.367908e-04</td><td> 2.780648e-07</td><td>-1.642846e-05</td><td>-7.981235e-06</td><td> 4.015784e-05</td><td> 5.707615e-07</td><td>-3.372140e-05</td><td>-1.638244e-05</td><td> 8.242880e-05</td></tr>\n",
       "\t<tr><th scope=row>y2:(Intercept)</th><td> 7.581720e-08</td><td>-4.981301e-07</td><td>-3.430224e-08</td><td> 2.780648e-07</td><td> 3.613657e-07</td><td>-2.374226e-06</td><td>-1.634939e-07</td><td> 1.325334e-06</td><td> 9.955910e-08</td><td>-6.541179e-07</td><td>-4.504387e-08</td><td> 3.651399e-07</td></tr>\n",
       "\t<tr><th scope=row>y2:y1.l1</th><td>-4.981301e-07</td><td> 1.361234e-04</td><td>-2.206626e-05</td><td>-1.642846e-05</td><td>-2.374226e-06</td><td> 6.488017e-04</td><td>-1.051739e-04</td><td>-7.830259e-05</td><td>-6.541179e-07</td><td> 1.787500e-04</td><td>-2.897624e-05</td><td>-2.157298e-05</td></tr>\n",
       "\t<tr><th scope=row>y2:y2.l1</th><td>-3.430224e-08</td><td>-2.206626e-05</td><td> 2.158089e-04</td><td>-7.981235e-06</td><td>-1.634939e-07</td><td>-1.051739e-04</td><td> 1.028605e-03</td><td>-3.804077e-05</td><td>-4.504387e-08</td><td>-2.897624e-05</td><td> 2.833888e-04</td><td>-1.048053e-05</td></tr>\n",
       "\t<tr><th scope=row>y2:y3.l1</th><td> 2.780648e-07</td><td>-1.642846e-05</td><td>-7.981235e-06</td><td> 4.015784e-05</td><td> 1.325334e-06</td><td>-7.830259e-05</td><td>-3.804077e-05</td><td> 1.914033e-04</td><td> 3.651399e-07</td><td>-2.157298e-05</td><td>-1.048053e-05</td><td> 5.273314e-05</td></tr>\n",
       "\t<tr><th scope=row>y3:(Intercept)</th><td> 1.556239e-07</td><td>-1.022472e-06</td><td>-7.040947e-08</td><td> 5.707615e-07</td><td> 9.955910e-08</td><td>-6.541179e-07</td><td>-4.504387e-08</td><td> 3.651399e-07</td><td> 1.496515e-07</td><td>-9.832325e-07</td><td>-6.770736e-08</td><td> 5.488573e-07</td></tr>\n",
       "\t<tr><th scope=row>y3:y1.l1</th><td>-1.022472e-06</td><td> 2.794097e-04</td><td>-4.529366e-05</td><td>-3.372140e-05</td><td>-6.541179e-07</td><td> 1.787500e-04</td><td>-2.897624e-05</td><td>-2.157298e-05</td><td>-9.832325e-07</td><td> 2.686867e-04</td><td>-4.355542e-05</td><td>-3.242727e-05</td></tr>\n",
       "\t<tr><th scope=row>y3:y2.l1</th><td>-7.040947e-08</td><td>-4.529366e-05</td><td> 4.429738e-04</td><td>-1.638244e-05</td><td>-4.504387e-08</td><td>-2.897624e-05</td><td> 2.833888e-04</td><td>-1.048053e-05</td><td>-6.770736e-08</td><td>-4.355542e-05</td><td> 4.259737e-04</td><td>-1.575373e-05</td></tr>\n",
       "\t<tr><th scope=row>y3:y3.l1</th><td> 5.707615e-07</td><td>-3.372140e-05</td><td>-1.638244e-05</td><td> 8.242880e-05</td><td> 3.651399e-07</td><td>-2.157298e-05</td><td>-1.048053e-05</td><td> 5.273314e-05</td><td> 5.488573e-07</td><td>-3.242727e-05</td><td>-1.575373e-05</td><td> 7.926542e-05</td></tr>\n",
       "</tbody>\n",
       "</table>\n"
      ],
      "text/latex": [
       "\\begin{tabular}{r|llllllllllll}\n",
       "  & y1:(Intercept) & y1:y1.l1 & y1:y2.l1 & y1:y3.l1 & y2:(Intercept) & y2:y1.l1 & y2:y2.l1 & y2:y3.l1 & y3:(Intercept) & y3:y1.l1 & y3:y2.l1 & y3:y3.l1\\\\\n",
       "\\hline\n",
       "\ty1:(Intercept) &  4.470563e-07 & -2.937226e-06 & -2.022633e-07 &  1.639610e-06 &  7.581720e-08 & -4.981301e-07 & -3.430224e-08 &  2.780648e-07 &  1.556239e-07 & -1.022472e-06 & -7.040947e-08 &  5.707615e-07\\\\\n",
       "\ty1:y1.l1 & -2.937226e-06 &  8.026521e-04 & -1.301138e-04 & -9.687049e-05 & -4.981301e-07 &  1.361234e-04 & -2.206626e-05 & -1.642846e-05 & -1.022472e-06 &  2.794097e-04 & -4.529366e-05 & -3.372140e-05\\\\\n",
       "\ty1:y2.l1 & -2.022633e-07 & -1.301138e-04 &  1.272518e-03 & -4.706138e-05 & -3.430224e-08 & -2.206626e-05 &  2.158089e-04 & -7.981235e-06 & -7.040947e-08 & -4.529366e-05 &  4.429738e-04 & -1.638244e-05\\\\\n",
       "\ty1:y3.l1 &  1.639610e-06 & -9.687049e-05 & -4.706138e-05 &  2.367908e-04 &  2.780648e-07 & -1.642846e-05 & -7.981235e-06 &  4.015784e-05 &  5.707615e-07 & -3.372140e-05 & -1.638244e-05 &  8.242880e-05\\\\\n",
       "\ty2:(Intercept) &  7.581720e-08 & -4.981301e-07 & -3.430224e-08 &  2.780648e-07 &  3.613657e-07 & -2.374226e-06 & -1.634939e-07 &  1.325334e-06 &  9.955910e-08 & -6.541179e-07 & -4.504387e-08 &  3.651399e-07\\\\\n",
       "\ty2:y1.l1 & -4.981301e-07 &  1.361234e-04 & -2.206626e-05 & -1.642846e-05 & -2.374226e-06 &  6.488017e-04 & -1.051739e-04 & -7.830259e-05 & -6.541179e-07 &  1.787500e-04 & -2.897624e-05 & -2.157298e-05\\\\\n",
       "\ty2:y2.l1 & -3.430224e-08 & -2.206626e-05 &  2.158089e-04 & -7.981235e-06 & -1.634939e-07 & -1.051739e-04 &  1.028605e-03 & -3.804077e-05 & -4.504387e-08 & -2.897624e-05 &  2.833888e-04 & -1.048053e-05\\\\\n",
       "\ty2:y3.l1 &  2.780648e-07 & -1.642846e-05 & -7.981235e-06 &  4.015784e-05 &  1.325334e-06 & -7.830259e-05 & -3.804077e-05 &  1.914033e-04 &  3.651399e-07 & -2.157298e-05 & -1.048053e-05 &  5.273314e-05\\\\\n",
       "\ty3:(Intercept) &  1.556239e-07 & -1.022472e-06 & -7.040947e-08 &  5.707615e-07 &  9.955910e-08 & -6.541179e-07 & -4.504387e-08 &  3.651399e-07 &  1.496515e-07 & -9.832325e-07 & -6.770736e-08 &  5.488573e-07\\\\\n",
       "\ty3:y1.l1 & -1.022472e-06 &  2.794097e-04 & -4.529366e-05 & -3.372140e-05 & -6.541179e-07 &  1.787500e-04 & -2.897624e-05 & -2.157298e-05 & -9.832325e-07 &  2.686867e-04 & -4.355542e-05 & -3.242727e-05\\\\\n",
       "\ty3:y2.l1 & -7.040947e-08 & -4.529366e-05 &  4.429738e-04 & -1.638244e-05 & -4.504387e-08 & -2.897624e-05 &  2.833888e-04 & -1.048053e-05 & -6.770736e-08 & -4.355542e-05 &  4.259737e-04 & -1.575373e-05\\\\\n",
       "\ty3:y3.l1 &  5.707615e-07 & -3.372140e-05 & -1.638244e-05 &  8.242880e-05 &  3.651399e-07 & -2.157298e-05 & -1.048053e-05 &  5.273314e-05 &  5.488573e-07 & -3.242727e-05 & -1.575373e-05 &  7.926542e-05\\\\\n",
       "\\end{tabular}\n"
      ],
      "text/markdown": [
       "\n",
       "| <!--/--> | y1:(Intercept) | y1:y1.l1 | y1:y2.l1 | y1:y3.l1 | y2:(Intercept) | y2:y1.l1 | y2:y2.l1 | y2:y3.l1 | y3:(Intercept) | y3:y1.l1 | y3:y2.l1 | y3:y3.l1 |\n",
       "|---|---|---|---|---|---|---|---|---|---|---|---|---|\n",
       "| y1:(Intercept) |  4.470563e-07 | -2.937226e-06 | -2.022633e-07 |  1.639610e-06 |  7.581720e-08 | -4.981301e-07 | -3.430224e-08 |  2.780648e-07 |  1.556239e-07 | -1.022472e-06 | -7.040947e-08 |  5.707615e-07 |\n",
       "| y1:y1.l1 | -2.937226e-06 |  8.026521e-04 | -1.301138e-04 | -9.687049e-05 | -4.981301e-07 |  1.361234e-04 | -2.206626e-05 | -1.642846e-05 | -1.022472e-06 |  2.794097e-04 | -4.529366e-05 | -3.372140e-05 |\n",
       "| y1:y2.l1 | -2.022633e-07 | -1.301138e-04 |  1.272518e-03 | -4.706138e-05 | -3.430224e-08 | -2.206626e-05 |  2.158089e-04 | -7.981235e-06 | -7.040947e-08 | -4.529366e-05 |  4.429738e-04 | -1.638244e-05 |\n",
       "| y1:y3.l1 |  1.639610e-06 | -9.687049e-05 | -4.706138e-05 |  2.367908e-04 |  2.780648e-07 | -1.642846e-05 | -7.981235e-06 |  4.015784e-05 |  5.707615e-07 | -3.372140e-05 | -1.638244e-05 |  8.242880e-05 |\n",
       "| y2:(Intercept) |  7.581720e-08 | -4.981301e-07 | -3.430224e-08 |  2.780648e-07 |  3.613657e-07 | -2.374226e-06 | -1.634939e-07 |  1.325334e-06 |  9.955910e-08 | -6.541179e-07 | -4.504387e-08 |  3.651399e-07 |\n",
       "| y2:y1.l1 | -4.981301e-07 |  1.361234e-04 | -2.206626e-05 | -1.642846e-05 | -2.374226e-06 |  6.488017e-04 | -1.051739e-04 | -7.830259e-05 | -6.541179e-07 |  1.787500e-04 | -2.897624e-05 | -2.157298e-05 |\n",
       "| y2:y2.l1 | -3.430224e-08 | -2.206626e-05 |  2.158089e-04 | -7.981235e-06 | -1.634939e-07 | -1.051739e-04 |  1.028605e-03 | -3.804077e-05 | -4.504387e-08 | -2.897624e-05 |  2.833888e-04 | -1.048053e-05 |\n",
       "| y2:y3.l1 |  2.780648e-07 | -1.642846e-05 | -7.981235e-06 |  4.015784e-05 |  1.325334e-06 | -7.830259e-05 | -3.804077e-05 |  1.914033e-04 |  3.651399e-07 | -2.157298e-05 | -1.048053e-05 |  5.273314e-05 |\n",
       "| y3:(Intercept) |  1.556239e-07 | -1.022472e-06 | -7.040947e-08 |  5.707615e-07 |  9.955910e-08 | -6.541179e-07 | -4.504387e-08 |  3.651399e-07 |  1.496515e-07 | -9.832325e-07 | -6.770736e-08 |  5.488573e-07 |\n",
       "| y3:y1.l1 | -1.022472e-06 |  2.794097e-04 | -4.529366e-05 | -3.372140e-05 | -6.541179e-07 |  1.787500e-04 | -2.897624e-05 | -2.157298e-05 | -9.832325e-07 |  2.686867e-04 | -4.355542e-05 | -3.242727e-05 |\n",
       "| y3:y2.l1 | -7.040947e-08 | -4.529366e-05 |  4.429738e-04 | -1.638244e-05 | -4.504387e-08 | -2.897624e-05 |  2.833888e-04 | -1.048053e-05 | -6.770736e-08 | -4.355542e-05 |  4.259737e-04 | -1.575373e-05 |\n",
       "| y3:y3.l1 |  5.707615e-07 | -3.372140e-05 | -1.638244e-05 |  8.242880e-05 |  3.651399e-07 | -2.157298e-05 | -1.048053e-05 |  5.273314e-05 |  5.488573e-07 | -3.242727e-05 | -1.575373e-05 |  7.926542e-05 |\n",
       "\n"
      ],
      "text/plain": [
       "               y1:(Intercept) y1:y1.l1      y1:y2.l1      y1:y3.l1     \n",
       "y1:(Intercept)  4.470563e-07  -2.937226e-06 -2.022633e-07  1.639610e-06\n",
       "y1:y1.l1       -2.937226e-06   8.026521e-04 -1.301138e-04 -9.687049e-05\n",
       "y1:y2.l1       -2.022633e-07  -1.301138e-04  1.272518e-03 -4.706138e-05\n",
       "y1:y3.l1        1.639610e-06  -9.687049e-05 -4.706138e-05  2.367908e-04\n",
       "y2:(Intercept)  7.581720e-08  -4.981301e-07 -3.430224e-08  2.780648e-07\n",
       "y2:y1.l1       -4.981301e-07   1.361234e-04 -2.206626e-05 -1.642846e-05\n",
       "y2:y2.l1       -3.430224e-08  -2.206626e-05  2.158089e-04 -7.981235e-06\n",
       "y2:y3.l1        2.780648e-07  -1.642846e-05 -7.981235e-06  4.015784e-05\n",
       "y3:(Intercept)  1.556239e-07  -1.022472e-06 -7.040947e-08  5.707615e-07\n",
       "y3:y1.l1       -1.022472e-06   2.794097e-04 -4.529366e-05 -3.372140e-05\n",
       "y3:y2.l1       -7.040947e-08  -4.529366e-05  4.429738e-04 -1.638244e-05\n",
       "y3:y3.l1        5.707615e-07  -3.372140e-05 -1.638244e-05  8.242880e-05\n",
       "               y2:(Intercept) y2:y1.l1      y2:y2.l1      y2:y3.l1     \n",
       "y1:(Intercept)  7.581720e-08  -4.981301e-07 -3.430224e-08  2.780648e-07\n",
       "y1:y1.l1       -4.981301e-07   1.361234e-04 -2.206626e-05 -1.642846e-05\n",
       "y1:y2.l1       -3.430224e-08  -2.206626e-05  2.158089e-04 -7.981235e-06\n",
       "y1:y3.l1        2.780648e-07  -1.642846e-05 -7.981235e-06  4.015784e-05\n",
       "y2:(Intercept)  3.613657e-07  -2.374226e-06 -1.634939e-07  1.325334e-06\n",
       "y2:y1.l1       -2.374226e-06   6.488017e-04 -1.051739e-04 -7.830259e-05\n",
       "y2:y2.l1       -1.634939e-07  -1.051739e-04  1.028605e-03 -3.804077e-05\n",
       "y2:y3.l1        1.325334e-06  -7.830259e-05 -3.804077e-05  1.914033e-04\n",
       "y3:(Intercept)  9.955910e-08  -6.541179e-07 -4.504387e-08  3.651399e-07\n",
       "y3:y1.l1       -6.541179e-07   1.787500e-04 -2.897624e-05 -2.157298e-05\n",
       "y3:y2.l1       -4.504387e-08  -2.897624e-05  2.833888e-04 -1.048053e-05\n",
       "y3:y3.l1        3.651399e-07  -2.157298e-05 -1.048053e-05  5.273314e-05\n",
       "               y3:(Intercept) y3:y1.l1      y3:y2.l1      y3:y3.l1     \n",
       "y1:(Intercept)  1.556239e-07  -1.022472e-06 -7.040947e-08  5.707615e-07\n",
       "y1:y1.l1       -1.022472e-06   2.794097e-04 -4.529366e-05 -3.372140e-05\n",
       "y1:y2.l1       -7.040947e-08  -4.529366e-05  4.429738e-04 -1.638244e-05\n",
       "y1:y3.l1        5.707615e-07  -3.372140e-05 -1.638244e-05  8.242880e-05\n",
       "y2:(Intercept)  9.955910e-08  -6.541179e-07 -4.504387e-08  3.651399e-07\n",
       "y2:y1.l1       -6.541179e-07   1.787500e-04 -2.897624e-05 -2.157298e-05\n",
       "y2:y2.l1       -4.504387e-08  -2.897624e-05  2.833888e-04 -1.048053e-05\n",
       "y2:y3.l1        3.651399e-07  -2.157298e-05 -1.048053e-05  5.273314e-05\n",
       "y3:(Intercept)  1.496515e-07  -9.832325e-07 -6.770736e-08  5.488573e-07\n",
       "y3:y1.l1       -9.832325e-07   2.686867e-04 -4.355542e-05 -3.242727e-05\n",
       "y3:y2.l1       -6.770736e-08  -4.355542e-05  4.259737e-04 -1.575373e-05\n",
       "y3:y3.l1        5.488573e-07  -3.242727e-05 -1.575373e-05  7.926542e-05"
      ]
     },
     "metadata": {},
     "output_type": "display_data"
    }
   ],
   "source": [
    "vcov(model)"
   ]
  },
  {
   "cell_type": "code",
   "execution_count": 30,
   "metadata": {},
   "outputs": [
    {
     "data": {
      "text/html": [
       "<dl>\n",
       "\t<dt>$y1</dt>\n",
       "\t\t<dd><table>\n",
       "<thead><tr><th></th><th scope=col>Estimate</th><th scope=col>Std. Error</th><th scope=col>t value</th><th scope=col>Pr(&gt;|t|)</th></tr></thead>\n",
       "<tbody>\n",
       "\t<tr><th scope=row>y1.l1</th><td> 0.507777765</td><td>0.0283311151</td><td>17.9229714  </td><td>1.806258e-62</td></tr>\n",
       "\t<tr><th scope=row>y2.l1</th><td>-0.041896741</td><td>0.0356723705</td><td>-1.1744872  </td><td>2.404810e-01</td></tr>\n",
       "\t<tr><th scope=row>y3.l1</th><td>-0.006577372</td><td>0.0153880095</td><td>-0.4274349  </td><td>6.691551e-01</td></tr>\n",
       "\t<tr><th scope=row>const</th><td> 0.001399734</td><td>0.0006686227</td><td> 2.0934588  </td><td>3.656089e-02</td></tr>\n",
       "</tbody>\n",
       "</table>\n",
       "</dd>\n",
       "\t<dt>$y2</dt>\n",
       "\t\t<dd><table>\n",
       "<thead><tr><th></th><th scope=col>Estimate</th><th scope=col>Std. Error</th><th scope=col>t value</th><th scope=col>Pr(&gt;|t|)</th></tr></thead>\n",
       "<tbody>\n",
       "\t<tr><th scope=row>y1.l1</th><td>-0.0034026888</td><td>0.025471586  </td><td>-0.1335876   </td><td>0.8937557    </td></tr>\n",
       "\t<tr><th scope=row>y2.l1</th><td>-0.0461904020</td><td>0.032071871  </td><td>-1.4402154   </td><td>0.1501210    </td></tr>\n",
       "\t<tr><th scope=row>y3.l1</th><td> 0.0035361488</td><td>0.013834860  </td><td> 0.2555970   </td><td>0.7983149    </td></tr>\n",
       "\t<tr><th scope=row>const</th><td> 0.0003529854</td><td>0.000601137  </td><td> 0.5871963   </td><td>0.5572051    </td></tr>\n",
       "</tbody>\n",
       "</table>\n",
       "</dd>\n",
       "\t<dt>$y3</dt>\n",
       "\t\t<dd><table>\n",
       "<thead><tr><th></th><th scope=col>Estimate</th><th scope=col>Std. Error</th><th scope=col>t value</th><th scope=col>Pr(&gt;|t|)</th></tr></thead>\n",
       "<tbody>\n",
       "\t<tr><th scope=row>y1.l1</th><td>-1.563766e-02</td><td>0.0163916664 </td><td> -0.9540005  </td><td>0.34031511   </td></tr>\n",
       "\t<tr><th scope=row>y2.l1</th><td>-3.599670e-02</td><td>0.0206391311 </td><td> -1.7440997  </td><td>0.08145051   </td></tr>\n",
       "\t<tr><th scope=row>y3.l1</th><td> 9.667147e-01</td><td>0.0089031130 </td><td>108.5816453  </td><td>0.00000000   </td></tr>\n",
       "\t<tr><th scope=row>const</th><td>-7.452273e-05</td><td>0.0003868482 </td><td> -0.1926408  </td><td>0.84727962   </td></tr>\n",
       "</tbody>\n",
       "</table>\n",
       "</dd>\n",
       "</dl>\n"
      ],
      "text/latex": [
       "\\begin{description}\n",
       "\\item[\\$y1] \\begin{tabular}{r|llll}\n",
       "  & Estimate & Std. Error & t value & Pr(>\\textbar{}t\\textbar{})\\\\\n",
       "\\hline\n",
       "\ty1.l1 &  0.507777765 & 0.0283311151 & 17.9229714   & 1.806258e-62\\\\\n",
       "\ty2.l1 & -0.041896741 & 0.0356723705 & -1.1744872   & 2.404810e-01\\\\\n",
       "\ty3.l1 & -0.006577372 & 0.0153880095 & -0.4274349   & 6.691551e-01\\\\\n",
       "\tconst &  0.001399734 & 0.0006686227 &  2.0934588   & 3.656089e-02\\\\\n",
       "\\end{tabular}\n",
       "\n",
       "\\item[\\$y2] \\begin{tabular}{r|llll}\n",
       "  & Estimate & Std. Error & t value & Pr(>\\textbar{}t\\textbar{})\\\\\n",
       "\\hline\n",
       "\ty1.l1 & -0.0034026888 & 0.025471586   & -0.1335876    & 0.8937557    \\\\\n",
       "\ty2.l1 & -0.0461904020 & 0.032071871   & -1.4402154    & 0.1501210    \\\\\n",
       "\ty3.l1 &  0.0035361488 & 0.013834860   &  0.2555970    & 0.7983149    \\\\\n",
       "\tconst &  0.0003529854 & 0.000601137   &  0.5871963    & 0.5572051    \\\\\n",
       "\\end{tabular}\n",
       "\n",
       "\\item[\\$y3] \\begin{tabular}{r|llll}\n",
       "  & Estimate & Std. Error & t value & Pr(>\\textbar{}t\\textbar{})\\\\\n",
       "\\hline\n",
       "\ty1.l1 & -1.563766e-02 & 0.0163916664  &  -0.9540005   & 0.34031511   \\\\\n",
       "\ty2.l1 & -3.599670e-02 & 0.0206391311  &  -1.7440997   & 0.08145051   \\\\\n",
       "\ty3.l1 &  9.667147e-01 & 0.0089031130  & 108.5816453   & 0.00000000   \\\\\n",
       "\tconst & -7.452273e-05 & 0.0003868482  &  -0.1926408   & 0.84727962   \\\\\n",
       "\\end{tabular}\n",
       "\n",
       "\\end{description}\n"
      ],
      "text/markdown": [
       "$y1\n",
       ":   \n",
       "| <!--/--> | Estimate | Std. Error | t value | Pr(>|t|) |\n",
       "|---|---|---|---|---|\n",
       "| y1.l1 |  0.507777765 | 0.0283311151 | 17.9229714   | 1.806258e-62 |\n",
       "| y2.l1 | -0.041896741 | 0.0356723705 | -1.1744872   | 2.404810e-01 |\n",
       "| y3.l1 | -0.006577372 | 0.0153880095 | -0.4274349   | 6.691551e-01 |\n",
       "| const |  0.001399734 | 0.0006686227 |  2.0934588   | 3.656089e-02 |\n",
       "\n",
       "\n",
       "$y2\n",
       ":   \n",
       "| <!--/--> | Estimate | Std. Error | t value | Pr(>|t|) |\n",
       "|---|---|---|---|---|\n",
       "| y1.l1 | -0.0034026888 | 0.025471586   | -0.1335876    | 0.8937557     |\n",
       "| y2.l1 | -0.0461904020 | 0.032071871   | -1.4402154    | 0.1501210     |\n",
       "| y3.l1 |  0.0035361488 | 0.013834860   |  0.2555970    | 0.7983149     |\n",
       "| const |  0.0003529854 | 0.000601137   |  0.5871963    | 0.5572051     |\n",
       "\n",
       "\n",
       "$y3\n",
       ":   \n",
       "| <!--/--> | Estimate | Std. Error | t value | Pr(>|t|) |\n",
       "|---|---|---|---|---|\n",
       "| y1.l1 | -1.563766e-02 | 0.0163916664  |  -0.9540005   | 0.34031511    |\n",
       "| y2.l1 | -3.599670e-02 | 0.0206391311  |  -1.7440997   | 0.08145051    |\n",
       "| y3.l1 |  9.667147e-01 | 0.0089031130  | 108.5816453   | 0.00000000    |\n",
       "| const | -7.452273e-05 | 0.0003868482  |  -0.1926408   | 0.84727962    |\n",
       "\n",
       "\n",
       "\n",
       "\n"
      ],
      "text/plain": [
       "$y1\n",
       "          Estimate   Std. Error    t value     Pr(>|t|)\n",
       "y1.l1  0.507777765 0.0283311151 17.9229714 1.806258e-62\n",
       "y2.l1 -0.041896741 0.0356723705 -1.1744872 2.404810e-01\n",
       "y3.l1 -0.006577372 0.0153880095 -0.4274349 6.691551e-01\n",
       "const  0.001399734 0.0006686227  2.0934588 3.656089e-02\n",
       "\n",
       "$y2\n",
       "           Estimate  Std. Error    t value  Pr(>|t|)\n",
       "y1.l1 -0.0034026888 0.025471586 -0.1335876 0.8937557\n",
       "y2.l1 -0.0461904020 0.032071871 -1.4402154 0.1501210\n",
       "y3.l1  0.0035361488 0.013834860  0.2555970 0.7983149\n",
       "const  0.0003529854 0.000601137  0.5871963 0.5572051\n",
       "\n",
       "$y3\n",
       "           Estimate   Std. Error     t value   Pr(>|t|)\n",
       "y1.l1 -1.563766e-02 0.0163916664  -0.9540005 0.34031511\n",
       "y2.l1 -3.599670e-02 0.0206391311  -1.7440997 0.08145051\n",
       "y3.l1  9.667147e-01 0.0089031130 108.5816453 0.00000000\n",
       "const -7.452273e-05 0.0003868482  -0.1926408 0.84727962\n"
      ]
     },
     "metadata": {},
     "output_type": "display_data"
    }
   ],
   "source": [
    " coefficients(model)"
   ]
  },
  {
   "cell_type": "code",
   "execution_count": 31,
   "metadata": {},
   "outputs": [
    {
     "data": {
      "text/html": [
       "<dl class=dl-horizontal>\n",
       "\t<dt>y1.l1</dt>\n",
       "\t\t<dd>0.5077777652822</dd>\n",
       "\t<dt>y2.l1</dt>\n",
       "\t\t<dd>-0.0418967412829865</dd>\n",
       "\t<dt>y3.l1</dt>\n",
       "\t\t<dd>-0.00657737236740403</dd>\n",
       "</dl>\n"
      ],
      "text/latex": [
       "\\begin{description*}\n",
       "\\item[y1.l1] 0.5077777652822\n",
       "\\item[y2.l1] -0.0418967412829865\n",
       "\\item[y3.l1] -0.00657737236740403\n",
       "\\end{description*}\n"
      ],
      "text/markdown": [
       "y1.l1\n",
       ":   0.5077777652822y2.l1\n",
       ":   -0.0418967412829865y3.l1\n",
       ":   -0.00657737236740403\n",
       "\n"
      ],
      "text/plain": [
       "       y1.l1        y2.l1        y3.l1 \n",
       " 0.507777765 -0.041896741 -0.006577372 "
      ]
     },
     "metadata": {},
     "output_type": "display_data"
    }
   ],
   "source": [
    "#note here trend was not included in our VAR model\n",
    "coef.y1=coefficients(model)$y1[-(4),1]\n",
    "coef.y1"
   ]
  },
  {
   "cell_type": "code",
   "execution_count": 32,
   "metadata": {},
   "outputs": [
    {
     "data": {
      "text/html": [
       "<table>\n",
       "<thead><tr><th></th><th scope=col>y1:(Intercept)</th><th scope=col>y1:y1.l1</th><th scope=col>y1:y2.l1</th><th scope=col>y1:y3.l1</th></tr></thead>\n",
       "<tbody>\n",
       "\t<tr><th scope=row>y1:(Intercept)</th><td> 4.470563e-07</td><td>-2.937226e-06</td><td>-2.022633e-07</td><td> 1.639610e-06</td></tr>\n",
       "\t<tr><th scope=row>y1:y1.l1</th><td>-2.937226e-06</td><td> 8.026521e-04</td><td>-1.301138e-04</td><td>-9.687049e-05</td></tr>\n",
       "\t<tr><th scope=row>y1:y2.l1</th><td>-2.022633e-07</td><td>-1.301138e-04</td><td> 1.272518e-03</td><td>-4.706138e-05</td></tr>\n",
       "\t<tr><th scope=row>y1:y3.l1</th><td> 1.639610e-06</td><td>-9.687049e-05</td><td>-4.706138e-05</td><td> 2.367908e-04</td></tr>\n",
       "</tbody>\n",
       "</table>\n"
      ],
      "text/latex": [
       "\\begin{tabular}{r|llll}\n",
       "  & y1:(Intercept) & y1:y1.l1 & y1:y2.l1 & y1:y3.l1\\\\\n",
       "\\hline\n",
       "\ty1:(Intercept) &  4.470563e-07 & -2.937226e-06 & -2.022633e-07 &  1.639610e-06\\\\\n",
       "\ty1:y1.l1 & -2.937226e-06 &  8.026521e-04 & -1.301138e-04 & -9.687049e-05\\\\\n",
       "\ty1:y2.l1 & -2.022633e-07 & -1.301138e-04 &  1.272518e-03 & -4.706138e-05\\\\\n",
       "\ty1:y3.l1 &  1.639610e-06 & -9.687049e-05 & -4.706138e-05 &  2.367908e-04\\\\\n",
       "\\end{tabular}\n"
      ],
      "text/markdown": [
       "\n",
       "| <!--/--> | y1:(Intercept) | y1:y1.l1 | y1:y2.l1 | y1:y3.l1 |\n",
       "|---|---|---|---|---|\n",
       "| y1:(Intercept) |  4.470563e-07 | -2.937226e-06 | -2.022633e-07 |  1.639610e-06 |\n",
       "| y1:y1.l1 | -2.937226e-06 |  8.026521e-04 | -1.301138e-04 | -9.687049e-05 |\n",
       "| y1:y2.l1 | -2.022633e-07 | -1.301138e-04 |  1.272518e-03 | -4.706138e-05 |\n",
       "| y1:y3.l1 |  1.639610e-06 | -9.687049e-05 | -4.706138e-05 |  2.367908e-04 |\n",
       "\n"
      ],
      "text/plain": [
       "               y1:(Intercept) y1:y1.l1      y1:y2.l1      y1:y3.l1     \n",
       "y1:(Intercept)  4.470563e-07  -2.937226e-06 -2.022633e-07  1.639610e-06\n",
       "y1:y1.l1       -2.937226e-06   8.026521e-04 -1.301138e-04 -9.687049e-05\n",
       "y1:y2.l1       -2.022633e-07  -1.301138e-04  1.272518e-03 -4.706138e-05\n",
       "y1:y3.l1        1.639610e-06  -9.687049e-05 -4.706138e-05  2.367908e-04"
      ]
     },
     "metadata": {},
     "output_type": "display_data"
    }
   ],
   "source": [
    "var.y1=vcov(model)[1:(2*2),1:(2*2)]\n",
    "var.y1"
   ]
  }
 ],
 "metadata": {
  "kernelspec": {
   "display_name": "R",
   "language": "R",
   "name": "ir"
  },
  "language_info": {
   "codemirror_mode": "r",
   "file_extension": ".r",
   "mimetype": "text/x-r-source",
   "name": "R",
   "pygments_lexer": "r",
   "version": "3.6.1"
  }
 },
 "nbformat": 4,
 "nbformat_minor": 2
}
