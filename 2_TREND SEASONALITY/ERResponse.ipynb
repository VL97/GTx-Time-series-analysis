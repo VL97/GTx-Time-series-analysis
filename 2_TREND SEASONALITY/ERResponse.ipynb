{
 "cells": [
  {
   "cell_type": "code",
   "execution_count": 1,
   "metadata": {},
   "outputs": [],
   "source": [
    "############# DATA EXPLORATION AND PROCESSING ##########################\n",
    "edvoldata = read.csv(\"EGDailyVolume.csv\",header=T)\n",
    "## Process Dates \n",
    "year = edvoldata$Year\n",
    "month = edvoldata$Month\n",
    "day = edvoldata$Day\n",
    "datemat = cbind(as.character(day),as.character(month),as.character(year))"
   ]
  },
  {
   "cell_type": "code",
   "execution_count": 2,
   "metadata": {},
   "outputs": [
    {
     "data": {
      "text/html": [
       "<table>\n",
       "<tbody>\n",
       "\t<tr><td>1   </td><td>1   </td><td>2010</td></tr>\n",
       "\t<tr><td>2   </td><td>1   </td><td>2010</td></tr>\n",
       "\t<tr><td>3   </td><td>1   </td><td>2010</td></tr>\n",
       "\t<tr><td>4   </td><td>1   </td><td>2010</td></tr>\n",
       "\t<tr><td>5   </td><td>1   </td><td>2010</td></tr>\n",
       "\t<tr><td>6   </td><td>1   </td><td>2010</td></tr>\n",
       "</tbody>\n",
       "</table>\n"
      ],
      "text/latex": [
       "\\begin{tabular}{lll}\n",
       "\t 1    & 1    & 2010\\\\\n",
       "\t 2    & 1    & 2010\\\\\n",
       "\t 3    & 1    & 2010\\\\\n",
       "\t 4    & 1    & 2010\\\\\n",
       "\t 5    & 1    & 2010\\\\\n",
       "\t 6    & 1    & 2010\\\\\n",
       "\\end{tabular}\n"
      ],
      "text/markdown": [
       "\n",
       "| 1    | 1    | 2010 |\n",
       "| 2    | 1    | 2010 |\n",
       "| 3    | 1    | 2010 |\n",
       "| 4    | 1    | 2010 |\n",
       "| 5    | 1    | 2010 |\n",
       "| 6    | 1    | 2010 |\n",
       "\n"
      ],
      "text/plain": [
       "     [,1] [,2] [,3]\n",
       "[1,] 1    1    2010\n",
       "[2,] 2    1    2010\n",
       "[3,] 3    1    2010\n",
       "[4,] 4    1    2010\n",
       "[5,] 5    1    2010\n",
       "[6,] 6    1    2010"
      ]
     },
     "metadata": {},
     "output_type": "display_data"
    }
   ],
   "source": [
    "head(datemat)"
   ]
  },
  {
   "cell_type": "code",
   "execution_count": 3,
   "metadata": {},
   "outputs": [
    {
     "name": "stderr",
     "output_type": "stream",
     "text": [
      "The following object is masked _by_ .GlobalEnv:\n",
      "\n",
      "    dates\n",
      "\n"
     ]
    }
   ],
   "source": [
    "paste.dates = function(date){\n",
    "    day = date[1]; month=date[2]; year = date[3]\n",
    "    return(paste(day,month,year,sep=\"/\"))\n",
    " }\n",
    "dates = apply(datemat,1,paste.dates)\n",
    "dates = as.Date(dates, format=\"%d/%m/%Y\")\n",
    "edvoldata = cbind(dates,edvoldata)\n",
    "attach(edvoldata)"
   ]
  },
  {
   "cell_type": "code",
   "execution_count": 4,
   "metadata": {},
   "outputs": [
    {
     "data": {
      "text/html": [
       "<table>\n",
       "<thead><tr><th scope=col>dates</th><th scope=col>Year</th><th scope=col>Month</th><th scope=col>Day</th><th scope=col>Volume</th></tr></thead>\n",
       "<tbody>\n",
       "\t<tr><td>2010-01-01</td><td>2010      </td><td>1         </td><td>1         </td><td>135       </td></tr>\n",
       "\t<tr><td>2010-01-02</td><td>2010      </td><td>1         </td><td>2         </td><td>163       </td></tr>\n",
       "\t<tr><td>2010-01-03</td><td>2010      </td><td>1         </td><td>3         </td><td>139       </td></tr>\n",
       "\t<tr><td>2010-01-04</td><td>2010      </td><td>1         </td><td>4         </td><td>139       </td></tr>\n",
       "\t<tr><td>2010-01-05</td><td>2010      </td><td>1         </td><td>5         </td><td>122       </td></tr>\n",
       "\t<tr><td>2010-01-06</td><td>2010      </td><td>1         </td><td>6         </td><td>119       </td></tr>\n",
       "</tbody>\n",
       "</table>\n"
      ],
      "text/latex": [
       "\\begin{tabular}{r|lllll}\n",
       " dates & Year & Month & Day & Volume\\\\\n",
       "\\hline\n",
       "\t 2010-01-01 & 2010       & 1          & 1          & 135       \\\\\n",
       "\t 2010-01-02 & 2010       & 1          & 2          & 163       \\\\\n",
       "\t 2010-01-03 & 2010       & 1          & 3          & 139       \\\\\n",
       "\t 2010-01-04 & 2010       & 1          & 4          & 139       \\\\\n",
       "\t 2010-01-05 & 2010       & 1          & 5          & 122       \\\\\n",
       "\t 2010-01-06 & 2010       & 1          & 6          & 119       \\\\\n",
       "\\end{tabular}\n"
      ],
      "text/markdown": [
       "\n",
       "| dates | Year | Month | Day | Volume |\n",
       "|---|---|---|---|---|\n",
       "| 2010-01-01 | 2010       | 1          | 1          | 135        |\n",
       "| 2010-01-02 | 2010       | 1          | 2          | 163        |\n",
       "| 2010-01-03 | 2010       | 1          | 3          | 139        |\n",
       "| 2010-01-04 | 2010       | 1          | 4          | 139        |\n",
       "| 2010-01-05 | 2010       | 1          | 5          | 122        |\n",
       "| 2010-01-06 | 2010       | 1          | 6          | 119        |\n",
       "\n"
      ],
      "text/plain": [
       "  dates      Year Month Day Volume\n",
       "1 2010-01-01 2010 1     1   135   \n",
       "2 2010-01-02 2010 1     2   163   \n",
       "3 2010-01-03 2010 1     3   139   \n",
       "4 2010-01-04 2010 1     4   139   \n",
       "5 2010-01-05 2010 1     5   122   \n",
       "6 2010-01-06 2010 1     6   119   "
      ]
     },
     "metadata": {},
     "output_type": "display_data"
    }
   ],
   "source": [
    "head(edvoldata)"
   ]
  },
  {
   "cell_type": "code",
   "execution_count": 5,
   "metadata": {},
   "outputs": [
    {
     "name": "stderr",
     "output_type": "stream",
     "text": [
      "Warning message:\n",
      "\"package 'ggplot2' was built under R version 3.6.3\""
     ]
    },
    {
     "data": {
      "image/png": "[encoded data removed]",
      "text/plain": [
       "plot without title"
      ]
     },
     "metadata": {},
     "output_type": "display_data"
    }
   ],
   "source": [
    "library(ggplot2)\n",
    "options(repr.plot.width=7, repr.plot.height=3)\n",
    "ggplot(edvoldata, aes(dates, Volume)) + geom_line() + xlab(\"Time\") + ylab(\"Daily ED Volume\")"
   ]
  },
  {
   "cell_type": "markdown",
   "metadata": {},
   "source": [
    "<li> Increasing trend\n",
    " <li> Some cyclicity (not seasonality)\n",
    "     <li> Some outliers\n",
    "         "
   ]
  },
  {
   "cell_type": "markdown",
   "metadata": {},
   "source": [
    "### Differencing to make stationary"
   ]
  },
  {
   "cell_type": "code",
   "execution_count": 6,
   "metadata": {},
   "outputs": [
    {
     "data": {
      "image/png": "[encoded data removed]",
      "text/plain": [
       "plot without title"
      ]
     },
     "metadata": {},
     "output_type": "display_data"
    }
   ],
   "source": [
    "plot(ts(diff(log(Volume))))"
   ]
  },
  {
   "cell_type": "code",
   "execution_count": 7,
   "metadata": {},
   "outputs": [
    {
     "data": {
      "image/png": "[encoded data removed]",
      "text/plain": [
       "plot without title"
      ]
     },
     "metadata": {},
     "output_type": "display_data"
    }
   ],
   "source": [
    "plot(ts(sqrt(Volume+3/8)))"
   ]
  },
  {
   "cell_type": "markdown",
   "metadata": {},
   "source": [
    "We take here the second differencing (it has same series but with less variability)"
   ]
  },
  {
   "cell_type": "code",
   "execution_count": 8,
   "metadata": {},
   "outputs": [
    {
     "data": {
      "image/png": "[encoded data removed]",
      "text/plain": [
       "Plot with title \"\""
      ]
     },
     "metadata": {},
     "output_type": "display_data"
    },
    {
     "data": {
      "image/png": "[encoded data removed]",
      "text/plain": [
       "Plot with title \"\""
      ]
     },
     "metadata": {},
     "output_type": "display_data"
    },
    {
     "data": {
      "image/png": "[encoded data removed]",
      "text/plain": [
       "plot without title"
      ]
     },
     "metadata": {},
     "output_type": "display_data"
    }
   ],
   "source": [
    "Volume.tr = sqrt(Volume+3/8)\n",
    "Volume.tr.ts= ts(Volume.tr)\n",
    "hist(Volume,nclass=20,xlab=\"ED Volume\", main=\"\",col=\"brown\")\n",
    "hist(Volume.tr,nclass=20,xlab= \"Transformed ED Volume\", main=\"\",col=\"blue\")\n",
    "ggplot(edvoldata, aes(dates, sqrt(Volume+3/8))) + geom_line() + xlab(\"Time\") + ylab(\"Transformed Daily ED Volume\")"
   ]
  },
  {
   "cell_type": "markdown",
   "metadata": {},
   "source": [
    "## Trend estimation"
   ]
  },
  {
   "cell_type": "markdown",
   "metadata": {},
   "source": [
    "Here only used non parametric regression:"
   ]
  },
  {
   "cell_type": "code",
   "execution_count": 9,
   "metadata": {},
   "outputs": [
    {
     "name": "stderr",
     "output_type": "stream",
     "text": [
      "Warning message:\n",
      "\"package 'mgcv' was built under R version 3.6.3\"Loading required package: nlme\n",
      "Warning message:\n",
      "\"package 'nlme' was built under R version 3.6.3\"This is mgcv 1.8-31. For overview type 'help(\"mgcv-package\")'.\n"
     ]
    },
    {
     "data": {
      "text/plain": [
       "\n",
       "Family: gaussian \n",
       "Link function: identity \n",
       "\n",
       "Formula:\n",
       "Volume.tr ~ s(time.pts)\n",
       "\n",
       "Parametric coefficients:\n",
       "            Estimate Std. Error t value Pr(>|t|)    \n",
       "(Intercept) 12.85769    0.02441   526.7   <2e-16 ***\n",
       "---\n",
       "Signif. codes:  0 '***' 0.001 '**' 0.01 '*' 0.05 '.' 0.1 ' ' 1\n",
       "\n",
       "Approximate significance of smooth terms:\n",
       "              edf Ref.df     F p-value    \n",
       "s(time.pts) 8.628   8.96 93.39  <2e-16 ***\n",
       "---\n",
       "Signif. codes:  0 '***' 0.001 '**' 0.01 '*' 0.05 '.' 0.1 ' ' 1\n",
       "\n",
       "R-sq.(adj) =  0.296   Deviance explained = 29.9%\n",
       "GCV =  1.184  Scale est. = 1.1782    n = 1977"
      ]
     },
     "metadata": {},
     "output_type": "display_data"
    },
    {
     "data": {
      "image/png": "[encoded data removed]",
      "text/plain": [
       "plot without title"
      ]
     },
     "metadata": {},
     "output_type": "display_data"
    }
   ],
   "source": [
    "################ TREND AND SEASONALITY ESTIMATION #########################\n",
    "library(mgcv)\n",
    "\n",
    "time.pts = c(1:length(Volume))\n",
    "time.pts = c(time.pts - min(time.pts))/max(time.pts)\n",
    "\n",
    "## Trend Estimation: Is there a trend?\n",
    "\n",
    "## Local Polynomial Trend Estimation\n",
    "loc.fit = loess(Volume.tr~time.pts)\n",
    "#summary(loc.fit)\n",
    "vol.fit.loc = fitted(loc.fit)\n",
    "\n",
    "## Splines Trend Estimation\n",
    "gam.fit = gam(Volume.tr~s(time.pts))\n",
    "summary(gam.fit)\n",
    "vol.fit.gam = fitted(gam.fit)\n",
    "\n",
    "## Is there a trend? \n",
    "options(repr.plot.width=7, repr.plot.height=5)\n",
    "\n",
    "plot.ts(sqrt(Volume+3/8))\n",
    "    \n",
    "lines(vol.fit.loc,lwd=3,col=\"brown\")\n",
    "lines(vol.fit.gam,lwd=3,col=\"red\")"
   ]
  },
  {
   "cell_type": "markdown",
   "metadata": {},
   "source": [
    "We see there is significant p value for splines GAM (see the smooth term's p value not for intercept) indicating significant trend."
   ]
  },
  {
   "cell_type": "markdown",
   "metadata": {},
   "source": [
    "## Model Trend + Monthly Seasonality\n"
   ]
  },
  {
   "cell_type": "code",
   "execution_count": 10,
   "metadata": {},
   "outputs": [
    {
     "data": {
      "text/html": [
       "<ol class=list-inline>\n",
       "\t<li>Jan</li>\n",
       "\t<li>Jan</li>\n",
       "\t<li>Jan</li>\n",
       "\t<li>Jan</li>\n",
       "\t<li>Jan</li>\n",
       "\t<li>Jan</li>\n",
       "\t<li>Jan</li>\n",
       "\t<li>Jan</li>\n",
       "\t<li>Jan</li>\n",
       "\t<li>Jan</li>\n",
       "\t<li>Jan</li>\n",
       "\t<li>Jan</li>\n",
       "\t<li>Jan</li>\n",
       "\t<li>Jan</li>\n",
       "\t<li>Jan</li>\n",
       "\t<li>Jan</li>\n",
       "\t<li>Jan</li>\n",
       "\t<li>Jan</li>\n",
       "\t<li>Jan</li>\n",
       "\t<li>Jan</li>\n",
       "\t<li>Jan</li>\n",
       "\t<li>Jan</li>\n",
       "\t<li>Jan</li>\n",
       "\t<li>Jan</li>\n",
       "\t<li>Jan</li>\n",
       "\t<li>Jan</li>\n",
       "\t<li>Jan</li>\n",
       "\t<li>Jan</li>\n",
       "\t<li>Jan</li>\n",
       "\t<li>Jan</li>\n",
       "\t<li>Jan</li>\n",
       "\t<li>Feb</li>\n",
       "\t<li>Feb</li>\n",
       "\t<li>Feb</li>\n",
       "\t<li>Feb</li>\n",
       "\t<li>Feb</li>\n",
       "\t<li>Feb</li>\n",
       "</ol>\n",
       "\n",
       "<details>\n",
       "\t<summary style=display:list-item;cursor:pointer>\n",
       "\t\t<strong>Levels</strong>:\n",
       "\t</summary>\n",
       "\t<ol class=list-inline>\n",
       "\t\t<li>'Apr'</li>\n",
       "\t\t<li>'Aug'</li>\n",
       "\t\t<li>'Dec'</li>\n",
       "\t\t<li>'Feb'</li>\n",
       "\t\t<li>'Jan'</li>\n",
       "\t\t<li>'Jul'</li>\n",
       "\t\t<li>'Jun'</li>\n",
       "\t\t<li>'Mar'</li>\n",
       "\t\t<li>'May'</li>\n",
       "\t\t<li>'Nov'</li>\n",
       "\t\t<li>'Oct'</li>\n",
       "\t\t<li>'Sep'</li>\n",
       "\t</ol>\n",
       "</details>"
      ],
      "text/latex": [
       "\\begin{enumerate*}\n",
       "\\item Jan\n",
       "\\item Jan\n",
       "\\item Jan\n",
       "\\item Jan\n",
       "\\item Jan\n",
       "\\item Jan\n",
       "\\item Jan\n",
       "\\item Jan\n",
       "\\item Jan\n",
       "\\item Jan\n",
       "\\item Jan\n",
       "\\item Jan\n",
       "\\item Jan\n",
       "\\item Jan\n",
       "\\item Jan\n",
       "\\item Jan\n",
       "\\item Jan\n",
       "\\item Jan\n",
       "\\item Jan\n",
       "\\item Jan\n",
       "\\item Jan\n",
       "\\item Jan\n",
       "\\item Jan\n",
       "\\item Jan\n",
       "\\item Jan\n",
       "\\item Jan\n",
       "\\item Jan\n",
       "\\item Jan\n",
       "\\item Jan\n",
       "\\item Jan\n",
       "\\item Jan\n",
       "\\item Feb\n",
       "\\item Feb\n",
       "\\item Feb\n",
       "\\item Feb\n",
       "\\item Feb\n",
       "\\item Feb\n",
       "\\end{enumerate*}\n",
       "\n",
       "\\emph{Levels}: \\begin{enumerate*}\n",
       "\\item 'Apr'\n",
       "\\item 'Aug'\n",
       "\\item 'Dec'\n",
       "\\item 'Feb'\n",
       "\\item 'Jan'\n",
       "\\item 'Jul'\n",
       "\\item 'Jun'\n",
       "\\item 'Mar'\n",
       "\\item 'May'\n",
       "\\item 'Nov'\n",
       "\\item 'Oct'\n",
       "\\item 'Sep'\n",
       "\\end{enumerate*}\n"
      ],
      "text/markdown": [
       "1. Jan\n",
       "2. Jan\n",
       "3. Jan\n",
       "4. Jan\n",
       "5. Jan\n",
       "6. Jan\n",
       "7. Jan\n",
       "8. Jan\n",
       "9. Jan\n",
       "10. Jan\n",
       "11. Jan\n",
       "12. Jan\n",
       "13. Jan\n",
       "14. Jan\n",
       "15. Jan\n",
       "16. Jan\n",
       "17. Jan\n",
       "18. Jan\n",
       "19. Jan\n",
       "20. Jan\n",
       "21. Jan\n",
       "22. Jan\n",
       "23. Jan\n",
       "24. Jan\n",
       "25. Jan\n",
       "26. Jan\n",
       "27. Jan\n",
       "28. Jan\n",
       "29. Jan\n",
       "30. Jan\n",
       "31. Jan\n",
       "32. Feb\n",
       "33. Feb\n",
       "34. Feb\n",
       "35. Feb\n",
       "36. Feb\n",
       "37. Feb\n",
       "\n",
       "\n",
       "\n",
       "**Levels**: 1. 'Apr'\n",
       "2. 'Aug'\n",
       "3. 'Dec'\n",
       "4. 'Feb'\n",
       "5. 'Jan'\n",
       "6. 'Jul'\n",
       "7. 'Jun'\n",
       "8. 'Mar'\n",
       "9. 'May'\n",
       "10. 'Nov'\n",
       "11. 'Oct'\n",
       "12. 'Sep'\n",
       "\n",
       "\n"
      ],
      "text/plain": [
       " [1] Jan Jan Jan Jan Jan Jan Jan Jan Jan Jan Jan Jan Jan Jan Jan Jan Jan Jan Jan\n",
       "[20] Jan Jan Jan Jan Jan Jan Jan Jan Jan Jan Jan Jan Feb Feb Feb Feb Feb Feb\n",
       "Levels: Apr Aug Dec Feb Jan Jul Jun Mar May Nov Oct Sep"
      ]
     },
     "metadata": {},
     "output_type": "display_data"
    }
   ],
   "source": [
    "## Using nonparametric trend and linear regression seasonality \n",
    "month = as.factor(format(dates,\"%b\"))\n",
    "month[1:37]"
   ]
  },
  {
   "cell_type": "code",
   "execution_count": 11,
   "metadata": {},
   "outputs": [
    {
     "data": {
      "text/plain": [
       "\n",
       "Family: gaussian \n",
       "Link function: identity \n",
       "\n",
       "Formula:\n",
       "Volume.tr ~ s(time.pts) + month\n",
       "\n",
       "Parametric coefficients:\n",
       "            Estimate Std. Error t value Pr(>|t|)    \n",
       "(Intercept) 12.86352    0.06200 207.472  < 2e-16 ***\n",
       "monthAug    -0.50070    0.09192  -5.447 5.76e-08 ***\n",
       "monthDec     0.93644    0.09128  10.259  < 2e-16 ***\n",
       "monthFeb     0.33487    0.08835   3.790 0.000155 ***\n",
       "monthJan    -0.59912    0.08685  -6.898 7.09e-12 ***\n",
       "monthJul    -1.53494    0.09170 -16.739  < 2e-16 ***\n",
       "monthJun    -1.00621    0.09220 -10.913  < 2e-16 ***\n",
       "monthMar     0.62121    0.08590   7.232 6.81e-13 ***\n",
       "monthMay     0.05152    0.08589   0.600 0.548708    \n",
       "monthNov     0.94133    0.09242  10.186  < 2e-16 ***\n",
       "monthOct     0.41487    0.09189   4.515 6.71e-06 ***\n",
       "monthSep     0.22663    0.09277   2.443 0.014657 *  \n",
       "---\n",
       "Signif. codes:  0 '***' 0.001 '**' 0.01 '*' 0.05 '.' 0.1 ' ' 1\n",
       "\n",
       "Approximate significance of smooth terms:\n",
       "              edf Ref.df     F p-value    \n",
       "s(time.pts) 8.777  8.985 140.7  <2e-16 ***\n",
       "---\n",
       "Signif. codes:  0 '***' 0.001 '**' 0.01 '*' 0.05 '.' 0.1 ' ' 1\n",
       "\n",
       "R-sq.(adj) =  0.598   Deviance explained = 60.2%\n",
       "GCV = 0.68006  Scale est. = 0.67292   n = 1977"
      ]
     },
     "metadata": {},
     "output_type": "display_data"
    },
    {
     "data": {
      "image/png": "[encoded data removed]",
      "text/plain": [
       "plot without title"
      ]
     },
     "metadata": {},
     "output_type": "display_data"
    }
   ],
   "source": [
    "#s(time.pts) means they can be complexed like time.pts, time.pts^2 etc... \n",
    "#while month will be treated as a simple linear variable\n",
    "gam.fit.seastr.1 = gam(Volume.tr~s(time.pts)+month)\n",
    "\n",
    "summary(gam.fit.seastr.1)\n",
    "vol.fit.gam.seastr.1 = fitted(gam.fit.seastr.1)\n",
    "\n",
    "plot.ts(sqrt(Volume+3/8))\n",
    "lines(vol.fit.gam.seastr.1,lwd=2,col=\"red\")"
   ]
  },
  {
   "cell_type": "markdown",
   "metadata": {},
   "source": [
    "We see step like function in the fitted(trained model) curve as the months have different parameters estimated and each step indicates a month transition. ER visits may vary more in certain months (ex school going months etc). We also fit a model for the days of the week inference."
   ]
  },
  {
   "cell_type": "code",
   "execution_count": 12,
   "metadata": {},
   "outputs": [
    {
     "data": {
      "text/plain": [
       "\n",
       "Family: gaussian \n",
       "Link function: identity \n",
       "\n",
       "Formula:\n",
       "Volume.tr ~ s(time.pts) + month + week\n",
       "\n",
       "Parametric coefficients:\n",
       "              Estimate Std. Error t value Pr(>|t|)    \n",
       "(Intercept)   12.77772    0.07383 173.063  < 2e-16 ***\n",
       "monthAug      -0.50061    0.08852  -5.655 1.79e-08 ***\n",
       "monthDec       0.93273    0.08791  10.611  < 2e-16 ***\n",
       "monthFeb       0.33589    0.08509   3.948 8.17e-05 ***\n",
       "monthJan      -0.59767    0.08365  -7.145 1.26e-12 ***\n",
       "monthJul      -1.53530    0.08831 -17.385  < 2e-16 ***\n",
       "monthJun      -1.00553    0.08880 -11.324  < 2e-16 ***\n",
       "monthMar       0.61815    0.08272   7.472 1.18e-13 ***\n",
       "monthMay       0.05271    0.08272   0.637  0.52403    \n",
       "monthNov       0.94163    0.08900  10.580  < 2e-16 ***\n",
       "monthOct       0.41557    0.08849   4.696 2.84e-06 ***\n",
       "monthSep       0.22391    0.08935   2.506  0.01229 *  \n",
       "weekMonday     0.57169    0.06647   8.601  < 2e-16 ***\n",
       "weekSaturday   0.04589    0.06641   0.691  0.48967    \n",
       "weekSunday     0.17538    0.06641   2.641  0.00834 ** \n",
       "weekThursday  -0.16031    0.06647  -2.412  0.01597 *  \n",
       "weekTuesday    0.08099    0.06647   1.218  0.22323    \n",
       "weekWednesday -0.11050    0.06647  -1.662  0.09662 .  \n",
       "---\n",
       "Signif. codes:  0 '***' 0.001 '**' 0.01 '*' 0.05 '.' 0.1 ' ' 1\n",
       "\n",
       "Approximate significance of smooth terms:\n",
       "              edf Ref.df     F p-value    \n",
       "s(time.pts) 8.792  8.987 151.8  <2e-16 ***\n",
       "---\n",
       "Signif. codes:  0 '***' 0.001 '**' 0.01 '*' 0.05 '.' 0.1 ' ' 1\n",
       "\n",
       "R-sq.(adj) =  0.627   Deviance explained = 63.2%\n",
       "GCV = 0.63263  Scale est. = 0.62405   n = 1977"
      ]
     },
     "metadata": {},
     "output_type": "display_data"
    },
    {
     "data": {
      "image/png": "[encoded data removed]",
      "text/plain": [
       "plot without title"
      ]
     },
     "metadata": {},
     "output_type": "display_data"
    }
   ],
   "source": [
    "## Add day-of-the-week seasonality\n",
    "week = as.factor(weekdays(dates))\n",
    "gam.fit.seastr.2 = gam(Volume.tr~s(time.pts)+month+week)\n",
    "summary(gam.fit.seastr.2)\n",
    "\n",
    "vol.fit.gam.seastr.2 = fitted(gam.fit.seastr.2)\n",
    "\n",
    "plot.ts(sqrt(Volume+3/8))\n",
    "lines(vol.fit.gam.seastr.2,lwd=2,col=\"red\")"
   ]
  },
  {
   "cell_type": "markdown",
   "metadata": {},
   "source": [
    "Zoomed in comparison of :"
   ]
  },
  {
   "cell_type": "code",
   "execution_count": 13,
   "metadata": {},
   "outputs": [
    {
     "data": {
      "image/png": "[encoded data removed]",
      "text/plain": [
       "plot without title"
      ]
     },
     "metadata": {},
     "output_type": "display_data"
    }
   ],
   "source": [
    "plot.ts(sqrt(Volume+3/8), xlim=c(1,100))\n",
    "lines(vol.fit.gam.seastr.1,lwd=2,col=\"red\")\n",
    "lines(vol.fit.gam.seastr.2,lwd=2,col=\"blue\")"
   ]
  },
  {
   "cell_type": "markdown",
   "metadata": {},
   "source": [
    "Some day seasonality coefficients are significant. Also, We see there is significant p value for splines GAM (see the smooth term's p value, not for intercept) indicating significant trend."
   ]
  },
  {
   "cell_type": "markdown",
   "metadata": {},
   "source": [
    "## Comparing if significant difference between models using ANOVA:"
   ]
  },
  {
   "cell_type": "markdown",
   "metadata": {},
   "source": [
    "Note ANOVA can work upon 2 fitted similar lm models for <b> month </b> only and <b> month+week </b> as samples and tell us if they come from same population or not. (ie tell if the models are same or not statistically)"
   ]
  },
  {
   "cell_type": "code",
   "execution_count": 14,
   "metadata": {},
   "outputs": [
    {
     "data": {
      "text/html": [
       "<table>\n",
       "<thead><tr><th scope=col>Res.Df</th><th scope=col>RSS</th><th scope=col>Df</th><th scope=col>Sum of Sq</th><th scope=col>F</th><th scope=col>Pr(&gt;F)</th></tr></thead>\n",
       "<tbody>\n",
       "\t<tr><td>1965        </td><td>2169.875    </td><td>NA          </td><td>      NA    </td><td>      NA    </td><td>          NA</td></tr>\n",
       "\t<tr><td>1959        </td><td>2071.048    </td><td> 6          </td><td>98.82605    </td><td>15.57989    </td><td>1.543093e-17</td></tr>\n",
       "</tbody>\n",
       "</table>\n"
      ],
      "text/latex": [
       "\\begin{tabular}{r|llllll}\n",
       " Res.Df & RSS & Df & Sum of Sq & F & Pr(>F)\\\\\n",
       "\\hline\n",
       "\t 1965         & 2169.875     & NA           &       NA     &       NA     &           NA\\\\\n",
       "\t 1959         & 2071.048     &  6           & 98.82605     & 15.57989     & 1.543093e-17\\\\\n",
       "\\end{tabular}\n"
      ],
      "text/markdown": [
       "\n",
       "| Res.Df | RSS | Df | Sum of Sq | F | Pr(>F) |\n",
       "|---|---|---|---|---|---|\n",
       "| 1965         | 2169.875     | NA           |       NA     |       NA     |           NA |\n",
       "| 1959         | 2071.048     |  6           | 98.82605     | 15.57989     | 1.543093e-17 |\n",
       "\n"
      ],
      "text/plain": [
       "  Res.Df RSS      Df Sum of Sq F        Pr(>F)      \n",
       "1 1965   2169.875 NA       NA        NA           NA\n",
       "2 1959   2071.048  6 98.82605  15.57989 1.543093e-17"
      ]
     },
     "metadata": {},
     "output_type": "display_data"
    }
   ],
   "source": [
    "## Does the addition of seasonality of day of the week adds predictive power? NOTE: trend is not included here\n",
    "lm.fit.seastr.1 = lm(Volume.tr~month)\n",
    "lm.fit.seastr.2 = lm(Volume.tr~month+week)\n",
    "anova(lm.fit.seastr.1,lm.fit.seastr.2)"
   ]
  },
  {
   "cell_type": "markdown",
   "metadata": {},
   "source": [
    "Models have significant mean difference. Hence the month + week model's explanatory power is not by chance and is truly explaining more variance."
   ]
  },
  {
   "cell_type": "code",
   "execution_count": 15,
   "metadata": {},
   "outputs": [
    {
     "data": {
      "image/png": "[encoded data removed]",
      "text/plain": [
       "plot without title"
      ]
     },
     "metadata": {},
     "output_type": "display_data"
    }
   ],
   "source": [
    "vol.fit.lm.seastr.2 = fitted(lm.fit.seastr.2)\n",
    "#week+month+trend\n",
    "plot.ts(vol.fit.gam.seastr.2)\n",
    "#only week+month season\n",
    "lines(vol.fit.lm.seastr.2,lwd=1,col=\"blue\")\n",
    "#only trend\n",
    "lines(vol.fit.gam,lwd=2,col=\"red\")"
   ]
  },
  {
   "cell_type": "markdown",
   "metadata": {},
   "source": [
    "## Residual analysis"
   ]
  },
  {
   "cell_type": "code",
   "execution_count": 24,
   "metadata": {},
   "outputs": [],
   "source": [
    "################## STATIONARITY: RESIDUAL PROCESS ####################\n",
    "## Residual Process: Only Trend Removal\n",
    "resid.1 = Volume.tr-vol.fit.gam\n",
    "## Residual Process: Only Seasonality Removal\n",
    "resid.2 = Volume.tr-vol.fit.lm.seastr.2\n",
    "## Residual Process: Trend & Seasonality Removal\n",
    "resid.3 = Volume.tr-vol.fit.gam.seastr.2\n",
    "y.min = min(c(resid.1,resid.2,resid.3))\n",
    "y.max = max(c(resid.1,resid.2,resid.3))"
   ]
  },
  {
   "cell_type": "code",
   "execution_count": 25,
   "metadata": {},
   "outputs": [
    {
     "data": {
      "image/png": "[encoded data removed]",
      "text/plain": [
       "plot without title"
      ]
     },
     "metadata": {},
     "output_type": "display_data"
    }
   ],
   "source": [
    "plot.ts(resid.1, ylim=c(y.min,y.max))\n",
    "lines(resid.2,col=\"blue\")\n",
    "lines(resid.3,col=\"brown\")"
   ]
  },
  {
   "cell_type": "code",
   "execution_count": 26,
   "metadata": {
    "scrolled": false
   },
   "outputs": [
    {
     "data": {
      "image/png": "[encoded data removed]",
      "text/plain": [
       "Plot with title \"Only Trend removed\""
      ]
     },
     "metadata": {},
     "output_type": "display_data"
    },
    {
     "data": {
      "image/png": "[encoded data removed]",
      "text/plain": [
       "Plot with title \"Only Seasonality removed\""
      ]
     },
     "metadata": {},
     "output_type": "display_data"
    },
    {
     "data": {
      "image/png": "[encoded data removed]",
      "text/plain": [
       "Plot with title \"Both removed\""
      ]
     },
     "metadata": {},
     "output_type": "display_data"
    }
   ],
   "source": [
    "acf(resid.1,lag.max=12*4,main=\"Only Trend removed\")\n",
    "acf(resid.2,lag.max=12*4,main=\"Only Seasonality removed\",col=\"blue\")\n",
    "acf(resid.3,lag.max=12*4,main=\"Both removed\",col=\"brown\")"
   ]
  },
  {
   "cell_type": "markdown",
   "metadata": {},
   "source": [
    "Last residual series(detrended series using both week+months) looks stationary from fast decaying ACF plot as compared to other two. We can apply ARMA on it."
   ]
  }
 ],
 "metadata": {
  "kernelspec": {
   "display_name": "R",
   "language": "R",
   "name": "ir"
  },
  "language_info": {
   "codemirror_mode": "r",
   "file_extension": ".r",
   "mimetype": "text/x-r-source",
   "name": "R",
   "pygments_lexer": "r",
   "version": "3.6.1"
  }
 },
 "nbformat": 4,
 "nbformat_minor": 2
}
