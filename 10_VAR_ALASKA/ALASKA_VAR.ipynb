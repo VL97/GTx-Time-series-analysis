{
 "cells": [
  {
   "cell_type": "code",
   "execution_count": 1,
   "metadata": {},
   "outputs": [
    {
     "name": "stderr",
     "output_type": "stream",
     "text": [
      "\n",
      "Attaching package: 'TSA'\n",
      "\n",
      "The following objects are masked from 'package:stats':\n",
      "\n",
      "    acf, arima\n",
      "\n",
      "The following object is masked from 'package:utils':\n",
      "\n",
      "    tar\n",
      "\n"
     ]
    }
   ],
   "source": [
    "#R Script for Project#\n",
    "library(TSA)\n",
    "\n",
    "data=read.csv(\"MooseData.csv\",header=T)       \n",
    "names(data)=c(\"year\", \"fairbanksPop\", \"mooseHarvest\", \"totalMoose\", \"avgSnow\", \"wolfPop\") \n",
    "\n",
    "years=data[,\"year\"] \n",
    "ts_fairbanksPop=ts(data[,\"fairbanksPop\"],start=1965, freq=1)\n",
    "ts_mooseHarvest=ts(data[,\"mooseHarvest\"],start=1965, freq=1)\n",
    "ts_totalMoose=ts(data[,\"totalMoose\"],start=1965, freq=1)\n",
    "ts_avgSnow=ts(data[,\"avgSnow\"],start=1965, freq=1)\n",
    "ts_wolfPop=ts(data[,\"wolfPop\"],start=1965, freq=1)"
   ]
  },
  {
   "cell_type": "code",
   "execution_count": 2,
   "metadata": {},
   "outputs": [],
   "source": [
    "n = nrow(data)\n",
    "# train data\n",
    "data.train=data[1:(n-4),]\n",
    "# test data\n",
    "data.test=data[(n-3):n,]"
   ]
  },
  {
   "cell_type": "code",
   "execution_count": 3,
   "metadata": {},
   "outputs": [],
   "source": [
    "dts_fairbanksPop= diff(ts_fairbanksPop)\n",
    "dts_mooseHarvest= diff(ts_mooseHarvest)\n",
    "dts_totalMoose= diff(ts_totalMoose)\n",
    "dts_avgSnow= diff(ts_avgSnow)\n",
    "dts_wolfPop= diff(ts_wolfPop)"
   ]
  },
  {
   "cell_type": "code",
   "execution_count": 4,
   "metadata": {},
   "outputs": [
    {
     "name": "stderr",
     "output_type": "stream",
     "text": [
      "Warning message:\n",
      "\"package 'vars' was built under R version 3.6.3\"Loading required package: MASS\n",
      "Warning message:\n",
      "\"package 'MASS' was built under R version 3.6.3\"Loading required package: strucchange\n",
      "Warning message:\n",
      "\"package 'strucchange' was built under R version 3.6.3\"Loading required package: zoo\n",
      "Warning message:\n",
      "\"package 'zoo' was built under R version 3.6.3\"\n",
      "Attaching package: 'zoo'\n",
      "\n",
      "The following objects are masked from 'package:base':\n",
      "\n",
      "    as.Date, as.Date.numeric\n",
      "\n",
      "Loading required package: sandwich\n",
      "Warning message:\n",
      "\"package 'sandwich' was built under R version 3.6.3\"Loading required package: urca\n",
      "Warning message:\n",
      "\"package 'urca' was built under R version 3.6.3\"Loading required package: lmtest\n",
      "Warning message:\n",
      "\"package 'lmtest' was built under R version 3.6.3\""
     ]
    },
    {
     "data": {
      "text/html": [
       "<dl class=dl-horizontal>\n",
       "\t<dt>AIC(n)</dt>\n",
       "\t\t<dd>4</dd>\n",
       "\t<dt>HQ(n)</dt>\n",
       "\t\t<dd>4</dd>\n",
       "\t<dt>SC(n)</dt>\n",
       "\t\t<dd>4</dd>\n",
       "\t<dt>FPE(n)</dt>\n",
       "\t\t<dd>5</dd>\n",
       "</dl>\n"
      ],
      "text/latex": [
       "\\begin{description*}\n",
       "\\item[AIC(n)] 4\n",
       "\\item[HQ(n)] 4\n",
       "\\item[SC(n)] 4\n",
       "\\item[FPE(n)] 5\n",
       "\\end{description*}\n"
      ],
      "text/markdown": [
       "AIC(n)\n",
       ":   4HQ(n)\n",
       ":   4SC(n)\n",
       ":   4FPE(n)\n",
       ":   5\n",
       "\n"
      ],
      "text/plain": [
       "AIC(n)  HQ(n)  SC(n) FPE(n) \n",
       "     4      4      4      5 "
      ]
     },
     "metadata": {},
     "output_type": "display_data"
    }
   ],
   "source": [
    "library(vars)\n",
    "###VAR Model##\n",
    "ddata.train=cbind(dts_fairbanksPop,dts_mooseHarvest,dts_totalMoose, dts_avgSnow,dts_wolfPop)\n",
    "##Model Selection\n",
    "VARselect(ddata.train, lag.max = 20)$selection"
   ]
  },
  {
   "cell_type": "code",
   "execution_count": 5,
   "metadata": {
    "scrolled": false
   },
   "outputs": [
    {
     "data": {
      "text/plain": [
       "\n",
       "VAR Estimation Results:\n",
       "========================= \n",
       "Endogenous variables: dts_fairbanksPop, dts_mooseHarvest, dts_totalMoose, dts_avgSnow, dts_wolfPop \n",
       "Deterministic variables: const \n",
       "Sample size: 37 \n",
       "Log Likelihood: -1087.283 \n",
       "Roots of the characteristic polynomial:\n",
       "0.9182 0.9182 0.9142 0.9142 0.8961 0.8961 0.8576 0.8576 0.8313 0.8313 0.7272 0.7272 0.7175 0.6669 0.6037 0.6037 0.6001 0.6001 0.3117 0.02105\n",
       "Call:\n",
       "VAR(y = ddata.train, p = 4)\n",
       "\n",
       "\n",
       "Estimation results for equation dts_fairbanksPop: \n",
       "================================================= \n",
       "dts_fairbanksPop = dts_fairbanksPop.l1 + dts_mooseHarvest.l1 + dts_totalMoose.l1 + dts_avgSnow.l1 + dts_wolfPop.l1 + dts_fairbanksPop.l2 + dts_mooseHarvest.l2 + dts_totalMoose.l2 + dts_avgSnow.l2 + dts_wolfPop.l2 + dts_fairbanksPop.l3 + dts_mooseHarvest.l3 + dts_totalMoose.l3 + dts_avgSnow.l3 + dts_wolfPop.l3 + dts_fairbanksPop.l4 + dts_mooseHarvest.l4 + dts_totalMoose.l4 + dts_avgSnow.l4 + dts_wolfPop.l4 + const \n",
       "\n",
       "                      Estimate Std. Error t value Pr(>|t|)  \n",
       "dts_fairbanksPop.l1    0.07998    0.27906   0.287   0.7781  \n",
       "dts_mooseHarvest.l1   -2.93306    4.55915  -0.643   0.5291  \n",
       "dts_totalMoose.l1      0.90447    0.83357   1.085   0.2940  \n",
       "dts_avgSnow.l1         1.86241   82.93178   0.022   0.9824  \n",
       "dts_wolfPop.l1        19.50826   27.81239   0.701   0.4931  \n",
       "dts_fairbanksPop.l2   -0.63222    0.27948  -2.262   0.0380 *\n",
       "dts_mooseHarvest.l2    4.42490    4.09804   1.080   0.2963  \n",
       "dts_totalMoose.l2     -0.57380    1.00154  -0.573   0.5747  \n",
       "dts_avgSnow.l2       -42.69268  109.70078  -0.389   0.7023  \n",
       "dts_wolfPop.l2       -12.64527   26.54299  -0.476   0.6402  \n",
       "dts_fairbanksPop.l3    0.26041    0.25497   1.021   0.3223  \n",
       "dts_mooseHarvest.l3   -3.79124    5.98297  -0.634   0.5352  \n",
       "dts_totalMoose.l3      0.41720    1.08151   0.386   0.7048  \n",
       "dts_avgSnow.l3        27.18487  111.56716   0.244   0.8106  \n",
       "dts_wolfPop.l3        34.27114   22.82946   1.501   0.1528  \n",
       "dts_fairbanksPop.l4   -0.10865    0.24084  -0.451   0.6580  \n",
       "dts_mooseHarvest.l4   -1.64191    6.61822  -0.248   0.8072  \n",
       "dts_totalMoose.l4      0.10597    0.71999   0.147   0.8848  \n",
       "dts_avgSnow.l4       -27.74662   84.14976  -0.330   0.7459  \n",
       "dts_wolfPop.l4       -13.04173   21.84749  -0.597   0.5589  \n",
       "const               1480.79617  847.65356   1.747   0.0998 .\n",
       "---\n",
       "Signif. codes:  0 '***' 0.001 '**' 0.01 '*' 0.05 '.' 0.1 ' ' 1\n",
       "\n",
       "\n",
       "Residual standard error: 2900 on 16 degrees of freedom\n",
       "Multiple R-Squared: 0.6531,\tAdjusted R-squared: 0.2196 \n",
       "F-statistic: 1.506 on 20 and 16 DF,  p-value: 0.2047 \n",
       "\n",
       "\n",
       "Estimation results for equation dts_mooseHarvest: \n",
       "================================================= \n",
       "dts_mooseHarvest = dts_fairbanksPop.l1 + dts_mooseHarvest.l1 + dts_totalMoose.l1 + dts_avgSnow.l1 + dts_wolfPop.l1 + dts_fairbanksPop.l2 + dts_mooseHarvest.l2 + dts_totalMoose.l2 + dts_avgSnow.l2 + dts_wolfPop.l2 + dts_fairbanksPop.l3 + dts_mooseHarvest.l3 + dts_totalMoose.l3 + dts_avgSnow.l3 + dts_wolfPop.l3 + dts_fairbanksPop.l4 + dts_mooseHarvest.l4 + dts_totalMoose.l4 + dts_avgSnow.l4 + dts_wolfPop.l4 + const \n",
       "\n",
       "                     Estimate Std. Error t value Pr(>|t|)   \n",
       "dts_fairbanksPop.l1 -0.024715   0.011145  -2.218  0.04140 * \n",
       "dts_mooseHarvest.l1 -0.110601   0.182078  -0.607  0.55209   \n",
       "dts_totalMoose.l1   -0.070776   0.033290  -2.126  0.04942 * \n",
       "dts_avgSnow.l1      -4.929604   3.312036  -1.488  0.15609   \n",
       "dts_wolfPop.l1       0.790707   1.110740   0.712  0.48679   \n",
       "dts_fairbanksPop.l2  0.008446   0.011162   0.757  0.46023   \n",
       "dts_mooseHarvest.l2 -0.402921   0.163663  -2.462  0.02556 * \n",
       "dts_totalMoose.l2    0.047828   0.039999   1.196  0.24922   \n",
       "dts_avgSnow.l2      -5.087574   4.381106  -1.161  0.26257   \n",
       "dts_wolfPop.l2       2.182667   1.060044   2.059  0.05615 . \n",
       "dts_fairbanksPop.l3 -0.017531   0.010183  -1.722  0.10442   \n",
       "dts_mooseHarvest.l3 -0.141562   0.238941  -0.592  0.56183   \n",
       "dts_totalMoose.l3    0.073798   0.043192   1.709  0.10685   \n",
       "dts_avgSnow.l3      -8.164104   4.455644  -1.832  0.08558 . \n",
       "dts_wolfPop.l3       0.247989   0.911737   0.272  0.78910   \n",
       "dts_fairbanksPop.l4 -0.011710   0.009618  -1.217  0.24110   \n",
       "dts_mooseHarvest.l4 -0.809677   0.264311  -3.063  0.00743 **\n",
       "dts_totalMoose.l4   -0.001719   0.028754  -0.060  0.95306   \n",
       "dts_avgSnow.l4      -3.482531   3.360678  -1.036  0.31549   \n",
       "dts_wolfPop.l4       0.558618   0.872520   0.640  0.53108   \n",
       "const               81.639735  33.852632   2.412  0.02826 * \n",
       "---\n",
       "Signif. codes:  0 '***' 0.001 '**' 0.01 '*' 0.05 '.' 0.1 ' ' 1\n",
       "\n",
       "\n",
       "Residual standard error: 115.8 on 16 degrees of freedom\n",
       "Multiple R-Squared: 0.7731,\tAdjusted R-squared: 0.4895 \n",
       "F-statistic: 2.726 on 20 and 16 DF,  p-value: 0.0232 \n",
       "\n",
       "\n",
       "Estimation results for equation dts_totalMoose: \n",
       "=============================================== \n",
       "dts_totalMoose = dts_fairbanksPop.l1 + dts_mooseHarvest.l1 + dts_totalMoose.l1 + dts_avgSnow.l1 + dts_wolfPop.l1 + dts_fairbanksPop.l2 + dts_mooseHarvest.l2 + dts_totalMoose.l2 + dts_avgSnow.l2 + dts_wolfPop.l2 + dts_fairbanksPop.l3 + dts_mooseHarvest.l3 + dts_totalMoose.l3 + dts_avgSnow.l3 + dts_wolfPop.l3 + dts_fairbanksPop.l4 + dts_mooseHarvest.l4 + dts_totalMoose.l4 + dts_avgSnow.l4 + dts_wolfPop.l4 + const \n",
       "\n",
       "                      Estimate Std. Error t value Pr(>|t|)\n",
       "dts_fairbanksPop.l1    0.10513    0.08757   1.201    0.247\n",
       "dts_mooseHarvest.l1   -1.08277    1.43064  -0.757    0.460\n",
       "dts_totalMoose.l1      0.31922    0.26157   1.220    0.240\n",
       "dts_avgSnow.l1        -3.89803   26.02359  -0.150    0.883\n",
       "dts_wolfPop.l1        11.31583    8.72739   1.297    0.213\n",
       "dts_fairbanksPop.l2    0.10767    0.08770   1.228    0.237\n",
       "dts_mooseHarvest.l2   -1.44589    1.28595  -1.124    0.277\n",
       "dts_totalMoose.l2     -0.03258    0.31428  -0.104    0.919\n",
       "dts_avgSnow.l2         3.19257   34.42357   0.093    0.927\n",
       "dts_wolfPop.l2        -5.60440    8.32906  -0.673    0.511\n",
       "dts_fairbanksPop.l3    0.06063    0.08001   0.758    0.460\n",
       "dts_mooseHarvest.l3   -1.61019    1.87743  -0.858    0.404\n",
       "dts_totalMoose.l3     -0.22225    0.33937  -0.655    0.522\n",
       "dts_avgSnow.l3       -10.53044   35.00923  -0.301    0.767\n",
       "dts_wolfPop.l3        -2.11952    7.16377  -0.296    0.771\n",
       "dts_fairbanksPop.l4    0.07412    0.07557   0.981    0.341\n",
       "dts_mooseHarvest.l4   -0.98080    2.07676  -0.472    0.643\n",
       "dts_totalMoose.l4      0.23267    0.22593   1.030    0.318\n",
       "dts_avgSnow.l4         3.43297   26.40578   0.130    0.898\n",
       "dts_wolfPop.l4         0.58720    6.85564   0.086    0.933\n",
       "const               -182.37954  265.98956  -0.686    0.503\n",
       "\n",
       "\n",
       "Residual standard error: 909.9 on 16 degrees of freedom\n",
       "Multiple R-Squared: 0.6535,\tAdjusted R-squared: 0.2203 \n",
       "F-statistic: 1.509 on 20 and 16 DF,  p-value: 0.2039 \n",
       "\n",
       "\n",
       "Estimation results for equation dts_avgSnow: \n",
       "============================================ \n",
       "dts_avgSnow = dts_fairbanksPop.l1 + dts_mooseHarvest.l1 + dts_totalMoose.l1 + dts_avgSnow.l1 + dts_wolfPop.l1 + dts_fairbanksPop.l2 + dts_mooseHarvest.l2 + dts_totalMoose.l2 + dts_avgSnow.l2 + dts_wolfPop.l2 + dts_fairbanksPop.l3 + dts_mooseHarvest.l3 + dts_totalMoose.l3 + dts_avgSnow.l3 + dts_wolfPop.l3 + dts_fairbanksPop.l4 + dts_mooseHarvest.l4 + dts_totalMoose.l4 + dts_avgSnow.l4 + dts_wolfPop.l4 + const \n",
       "\n",
       "                      Estimate Std. Error t value Pr(>|t|)   \n",
       "dts_fairbanksPop.l1  0.0006240  0.0008310   0.751  0.46361   \n",
       "dts_mooseHarvest.l1 -0.0101956  0.0135767  -0.751  0.46358   \n",
       "dts_totalMoose.l1   -0.0039817  0.0024823  -1.604  0.12826   \n",
       "dts_avgSnow.l1      -0.8476867  0.2469626  -3.432  0.00342 **\n",
       "dts_wolfPop.l1       0.0038251  0.0828225   0.046  0.96373   \n",
       "dts_fairbanksPop.l2 -0.0005509  0.0008323  -0.662  0.51746   \n",
       "dts_mooseHarvest.l2  0.0015342  0.0122036   0.126  0.90152   \n",
       "dts_totalMoose.l2    0.0020062  0.0029825   0.673  0.51076   \n",
       "dts_avgSnow.l2      -0.6479137  0.3266781  -1.983  0.06476 . \n",
       "dts_wolfPop.l2       0.1041131  0.0790424   1.317  0.20633   \n",
       "dts_fairbanksPop.l3 -0.0004241  0.0007593  -0.559  0.58417   \n",
       "dts_mooseHarvest.l3 -0.0354275  0.0178167  -1.988  0.06415 . \n",
       "dts_totalMoose.l3    0.0039219  0.0032206   1.218  0.24097   \n",
       "dts_avgSnow.l3      -0.2634864  0.3322360  -0.793  0.43934   \n",
       "dts_wolfPop.l3       0.0123086  0.0679839   0.181  0.85860   \n",
       "dts_fairbanksPop.l4 -0.0014253  0.0007172  -1.987  0.06428 . \n",
       "dts_mooseHarvest.l4 -0.0045821  0.0197084  -0.232  0.81910   \n",
       "dts_totalMoose.l4   -0.0019064  0.0021441  -0.889  0.38709   \n",
       "dts_avgSnow.l4      -0.2882639  0.2505896  -1.150  0.26691   \n",
       "dts_wolfPop.l4       0.0521374  0.0650597   0.801  0.43465   \n",
       "const                2.4667842  2.5242283   0.977  0.34299   \n",
       "---\n",
       "Signif. codes:  0 '***' 0.001 '**' 0.01 '*' 0.05 '.' 0.1 ' ' 1\n",
       "\n",
       "\n",
       "Residual standard error: 8.635 on 16 degrees of freedom\n",
       "Multiple R-Squared: 0.6983,\tAdjusted R-squared: 0.3211 \n",
       "F-statistic: 1.852 on 20 and 16 DF,  p-value: 0.1076 \n",
       "\n",
       "\n",
       "Estimation results for equation dts_wolfPop: \n",
       "============================================ \n",
       "dts_wolfPop = dts_fairbanksPop.l1 + dts_mooseHarvest.l1 + dts_totalMoose.l1 + dts_avgSnow.l1 + dts_wolfPop.l1 + dts_fairbanksPop.l2 + dts_mooseHarvest.l2 + dts_totalMoose.l2 + dts_avgSnow.l2 + dts_wolfPop.l2 + dts_fairbanksPop.l3 + dts_mooseHarvest.l3 + dts_totalMoose.l3 + dts_avgSnow.l3 + dts_wolfPop.l3 + dts_fairbanksPop.l4 + dts_mooseHarvest.l4 + dts_totalMoose.l4 + dts_avgSnow.l4 + dts_wolfPop.l4 + const \n",
       "\n",
       "                      Estimate Std. Error t value Pr(>|t|)  \n",
       "dts_fairbanksPop.l1 -0.0033428  0.0024472  -1.366   0.1908  \n",
       "dts_mooseHarvest.l1 -0.0061530  0.0399814  -0.154   0.8796  \n",
       "dts_totalMoose.l1    0.0025122  0.0073100   0.344   0.7356  \n",
       "dts_avgSnow.l1       0.6516330  0.7272702   0.896   0.3835  \n",
       "dts_wolfPop.l1      -0.0570757  0.2439008  -0.234   0.8179  \n",
       "dts_fairbanksPop.l2 -0.0031040  0.0024509  -1.266   0.2235  \n",
       "dts_mooseHarvest.l2  0.0867801  0.0359378   2.415   0.0281 *\n",
       "dts_totalMoose.l2    0.0197751  0.0087830   2.252   0.0388 *\n",
       "dts_avgSnow.l2       2.3400133  0.9620209   2.432   0.0271 *\n",
       "dts_wolfPop.l2      -0.0481433  0.2327688  -0.207   0.8388  \n",
       "dts_fairbanksPop.l3 -0.0024990  0.0022360  -1.118   0.2802  \n",
       "dts_mooseHarvest.l3  0.0358723  0.0524677   0.684   0.5039  \n",
       "dts_totalMoose.l3    0.0019661  0.0094843   0.207   0.8384  \n",
       "dts_avgSnow.l3       0.7331870  0.9783882   0.749   0.4645  \n",
       "dts_wolfPop.l3      -0.0760963  0.2002029  -0.380   0.7089  \n",
       "dts_fairbanksPop.l4 -0.0014929  0.0021121  -0.707   0.4898  \n",
       "dts_mooseHarvest.l4  0.0533386  0.0580385   0.919   0.3717  \n",
       "dts_totalMoose.l4   -0.0006799  0.0063140  -0.108   0.9156  \n",
       "dts_avgSnow.l4      -0.1641023  0.7379513  -0.222   0.8268  \n",
       "dts_wolfPop.l4      -0.2405424  0.1915916  -1.255   0.2273  \n",
       "const                5.8929011  7.4334973   0.793   0.4395  \n",
       "---\n",
       "Signif. codes:  0 '***' 0.001 '**' 0.01 '*' 0.05 '.' 0.1 ' ' 1\n",
       "\n",
       "\n",
       "Residual standard error: 25.43 on 16 degrees of freedom\n",
       "Multiple R-Squared: 0.6916,\tAdjusted R-squared: 0.3062 \n",
       "F-statistic: 1.794 on 20 and 16 DF,  p-value: 0.1196 \n",
       "\n",
       "\n",
       "\n",
       "Covariance matrix of residuals:\n",
       "                 dts_fairbanksPop dts_mooseHarvest dts_totalMoose dts_avgSnow\n",
       "dts_fairbanksPop          8407301         -79723.8        -695830    11561.89\n",
       "dts_mooseHarvest           -79724          13409.3         -21285     -382.48\n",
       "dts_totalMoose            -695830         -21285.1         827845    -1002.29\n",
       "dts_avgSnow                 11562           -382.5          -1002       74.56\n",
       "dts_wolfPop                 17155            424.5           2539       97.10\n",
       "                 dts_wolfPop\n",
       "dts_fairbanksPop     17154.7\n",
       "dts_mooseHarvest       424.5\n",
       "dts_totalMoose        2538.9\n",
       "dts_avgSnow             97.1\n",
       "dts_wolfPop            646.6\n",
       "\n",
       "Correlation matrix of residuals:\n",
       "                 dts_fairbanksPop dts_mooseHarvest dts_totalMoose dts_avgSnow\n",
       "dts_fairbanksPop           1.0000          -0.2374        -0.2638      0.4618\n",
       "dts_mooseHarvest          -0.2374           1.0000        -0.2020     -0.3825\n",
       "dts_totalMoose            -0.2638          -0.2020         1.0000     -0.1276\n",
       "dts_avgSnow                0.4618          -0.3825        -0.1276      1.0000\n",
       "dts_wolfPop                0.2327           0.1442         0.1097      0.4423\n",
       "                 dts_wolfPop\n",
       "dts_fairbanksPop      0.2327\n",
       "dts_mooseHarvest      0.1442\n",
       "dts_totalMoose        0.1097\n",
       "dts_avgSnow           0.4423\n",
       "dts_wolfPop           1.0000\n",
       "\n"
      ]
     },
     "metadata": {},
     "output_type": "display_data"
    }
   ],
   "source": [
    "## Model Fitting: Unrestricted VAR\n",
    "model.var=VAR(ddata.train, p=4)\n",
    "summary(model.var)"
   ]
  },
  {
   "cell_type": "code",
   "execution_count": 6,
   "metadata": {
    "scrolled": false
   },
   "outputs": [
    {
     "data": {
      "text/plain": [
       "\n",
       "VAR Estimation Results:\n",
       "========================= \n",
       "Endogenous variables: dts_fairbanksPop, dts_mooseHarvest, dts_totalMoose, dts_avgSnow, dts_wolfPop \n",
       "Deterministic variables: const \n",
       "Sample size: 37 \n",
       "Log Likelihood: -1136.004 \n",
       "Roots of the characteristic polynomial:\n",
       "0.8925 0.8925 0.8546 0.8546 0.8418 0.8418 0.7902 0.7902 0.7736 0.7736 0.7413 0.7413 0.6599 0.5599 0.4592 0.4592 1.028e-06 1.028e-06 1.028e-06     0\n",
       "Call:\n",
       "VAR(y = ddata.train, p = 4)\n",
       "\n",
       "\n",
       "Estimation results for equation dts_fairbanksPop: \n",
       "================================================= \n",
       "dts_fairbanksPop = dts_totalMoose.l1 + dts_fairbanksPop.l2 + dts_avgSnow.l3 + dts_wolfPop.l3 + const \n",
       "\n",
       "                     Estimate Std. Error t value Pr(>|t|)    \n",
       "dts_totalMoose.l1      0.9983     0.4223   2.364 0.024325 *  \n",
       "dts_fairbanksPop.l2   -0.6592     0.1322  -4.987 2.06e-05 ***\n",
       "dts_avgSnow.l3        97.3214    43.3835   2.243 0.031931 *  \n",
       "dts_wolfPop.l3        29.6366    13.7399   2.157 0.038624 *  \n",
       "const               1605.7093   417.3997   3.847 0.000537 ***\n",
       "---\n",
       "Signif. codes:  0 '***' 0.001 '**' 0.01 '*' 0.05 '.' 0.1 ' ' 1\n",
       "\n",
       "\n",
       "Residual standard error: 2443 on 32 degrees of freedom\n",
       "Multiple R-Squared: 0.5533,\tAdjusted R-squared: 0.4836 \n",
       "F-statistic: 7.929 on 5 and 32 DF,  p-value: 5.971e-05 \n",
       "\n",
       "\n",
       "Estimation results for equation dts_mooseHarvest: \n",
       "================================================= \n",
       "dts_mooseHarvest = dts_fairbanksPop.l1 + dts_totalMoose.l1 + dts_mooseHarvest.l2 + dts_totalMoose.l2 + dts_wolfPop.l2 + dts_fairbanksPop.l3 + dts_totalMoose.l3 + dts_mooseHarvest.l4 + const \n",
       "\n",
       "                     Estimate Std. Error t value Pr(>|t|)    \n",
       "dts_fairbanksPop.l1 -0.031392   0.007210  -4.354 0.000162 ***\n",
       "dts_totalMoose.l1   -0.066848   0.024009  -2.784 0.009507 ** \n",
       "dts_mooseHarvest.l2 -0.521526   0.130722  -3.990 0.000432 ***\n",
       "dts_totalMoose.l2    0.064439   0.027163   2.372 0.024786 *  \n",
       "dts_wolfPop.l2       1.977956   0.802024   2.466 0.020043 *  \n",
       "dts_fairbanksPop.l3 -0.023341   0.007015  -3.327 0.002462 ** \n",
       "dts_totalMoose.l3    0.075993   0.022024   3.450 0.001793 ** \n",
       "dts_mooseHarvest.l4 -0.515636   0.177205  -2.910 0.007012 ** \n",
       "const               85.330426  21.317567   4.003 0.000417 ***\n",
       "---\n",
       "Signif. codes:  0 '***' 0.001 '**' 0.01 '*' 0.05 '.' 0.1 ' ' 1\n",
       "\n",
       "\n",
       "Residual standard error: 108.3 on 28 degrees of freedom\n",
       "Multiple R-Squared: 0.6573,\tAdjusted R-squared: 0.5472 \n",
       "F-statistic: 5.968 on 9 and 28 DF,  p-value: 0.0001185 \n",
       "\n",
       "\n",
       "Estimation results for equation dts_totalMoose: \n",
       "=============================================== \n",
       "dts_totalMoose = dts_fairbanksPop.l1 + dts_totalMoose.l1 \n",
       "\n",
       "                    Estimate Std. Error t value Pr(>|t|)    \n",
       "dts_fairbanksPop.l1  0.09042    0.03728   2.426   0.0206 *  \n",
       "dts_totalMoose.l1    0.60213    0.12645   4.762 3.29e-05 ***\n",
       "---\n",
       "Signif. codes:  0 '***' 0.001 '**' 0.01 '*' 0.05 '.' 0.1 ' ' 1\n",
       "\n",
       "\n",
       "Residual standard error: 781.4 on 35 degrees of freedom\n",
       "Multiple R-Squared: 0.441,\tAdjusted R-squared: 0.409 \n",
       "F-statistic:  13.8 on 2 and 35 DF,  p-value: 3.804e-05 \n",
       "\n",
       "\n",
       "Estimation results for equation dts_avgSnow: \n",
       "============================================ \n",
       "dts_avgSnow = dts_fairbanksPop.l1 + dts_totalMoose.l1 + dts_avgSnow.l1 + dts_avgSnow.l2 + dts_mooseHarvest.l3 + dts_totalMoose.l3 + dts_fairbanksPop.l4 + dts_totalMoose.l4 \n",
       "\n",
       "                      Estimate Std. Error t value Pr(>|t|)    \n",
       "dts_fairbanksPop.l1  0.0011069  0.0004617   2.398  0.02316 *  \n",
       "dts_totalMoose.l1   -0.0039866  0.0015246  -2.615  0.01402 *  \n",
       "dts_avgSnow.l1      -0.8603183  0.1623452  -5.299  1.1e-05 ***\n",
       "dts_avgSnow.l2      -0.5599470  0.1534051  -3.650  0.00103 ** \n",
       "dts_mooseHarvest.l3 -0.0320628  0.0103329  -3.103  0.00425 ** \n",
       "dts_totalMoose.l3    0.0054188  0.0019503   2.778  0.00948 ** \n",
       "dts_fairbanksPop.l4 -0.0011183  0.0004520  -2.474  0.01944 *  \n",
       "dts_totalMoose.l4   -0.0027867  0.0013508  -2.063  0.04817 *  \n",
       "---\n",
       "Signif. codes:  0 '***' 0.001 '**' 0.01 '*' 0.05 '.' 0.1 ' ' 1\n",
       "\n",
       "\n",
       "Residual standard error: 7.617 on 29 degrees of freedom\n",
       "Multiple R-Squared: 0.5745,\tAdjusted R-squared: 0.4572 \n",
       "F-statistic: 4.895 on 8 and 29 DF,  p-value: 0.0006797 \n",
       "\n",
       "\n",
       "Estimation results for equation dts_wolfPop: \n",
       "============================================ \n",
       "dts_wolfPop = dts_mooseHarvest.l2 + dts_totalMoose.l2 + dts_avgSnow.l2 + dts_wolfPop.l4 \n",
       "\n",
       "                     Estimate Std. Error t value Pr(>|t|)    \n",
       "dts_mooseHarvest.l2  0.087408   0.022000   3.973 0.000363 ***\n",
       "dts_totalMoose.l2    0.011759   0.003468   3.391 0.001823 ** \n",
       "dts_avgSnow.l2       1.379375   0.393277   3.507 0.001328 ** \n",
       "dts_wolfPop.l4      -0.311990   0.115961  -2.690 0.011109 *  \n",
       "---\n",
       "Signif. codes:  0 '***' 0.001 '**' 0.01 '*' 0.05 '.' 0.1 ' ' 1\n",
       "\n",
       "\n",
       "Residual standard error: 21.2 on 33 degrees of freedom\n",
       "Multiple R-Squared: 0.5588,\tAdjusted R-squared: 0.5053 \n",
       "F-statistic: 10.45 on 4 and 33 DF,  p-value: 1.402e-05 \n",
       "\n",
       "\n",
       "\n",
       "Covariance matrix of residuals:\n",
       "                 dts_fairbanksPop dts_mooseHarvest dts_totalMoose dts_avgSnow\n",
       "dts_fairbanksPop         11937934         -46912.4      -316033.6      9252.6\n",
       "dts_mooseHarvest           -46912          20514.4       -23270.9      -266.6\n",
       "dts_totalMoose            -316034         -23270.9      1320617.1     -2775.0\n",
       "dts_avgSnow                  9253           -266.6        -2775.0       104.5\n",
       "dts_wolfPop                 17802            138.7         -600.4       125.2\n",
       "                 dts_wolfPop\n",
       "dts_fairbanksPop     17801.7\n",
       "dts_mooseHarvest       138.7\n",
       "dts_totalMoose        -600.4\n",
       "dts_avgSnow            125.2\n",
       "dts_wolfPop            910.8\n",
       "\n",
       "Correlation matrix of residuals:\n",
       "                 dts_fairbanksPop dts_mooseHarvest dts_totalMoose dts_avgSnow\n",
       "dts_fairbanksPop          1.00000          -0.0948       -0.07959      0.2620\n",
       "dts_mooseHarvest         -0.09480           1.0000       -0.14138     -0.1821\n",
       "dts_totalMoose           -0.07959          -0.1414        1.00000     -0.2363\n",
       "dts_avgSnow               0.26201          -0.1821       -0.23626      1.0000\n",
       "dts_wolfPop               0.17072           0.0321       -0.01731      0.4058\n",
       "                 dts_wolfPop\n",
       "dts_fairbanksPop     0.17072\n",
       "dts_mooseHarvest     0.03210\n",
       "dts_totalMoose      -0.01731\n",
       "dts_avgSnow          0.40576\n",
       "dts_wolfPop          1.00000\n",
       "\n"
      ]
     },
     "metadata": {},
     "output_type": "display_data"
    }
   ],
   "source": [
    "## Model Fitting: Restricted VAR\n",
    "model.var.restrict=restrict(model.var)  \n",
    "summary(model.var.restrict)"
   ]
  },
  {
   "cell_type": "markdown",
   "metadata": {},
   "source": [
    "we apply wald test for dts_totalMoose to reconicle with above restricted model if the other time series granger cause it."
   ]
  },
  {
   "cell_type": "code",
   "execution_count": 7,
   "metadata": {},
   "outputs": [
    {
     "name": "stderr",
     "output_type": "stream",
     "text": [
      "Warning message:\n",
      "\"package 'aod' was built under R version 3.6.3\""
     ]
    },
    {
     "data": {
      "text/plain": [
       "Wald test:\n",
       "----------\n",
       "\n",
       "Chi-squared test:\n",
       "X2 = 3.9e-05, df = 4, P(> X2) = 1.0"
      ]
     },
     "metadata": {},
     "output_type": "display_data"
    },
    {
     "data": {
      "text/plain": [
       "Wald test:\n",
       "----------\n",
       "\n",
       "Chi-squared test:\n",
       "X2 = 60.8, df = 4, P(> X2) = 2e-12"
      ]
     },
     "metadata": {},
     "output_type": "display_data"
    },
    {
     "data": {
      "text/plain": [
       "Wald test:\n",
       "----------\n",
       "\n",
       "Chi-squared test:\n",
       "X2 = 128.5, df = 4, P(> X2) = 0.0"
      ]
     },
     "metadata": {},
     "output_type": "display_data"
    },
    {
     "data": {
      "text/plain": [
       "Wald test:\n",
       "----------\n",
       "\n",
       "Chi-squared test:\n",
       "X2 = 0.051, df = 4, P(> X2) = 1.0"
      ]
     },
     "metadata": {},
     "output_type": "display_data"
    },
    {
     "data": {
      "text/plain": [
       "Wald test:\n",
       "----------\n",
       "\n",
       "Chi-squared test:\n",
       "X2 = 0.063, df = 8, P(> X2) = 1.0"
      ]
     },
     "metadata": {},
     "output_type": "display_data"
    }
   ],
   "source": [
    "## Granger Causality: Wald Test\n",
    "library(aod)\n",
    "coef.moosepop = coefficients(model.var)$dts_totalMoose[-(5*4+1),1]\n",
    "var.model = vcov(model.var)[1:(5*4),1:(5*4)]\n",
    "## Granger Causality: Fairbanks Population\n",
    "wald.test(b=coef.moosepop, var.model, Terms=seq(1, 5*4, 5))\n",
    "## Granger Causality: Moose Harvest\n",
    "wald.test(b=coef.moosepop, var.model, Terms=seq(2, 5*4, 5))\n",
    "## Granger Causality: Average Snow Fall\n",
    "wald.test(b=coef.moosepop, var.model, Terms=seq(4, 5*4, 5))\n",
    "## Granger Causality: Wolf Population\n",
    "wald.test(b=coef.moosepop, var.model, Terms=seq(5, 5*4, 5))\n",
    "## Granger Causality: Wolf Population & Fairbanks Population\n",
    "wald.test(b=coef.moosepop, var.model, Terms=c(seq(1, 5*4, 5),seq(5, 5*4, 5)))"
   ]
  },
  {
   "cell_type": "markdown",
   "metadata": {},
   "source": [
    "Moose Harvest and Snowfall granger cause Moose population. Now we use them for VAR:"
   ]
  },
  {
   "cell_type": "code",
   "execution_count": 8,
   "metadata": {},
   "outputs": [
    {
     "name": "stderr",
     "output_type": "stream",
     "text": [
      "Warning message in log(sigma.det):\n",
      "\"NaNs produced\"Warning message in log(sigma.det):\n",
      "\"NaNs produced\"Warning message in log(sigma.det):\n",
      "\"NaNs produced\""
     ]
    },
    {
     "data": {
      "text/html": [
       "<dl class=dl-horizontal>\n",
       "\t<dt>AIC(n)</dt>\n",
       "\t\t<dd>7</dd>\n",
       "\t<dt>HQ(n)</dt>\n",
       "\t\t<dd>7</dd>\n",
       "\t<dt>SC(n)</dt>\n",
       "\t\t<dd>7</dd>\n",
       "\t<dt>FPE(n)</dt>\n",
       "\t\t<dd>6</dd>\n",
       "</dl>\n"
      ],
      "text/latex": [
       "\\begin{description*}\n",
       "\\item[AIC(n)] 7\n",
       "\\item[HQ(n)] 7\n",
       "\\item[SC(n)] 7\n",
       "\\item[FPE(n)] 6\n",
       "\\end{description*}\n"
      ],
      "text/markdown": [
       "AIC(n)\n",
       ":   7HQ(n)\n",
       ":   7SC(n)\n",
       ":   7FPE(n)\n",
       ":   6\n",
       "\n"
      ],
      "text/plain": [
       "AIC(n)  HQ(n)  SC(n) FPE(n) \n",
       "     7      7      7      6 "
      ]
     },
     "metadata": {},
     "output_type": "display_data"
    }
   ],
   "source": [
    "## Model Selection\n",
    "ddata.train=cbind(dts_mooseHarvest,dts_totalMoose, dts_avgSnow)\n",
    "VARselect(ddata.train, lag.max = 20)$selection"
   ]
  },
  {
   "cell_type": "code",
   "execution_count": 9,
   "metadata": {
    "scrolled": false
   },
   "outputs": [
    {
     "data": {
      "text/plain": [
       "\n",
       "VAR Estimation Results:\n",
       "========================= \n",
       "Endogenous variables: dts_mooseHarvest, dts_totalMoose, dts_avgSnow \n",
       "Deterministic variables: const \n",
       "Sample size: 36 \n",
       "Log Likelihood: -618.765 \n",
       "Roots of the characteristic polynomial:\n",
       "0.8705 0.8705 0.8455 0.8455 0.7863 0.7863 0.7444 0.7444 0.7008 0.6114 0.6114 0.5658 0.5658 0.4987 0.4987\n",
       "Call:\n",
       "VAR(y = ddata.train, p = 5)\n",
       "\n",
       "\n",
       "Estimation results for equation dts_mooseHarvest: \n",
       "================================================= \n",
       "dts_mooseHarvest = dts_mooseHarvest.l1 + dts_totalMoose.l1 + dts_avgSnow.l1 + dts_mooseHarvest.l2 + dts_totalMoose.l2 + dts_avgSnow.l2 + dts_mooseHarvest.l3 + dts_totalMoose.l3 + dts_avgSnow.l3 + dts_mooseHarvest.l4 + dts_totalMoose.l4 + dts_avgSnow.l4 + dts_mooseHarvest.l5 + dts_totalMoose.l5 + dts_avgSnow.l5 + const \n",
       "\n",
       "                    Estimate Std. Error t value Pr(>|t|)  \n",
       "dts_mooseHarvest.l1  0.06282    0.21323   0.295   0.7713  \n",
       "dts_totalMoose.l1   -0.01749    0.03616  -0.484   0.6339  \n",
       "dts_avgSnow.l1      -3.96904    3.44553  -1.152   0.2629  \n",
       "dts_mooseHarvest.l2 -0.27427    0.19142  -1.433   0.1673  \n",
       "dts_totalMoose.l2    0.01475    0.03794   0.389   0.7016  \n",
       "dts_avgSnow.l2      -3.03103    4.22548  -0.717   0.4815  \n",
       "dts_mooseHarvest.l3  0.08475    0.23512   0.360   0.7223  \n",
       "dts_totalMoose.l3    0.08166    0.04134   1.975   0.0622 .\n",
       "dts_avgSnow.l3      -4.62756    4.35507  -1.063   0.3006  \n",
       "dts_mooseHarvest.l4 -0.35660    0.22219  -1.605   0.1242  \n",
       "dts_totalMoose.l4    0.03960    0.05022   0.789   0.4396  \n",
       "dts_avgSnow.l4      -1.02697    4.28346  -0.240   0.8130  \n",
       "dts_mooseHarvest.l5  0.23062    0.23166   0.996   0.3314  \n",
       "dts_totalMoose.l5   -0.05533    0.03200  -1.729   0.0992 .\n",
       "dts_avgSnow.l5       2.08792    3.39556   0.615   0.5456  \n",
       "const                8.77653   26.93947   0.326   0.7480  \n",
       "---\n",
       "Signif. codes:  0 '***' 0.001 '**' 0.01 '*' 0.05 '.' 0.1 ' ' 1\n",
       "\n",
       "\n",
       "Residual standard error: 139.9 on 20 degrees of freedom\n",
       "Multiple R-Squared: 0.5844,\tAdjusted R-squared: 0.2727 \n",
       "F-statistic: 1.875 on 15 and 20 DF,  p-value: 0.0943 \n",
       "\n",
       "\n",
       "Estimation results for equation dts_totalMoose: \n",
       "=============================================== \n",
       "dts_totalMoose = dts_mooseHarvest.l1 + dts_totalMoose.l1 + dts_avgSnow.l1 + dts_mooseHarvest.l2 + dts_totalMoose.l2 + dts_avgSnow.l2 + dts_mooseHarvest.l3 + dts_totalMoose.l3 + dts_avgSnow.l3 + dts_mooseHarvest.l4 + dts_totalMoose.l4 + dts_avgSnow.l4 + dts_mooseHarvest.l5 + dts_totalMoose.l5 + dts_avgSnow.l5 + const \n",
       "\n",
       "                     Estimate Std. Error t value Pr(>|t|)  \n",
       "dts_mooseHarvest.l1  -2.19263    1.25287  -1.750   0.0954 .\n",
       "dts_totalMoose.l1     0.16391    0.21244   0.772   0.4494  \n",
       "dts_avgSnow.l1       10.83302   20.24505   0.535   0.5985  \n",
       "dts_mooseHarvest.l2  -2.63776    1.12471  -2.345   0.0294 *\n",
       "dts_totalMoose.l2     0.02450    0.22291   0.110   0.9136  \n",
       "dts_avgSnow.l2       19.11986   24.82781   0.770   0.4502  \n",
       "dts_mooseHarvest.l3  -0.90213    1.38152  -0.653   0.5212  \n",
       "dts_totalMoose.l3     0.05273    0.24291   0.217   0.8304  \n",
       "dts_avgSnow.l3       18.21777   25.58923   0.712   0.4847  \n",
       "dts_mooseHarvest.l4  -1.25961    1.30553  -0.965   0.3462  \n",
       "dts_totalMoose.l4     0.20180    0.29506   0.684   0.5019  \n",
       "dts_avgSnow.l4        8.84523   25.16850   0.351   0.7289  \n",
       "dts_mooseHarvest.l5  -0.69536    1.36116  -0.511   0.6150  \n",
       "dts_totalMoose.l5     0.29167    0.18804   1.551   0.1366  \n",
       "dts_avgSnow.l5       -3.51039   19.95143  -0.176   0.8621  \n",
       "const               245.82250  158.28913   1.553   0.1361  \n",
       "---\n",
       "Signif. codes:  0 '***' 0.001 '**' 0.01 '*' 0.05 '.' 0.1 ' ' 1\n",
       "\n",
       "\n",
       "Residual standard error: 822.3 on 20 degrees of freedom\n",
       "Multiple R-Squared: 0.6426,\tAdjusted R-squared: 0.3746 \n",
       "F-statistic: 2.398 on 15 and 20 DF,  p-value: 0.03462 \n",
       "\n",
       "\n",
       "Estimation results for equation dts_avgSnow: \n",
       "============================================ \n",
       "dts_avgSnow = dts_mooseHarvest.l1 + dts_totalMoose.l1 + dts_avgSnow.l1 + dts_mooseHarvest.l2 + dts_totalMoose.l2 + dts_avgSnow.l2 + dts_mooseHarvest.l3 + dts_totalMoose.l3 + dts_avgSnow.l3 + dts_mooseHarvest.l4 + dts_totalMoose.l4 + dts_avgSnow.l4 + dts_mooseHarvest.l5 + dts_totalMoose.l5 + dts_avgSnow.l5 + const \n",
       "\n",
       "                     Estimate Std. Error t value Pr(>|t|)   \n",
       "dts_mooseHarvest.l1 -0.002790   0.013833  -0.202  0.84217   \n",
       "dts_totalMoose.l1   -0.003913   0.002346  -1.668  0.11082   \n",
       "dts_avgSnow.l1      -0.696379   0.223519  -3.116  0.00545 **\n",
       "dts_mooseHarvest.l2  0.004569   0.012418   0.368  0.71677   \n",
       "dts_totalMoose.l2    0.002976   0.002461   1.209  0.24076   \n",
       "dts_avgSnow.l2      -0.432197   0.274116  -1.577  0.13055   \n",
       "dts_mooseHarvest.l3 -0.019306   0.015253  -1.266  0.22016   \n",
       "dts_totalMoose.l3    0.003078   0.002682   1.148  0.26464   \n",
       "dts_avgSnow.l3      -0.250540   0.282523  -0.887  0.38573   \n",
       "dts_mooseHarvest.l4  0.013834   0.014414   0.960  0.34863   \n",
       "dts_totalMoose.l4   -0.001976   0.003258  -0.607  0.55088   \n",
       "dts_avgSnow.l4      -0.117414   0.277878  -0.423  0.67714   \n",
       "dts_mooseHarvest.l5 -0.005430   0.015028  -0.361  0.72166   \n",
       "dts_totalMoose.l5   -0.001186   0.002076  -0.571  0.57426   \n",
       "dts_avgSnow.l5       0.029776   0.220278   0.135  0.89383   \n",
       "const                0.164945   1.747623   0.094  0.92574   \n",
       "---\n",
       "Signif. codes:  0 '***' 0.001 '**' 0.01 '*' 0.05 '.' 0.1 ' ' 1\n",
       "\n",
       "\n",
       "Residual standard error: 9.079 on 20 degrees of freedom\n",
       "Multiple R-Squared: 0.5831,\tAdjusted R-squared: 0.2704 \n",
       "F-statistic: 1.865 on 15 and 20 DF,  p-value: 0.09623 \n",
       "\n",
       "\n",
       "\n",
       "Covariance matrix of residuals:\n",
       "                 dts_mooseHarvest dts_totalMoose dts_avgSnow\n",
       "dts_mooseHarvest         19584.64       -32702.1      -92.64\n",
       "dts_totalMoose          -32702.08       676145.1     -259.92\n",
       "dts_avgSnow                -92.64         -259.9       82.42\n",
       "\n",
       "Correlation matrix of residuals:\n",
       "                 dts_mooseHarvest dts_totalMoose dts_avgSnow\n",
       "dts_mooseHarvest          1.00000       -0.28418    -0.07292\n",
       "dts_totalMoose           -0.28418        1.00000    -0.03482\n",
       "dts_avgSnow              -0.07292       -0.03482     1.00000\n",
       "\n"
      ]
     },
     "metadata": {},
     "output_type": "display_data"
    },
    {
     "data": {
      "text/plain": [
       "\n",
       "VAR Estimation Results:\n",
       "========================= \n",
       "Endogenous variables: dts_mooseHarvest, dts_totalMoose, dts_avgSnow \n",
       "Deterministic variables: const \n",
       "Sample size: 36 \n",
       "Log Likelihood: -636.711 \n",
       "Roots of the characteristic polynomial:\n",
       "0.8371 0.7428 0.7428 0.7016 0.7016 0.6525 0.6525 0.5641     0     0     0     0     0     0     0\n",
       "Call:\n",
       "VAR(y = ddata.train, p = 5)\n",
       "\n",
       "\n",
       "Estimation results for equation dts_mooseHarvest: \n",
       "================================================= \n",
       "dts_mooseHarvest = dts_totalMoose.l3 + dts_totalMoose.l5 \n",
       "\n",
       "                  Estimate Std. Error t value Pr(>|t|)    \n",
       "dts_totalMoose.l3  0.11323    0.02370   4.778 3.33e-05 ***\n",
       "dts_totalMoose.l5 -0.05133    0.01655  -3.101  0.00386 ** \n",
       "---\n",
       "Signif. codes:  0 '***' 0.001 '**' 0.01 '*' 0.05 '.' 0.1 ' ' 1\n",
       "\n",
       "\n",
       "Residual standard error: 128.6 on 34 degrees of freedom\n",
       "Multiple R-Squared: 0.4098,\tAdjusted R-squared: 0.3751 \n",
       "F-statistic:  11.8 on 2 and 34 DF,  p-value: 0.000128 \n",
       "\n",
       "\n",
       "Estimation results for equation dts_totalMoose: \n",
       "=============================================== \n",
       "dts_totalMoose = dts_totalMoose.l1 + dts_mooseHarvest.l2 + dts_totalMoose.l5 \n",
       "\n",
       "                    Estimate Std. Error t value Pr(>|t|)   \n",
       "dts_totalMoose.l1     0.3763     0.1399   2.689  0.01114 * \n",
       "dts_mooseHarvest.l2  -1.8862     0.8782  -2.148  0.03918 * \n",
       "dts_totalMoose.l5     0.3017     0.1002   3.011  0.00496 **\n",
       "---\n",
       "Signif. codes:  0 '***' 0.001 '**' 0.01 '*' 0.05 '.' 0.1 ' ' 1\n",
       "\n",
       "\n",
       "Residual standard error: 760.3 on 33 degrees of freedom\n",
       "Multiple R-Squared: 0.4962,\tAdjusted R-squared: 0.4504 \n",
       "F-statistic: 10.83 on 3 and 33 DF,  p-value: 4.154e-05 \n",
       "\n",
       "\n",
       "Estimation results for equation dts_avgSnow: \n",
       "============================================ \n",
       "dts_avgSnow = dts_totalMoose.l1 + dts_avgSnow.l1 + dts_totalMoose.l2 + dts_totalMoose.l5 \n",
       "\n",
       "                   Estimate Std. Error t value Pr(>|t|)    \n",
       "dts_totalMoose.l1 -0.003921   0.001726  -2.271 0.030011 *  \n",
       "dts_avgSnow.l1    -0.564086   0.147186  -3.832 0.000559 ***\n",
       "dts_totalMoose.l2  0.005581   0.001679   3.324 0.002232 ** \n",
       "dts_totalMoose.l5 -0.002481   0.001006  -2.467 0.019185 *  \n",
       "---\n",
       "Signif. codes:  0 '***' 0.001 '**' 0.01 '*' 0.05 '.' 0.1 ' ' 1\n",
       "\n",
       "\n",
       "Residual standard error: 8.199 on 32 degrees of freedom\n",
       "Multiple R-Squared: 0.4561,\tAdjusted R-squared: 0.3881 \n",
       "F-statistic: 6.708 on 4 and 32 DF,  p-value: 0.0004868 \n",
       "\n",
       "\n",
       "\n",
       "Covariance matrix of residuals:\n",
       "                 dts_mooseHarvest dts_totalMoose dts_avgSnow\n",
       "dts_mooseHarvest         28108.47         -35639      -55.57\n",
       "dts_totalMoose          -35639.05         914510    -1192.30\n",
       "dts_avgSnow                -55.57          -1192      107.54\n",
       "\n",
       "Correlation matrix of residuals:\n",
       "                 dts_mooseHarvest dts_totalMoose dts_avgSnow\n",
       "dts_mooseHarvest          1.00000        -0.2223    -0.03196\n",
       "dts_totalMoose           -0.22229         1.0000    -0.12023\n",
       "dts_avgSnow              -0.03196        -0.1202     1.00000\n",
       "\n"
      ]
     },
     "metadata": {},
     "output_type": "display_data"
    }
   ],
   "source": [
    "## Model Fitting: Unrestricted VAR\n",
    "model.var=VAR(ddata.train, p=5) \n",
    "summary(model.var)\n",
    "\n",
    "## Model Fitting: Restricted VAR\n",
    "model.var.restrict=restrict(model.var) \n",
    "summary(model.var.restrict)"
   ]
  },
  {
   "cell_type": "code",
   "execution_count": 10,
   "metadata": {},
   "outputs": [
    {
     "data": {
      "text/plain": [
       "Wald test:\n",
       "----------\n",
       "\n",
       "Chi-squared test:\n",
       "X2 = 0.67, df = 5, P(> X2) = 0.98"
      ]
     },
     "metadata": {},
     "output_type": "display_data"
    },
    {
     "data": {
      "text/plain": [
       "Wald test:\n",
       "----------\n",
       "\n",
       "Chi-squared test:\n",
       "X2 = 3059422.1, df = 5, P(> X2) = 0.0"
      ]
     },
     "metadata": {},
     "output_type": "display_data"
    }
   ],
   "source": [
    "## Granger Causality\n",
    "p=5\n",
    "nfactor=3\n",
    "coef.moosepop = coefficients(model.var)$dts_totalMoose[-(nfactor*p+1),1]\n",
    "var.model = vcov(model.var)[1:(nfactor*p),1:(nfactor*p)]\n",
    "## Moose Harvest\n",
    "wald.test(b=coef.moosepop, var.model, Terms=seq(1, nfactor*p, nfactor))\n",
    "## Snow Fall\n",
    "wald.test(b=coef.moosepop, var.model, Terms=seq(3, nfactor*p, nfactor))"
   ]
  },
  {
   "cell_type": "markdown",
   "metadata": {},
   "source": [
    "Granger causality by snowfall only."
   ]
  },
  {
   "cell_type": "markdown",
   "metadata": {},
   "source": [
    "## Model Forecasting"
   ]
  },
  {
   "cell_type": "markdown",
   "metadata": {},
   "source": [
    "Use model.var for prediction involving: all 5 differenced time series for VAR(p=4)"
   ]
  },
  {
   "cell_type": "code",
   "execution_count": 11,
   "metadata": {},
   "outputs": [],
   "source": [
    "pred.model=predict(model.var,n.ahead=4)\n",
    "dmoosepop.fcst = pred.model[[1]]$dts_totalMoose[,1]\n",
    "final.pred.3 = rep(0,4)\n",
    "#since the dts_totalMoose is differenced moose population\n",
    "final.pred.3[1] = ts_totalMoose[(n-4)]+dmoosepop.fcst[1]\n",
    "final.pred.3[2] = final.pred.3[1]+dmoosepop.fcst[2]\n",
    "final.pred.3[3] = final.pred.3[2]+dmoosepop.fcst[3]\n",
    "final.pred.3[4] = final.pred.3[3]+dmoosepop.fcst[4]"
   ]
  },
  {
   "cell_type": "markdown",
   "metadata": {},
   "source": [
    "### Plotting "
   ]
  },
  {
   "cell_type": "code",
   "execution_count": 14,
   "metadata": {},
   "outputs": [
    {
     "data": {
      "image/png": "[encoded data removed]",
      "text/plain": [
       "plot without title"
      ]
     },
     "metadata": {},
     "output_type": "display_data"
    }
   ],
   "source": [
    "totalMoose = data[,\"totalMoose\"]\n",
    "n = length(totalMoose)\n",
    "nfit = n-4\n",
    "plot(years[(n-20):n], ts_totalMoose[(n-20):n],type=\"o\", ylim=c(9000,18000), xlab=\"Time\", ylab=\"Moose Population\")\n",
    "lines(years[(nfit+1):n],final.pred.3,col=\"green\",lwd=2, type=\"o\")"
   ]
  }
 ],
 "metadata": {
  "kernelspec": {
   "display_name": "R",
   "language": "R",
   "name": "ir"
  },
  "language_info": {
   "codemirror_mode": "r",
   "file_extension": ".r",
   "mimetype": "text/x-r-source",
   "name": "R",
   "pygments_lexer": "r",
   "version": "3.6.1"
  }
 },
 "nbformat": 4,
 "nbformat_minor": 2
}
