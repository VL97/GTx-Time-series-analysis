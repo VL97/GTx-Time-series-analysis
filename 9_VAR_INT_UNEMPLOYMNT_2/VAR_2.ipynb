{
 "cells": [
  {
   "cell_type": "code",
   "execution_count": 1,
   "metadata": {},
   "outputs": [],
   "source": [
    "intrate = read.csv(\"InterestRate.csv\",header=T) \n",
    "intrate.ts = ts(intrate$INT,start=1950, freq=12)\n",
    "dates = as.Date(intrate[,1], format=\"%m/%d/%Y\")\n",
    "unemploym = read.csv(\"MonthlyUnemployment.csv\",header=T)"
   ]
  },
  {
   "cell_type": "code",
   "execution_count": 2,
   "metadata": {},
   "outputs": [],
   "source": [
    "unemploym = as.vector(t(unemploym[,-1]))\n",
    "unemploym.ts = ts(unemploym[-c(809:816)],start=1950, freq=12)\n",
    "data.ts = ts.union(intrate.ts,unemploym.ts)"
   ]
  },
  {
   "cell_type": "code",
   "execution_count": 3,
   "metadata": {
    "scrolled": false
   },
   "outputs": [
    {
     "data": {
      "image/png": "[encoded data removed]",
      "text/plain": [
       "plot without title"
      ]
     },
     "metadata": {},
     "output_type": "display_data"
    }
   ],
   "source": [
    "plot(data.ts, type=\"l\",main=\"\")"
   ]
  },
  {
   "cell_type": "markdown",
   "metadata": {},
   "source": [
    "Differencing:"
   ]
  },
  {
   "cell_type": "code",
   "execution_count": 4,
   "metadata": {},
   "outputs": [
    {
     "data": {
      "image/png": "[encoded data removed]",
      "text/plain": [
       "plot without title"
      ]
     },
     "metadata": {},
     "output_type": "display_data"
    }
   ],
   "source": [
    "# take the first order difference\n",
    "dunrate=diff(unemploym.ts)\n",
    "dintrate=diff(intrate.ts)\n",
    "ddata.ts = ts.union(dintrate,dunrate)\n",
    "plot(ddata.ts,xlab=\"time\",main=\"\",type=\"l\")"
   ]
  },
  {
   "cell_type": "code",
   "execution_count": 5,
   "metadata": {},
   "outputs": [
    {
     "name": "stderr",
     "output_type": "stream",
     "text": [
      "Warning message:\n",
      "\"package 'vars' was built under R version 3.6.3\"Loading required package: MASS\n",
      "Warning message:\n",
      "\"package 'MASS' was built under R version 3.6.3\"Loading required package: strucchange\n",
      "Warning message:\n",
      "\"package 'strucchange' was built under R version 3.6.3\"Loading required package: zoo\n",
      "Warning message:\n",
      "\"package 'zoo' was built under R version 3.6.3\"\n",
      "Attaching package: 'zoo'\n",
      "\n",
      "The following objects are masked from 'package:base':\n",
      "\n",
      "    as.Date, as.Date.numeric\n",
      "\n",
      "Loading required package: sandwich\n",
      "Warning message:\n",
      "\"package 'sandwich' was built under R version 3.6.3\"Loading required package: urca\n",
      "Warning message:\n",
      "\"package 'urca' was built under R version 3.6.3\"Loading required package: lmtest\n",
      "Warning message:\n",
      "\"package 'lmtest' was built under R version 3.6.3\""
     ]
    }
   ],
   "source": [
    "## Fit VAR model: capture relationship between change in interest rate vs change in unemplyment\n",
    "library(vars)\n",
    "mod_aic_1 = VAR(ddata.ts,lag.max=20,ic=\"AIC\", type=\"none\")"
   ]
  },
  {
   "cell_type": "code",
   "execution_count": 6,
   "metadata": {},
   "outputs": [
    {
     "data": {
      "text/html": [
       "<strong>AIC(n):</strong> 12"
      ],
      "text/latex": [
       "\\textbf{AIC(n):} 12"
      ],
      "text/markdown": [
       "**AIC(n):** 12"
      ],
      "text/plain": [
       "AIC(n) \n",
       "    12 "
      ]
     },
     "metadata": {},
     "output_type": "display_data"
    }
   ],
   "source": [
    "pord_1 = mod_aic_1$p\n",
    "pord_1"
   ]
  },
  {
   "cell_type": "code",
   "execution_count": 7,
   "metadata": {
    "scrolled": false
   },
   "outputs": [
    {
     "name": "stderr",
     "output_type": "stream",
     "text": [
      "Warning message:\n",
      "\"package 'aod' was built under R version 3.6.3\""
     ]
    },
    {
     "data": {
      "text/plain": [
       "\n",
       "VAR Estimation Results:\n",
       "========================= \n",
       "Endogenous variables: dintrate, dunrate \n",
       "Deterministic variables: const \n",
       "Sample size: 795 \n",
       "Log Likelihood: 463.207 \n",
       "Roots of the characteristic polynomial:\n",
       "0.8993 0.8993 0.8934 0.8934 0.8828 0.8828 0.8481 0.8407 0.8407 0.8335 0.8335 0.822 0.822 0.8132 0.8132 0.7924 0.7924 0.7821 0.7821 0.7429 0.7429 0.7401 0.7401 0.5713\n",
       "Call:\n",
       "VAR(y = ddata.ts, p = pord_1)\n",
       "\n",
       "\n",
       "Estimation results for equation dintrate: \n",
       "========================================= \n",
       "dintrate = dintrate.l1 + dunrate.l1 + dintrate.l2 + dunrate.l2 + dintrate.l3 + dunrate.l3 + dintrate.l4 + dunrate.l4 + dintrate.l5 + dunrate.l5 + dintrate.l6 + dunrate.l6 + dintrate.l7 + dunrate.l7 + dintrate.l8 + dunrate.l8 + dintrate.l9 + dunrate.l9 + dintrate.l10 + dunrate.l10 + dintrate.l11 + dunrate.l11 + dintrate.l12 + dunrate.l12 + const \n",
       "\n",
       "               Estimate Std. Error t value Pr(>|t|)    \n",
       "dintrate.l1   3.318e-01  3.629e-02   9.143  < 2e-16 ***\n",
       "dunrate.l1   -1.687e-01  3.801e-02  -4.438 1.04e-05 ***\n",
       "dintrate.l2   1.246e-01  3.830e-02   3.253  0.00119 ** \n",
       "dunrate.l2   -9.574e-02  3.847e-02  -2.488  0.01304 *  \n",
       "dintrate.l3  -1.045e-02  3.846e-02  -0.272  0.78591    \n",
       "dunrate.l3   -6.303e-02  3.909e-02  -1.613  0.10726    \n",
       "dintrate.l4  -4.778e-02  3.815e-02  -1.253  0.21074    \n",
       "dunrate.l4    1.588e-02  3.940e-02   0.403  0.68712    \n",
       "dintrate.l5   5.827e-02  3.813e-02   1.528  0.12694    \n",
       "dunrate.l5   -1.602e-02  3.957e-02  -0.405  0.68569    \n",
       "dintrate.l6  -3.179e-02  3.813e-02  -0.834  0.40468    \n",
       "dunrate.l6    2.453e-03  3.959e-02   0.062  0.95060    \n",
       "dintrate.l7   6.334e-02  3.813e-02   1.661  0.09713 .  \n",
       "dunrate.l7    5.557e-02  3.950e-02   1.407  0.15985    \n",
       "dintrate.l8  -4.116e-02  3.817e-02  -1.079  0.28115    \n",
       "dunrate.l8    6.104e-02  3.942e-02   1.548  0.12195    \n",
       "dintrate.l9   1.217e-01  3.821e-02   3.186  0.00150 ** \n",
       "dunrate.l9   -5.219e-02  3.924e-02  -1.330  0.18389    \n",
       "dintrate.l10 -4.671e-02  3.840e-02  -1.216  0.22423    \n",
       "dunrate.l10  -5.375e-02  3.890e-02  -1.382  0.16747    \n",
       "dintrate.l11 -1.771e-02  3.815e-02  -0.464  0.64265    \n",
       "dunrate.l11   9.136e-03  3.852e-02   0.237  0.81260    \n",
       "dintrate.l12  4.026e-02  3.544e-02   1.136  0.25638    \n",
       "dunrate.l12   1.144e-02  3.860e-02   0.296  0.76694    \n",
       "const         4.545e-05  6.752e-03   0.007  0.99463    \n",
       "---\n",
       "Signif. codes:  0 '***' 0.001 '**' 0.01 '*' 0.05 '.' 0.1 ' ' 1\n",
       "\n",
       "\n",
       "Residual standard error: 0.1903 on 770 degrees of freedom\n",
       "Multiple R-Squared: 0.2683,\tAdjusted R-squared: 0.2454 \n",
       "F-statistic: 11.76 on 24 and 770 DF,  p-value: < 2.2e-16 \n",
       "\n",
       "\n",
       "Estimation results for equation dunrate: \n",
       "======================================== \n",
       "dunrate = dintrate.l1 + dunrate.l1 + dintrate.l2 + dunrate.l2 + dintrate.l3 + dunrate.l3 + dintrate.l4 + dunrate.l4 + dintrate.l5 + dunrate.l5 + dintrate.l6 + dunrate.l6 + dintrate.l7 + dunrate.l7 + dintrate.l8 + dunrate.l8 + dintrate.l9 + dunrate.l9 + dintrate.l10 + dunrate.l10 + dintrate.l11 + dunrate.l11 + dintrate.l12 + dunrate.l12 + const \n",
       "\n",
       "               Estimate Std. Error t value Pr(>|t|)    \n",
       "dintrate.l1   0.0189457  0.0340730   0.556  0.57835    \n",
       "dunrate.l1    0.0948815  0.0356898   2.659  0.00801 ** \n",
       "dintrate.l2  -0.0082583  0.0359595  -0.230  0.81842    \n",
       "dunrate.l2    0.1888607  0.0361260   5.228 2.21e-07 ***\n",
       "dintrate.l3   0.0051599  0.0361096   0.143  0.88641    \n",
       "dunrate.l3    0.1166728  0.0367021   3.179  0.00154 ** \n",
       "dintrate.l4  -0.0056111  0.0358191  -0.157  0.87556    \n",
       "dunrate.l4    0.1160543  0.0369978   3.137  0.00177 ** \n",
       "dintrate.l5   0.0156463  0.0358069   0.437  0.66226    \n",
       "dunrate.l5    0.0714145  0.0371516   1.922  0.05494 .  \n",
       "dintrate.l6   0.0278395  0.0358019   0.778  0.43704    \n",
       "dunrate.l6    0.0427227  0.0371696   1.149  0.25075    \n",
       "dintrate.l7  -0.0437477  0.0358067  -1.222  0.22217    \n",
       "dunrate.l7   -0.0116690  0.0370847  -0.315  0.75311    \n",
       "dintrate.l8   0.0773684  0.0358381   2.159  0.03117 *  \n",
       "dunrate.l8    0.0131687  0.0370170   0.356  0.72213    \n",
       "dintrate.l9  -0.0396932  0.0358769  -1.106  0.26891    \n",
       "dunrate.l9    0.0020415  0.0368422   0.055  0.95582    \n",
       "dintrate.l10 -0.0215414  0.0360581  -0.597  0.55041    \n",
       "dunrate.l10  -0.0724181  0.0365277  -1.983  0.04777 *  \n",
       "dintrate.l11  0.0168110  0.0358166   0.469  0.63894    \n",
       "dunrate.l11   0.0611177  0.0361715   1.690  0.09150 .  \n",
       "dintrate.l12 -0.0028257  0.0332811  -0.085  0.93236    \n",
       "dunrate.l12  -0.1549886  0.0362411  -4.277 2.14e-05 ***\n",
       "const         0.0003444  0.0063400   0.054  0.95669    \n",
       "---\n",
       "Signif. codes:  0 '***' 0.001 '**' 0.01 '*' 0.05 '.' 0.1 ' ' 1\n",
       "\n",
       "\n",
       "Residual standard error: 0.1787 on 770 degrees of freedom\n",
       "Multiple R-Squared: 0.1732,\tAdjusted R-squared: 0.1475 \n",
       "F-statistic: 6.723 on 24 and 770 DF,  p-value: < 2.2e-16 \n",
       "\n",
       "\n",
       "\n",
       "Covariance matrix of residuals:\n",
       "          dintrate   dunrate\n",
       "dintrate  0.036231 -0.004216\n",
       "dunrate  -0.004216  0.031942\n",
       "\n",
       "Correlation matrix of residuals:\n",
       "         dintrate dunrate\n",
       "dintrate   1.0000 -0.1239\n",
       "dunrate   -0.1239  1.0000\n",
       "\n"
      ]
     },
     "metadata": {},
     "output_type": "display_data"
    }
   ],
   "source": [
    "#### Wald Test\n",
    "library(aod)\n",
    "mod = VAR(ddata.ts,pord_1)\n",
    "summary(mod)"
   ]
  },
  {
   "cell_type": "markdown",
   "metadata": {},
   "source": [
    "Note till order 2 in both equations are only significant."
   ]
  },
  {
   "cell_type": "markdown",
   "metadata": {},
   "source": [
    "### Testing for Granger causality: Wald Test"
   ]
  },
  {
   "cell_type": "code",
   "execution_count": 8,
   "metadata": {},
   "outputs": [
    {
     "data": {
      "text/html": [
       "<dl class=dl-horizontal>\n",
       "\t<dt>dintrate.l1</dt>\n",
       "\t\t<dd>0.331787629536354</dd>\n",
       "\t<dt>dunrate.l1</dt>\n",
       "\t\t<dd>-0.168686322146133</dd>\n",
       "\t<dt>dintrate.l2</dt>\n",
       "\t\t<dd>0.12459086841588</dd>\n",
       "\t<dt>dunrate.l2</dt>\n",
       "\t\t<dd>-0.0957420493006484</dd>\n",
       "\t<dt>dintrate.l3</dt>\n",
       "\t\t<dd>-0.0104495257703118</dd>\n",
       "\t<dt>dunrate.l3</dt>\n",
       "\t\t<dd>-0.0630312748719436</dd>\n",
       "\t<dt>dintrate.l4</dt>\n",
       "\t\t<dd>-0.0477831559850616</dd>\n",
       "\t<dt>dunrate.l4</dt>\n",
       "\t\t<dd>0.0158761419562832</dd>\n",
       "\t<dt>dintrate.l5</dt>\n",
       "\t\t<dd>0.0582674881109961</dd>\n",
       "\t<dt>dunrate.l5</dt>\n",
       "\t\t<dd>-0.01601946180222</dd>\n",
       "\t<dt>dintrate.l6</dt>\n",
       "\t\t<dd>-0.0317907222572374</dd>\n",
       "\t<dt>dunrate.l6</dt>\n",
       "\t\t<dd>0.00245322278658389</dd>\n",
       "\t<dt>dintrate.l7</dt>\n",
       "\t\t<dd>0.063339837919046</dd>\n",
       "\t<dt>dunrate.l7</dt>\n",
       "\t\t<dd>0.0555678119964193</dd>\n",
       "\t<dt>dintrate.l8</dt>\n",
       "\t\t<dd>-0.0411644970564986</dd>\n",
       "\t<dt>dunrate.l8</dt>\n",
       "\t\t<dd>0.0610417991270095</dd>\n",
       "\t<dt>dintrate.l9</dt>\n",
       "\t\t<dd>0.121747753526758</dd>\n",
       "\t<dt>dunrate.l9</dt>\n",
       "\t\t<dd>-0.0521890120437293</dd>\n",
       "\t<dt>dintrate.l10</dt>\n",
       "\t\t<dd>-0.0467102289426563</dd>\n",
       "\t<dt>dunrate.l10</dt>\n",
       "\t\t<dd>-0.0537507351412274</dd>\n",
       "\t<dt>dintrate.l11</dt>\n",
       "\t\t<dd>-0.0177062196462094</dd>\n",
       "\t<dt>dunrate.l11</dt>\n",
       "\t\t<dd>0.00913608463811453</dd>\n",
       "\t<dt>dintrate.l12</dt>\n",
       "\t\t<dd>0.0402590088642343</dd>\n",
       "\t<dt>dunrate.l12</dt>\n",
       "\t\t<dd>0.0114433262448471</dd>\n",
       "</dl>\n"
      ],
      "text/latex": [
       "\\begin{description*}\n",
       "\\item[dintrate.l1] 0.331787629536354\n",
       "\\item[dunrate.l1] -0.168686322146133\n",
       "\\item[dintrate.l2] 0.12459086841588\n",
       "\\item[dunrate.l2] -0.0957420493006484\n",
       "\\item[dintrate.l3] -0.0104495257703118\n",
       "\\item[dunrate.l3] -0.0630312748719436\n",
       "\\item[dintrate.l4] -0.0477831559850616\n",
       "\\item[dunrate.l4] 0.0158761419562832\n",
       "\\item[dintrate.l5] 0.0582674881109961\n",
       "\\item[dunrate.l5] -0.01601946180222\n",
       "\\item[dintrate.l6] -0.0317907222572374\n",
       "\\item[dunrate.l6] 0.00245322278658389\n",
       "\\item[dintrate.l7] 0.063339837919046\n",
       "\\item[dunrate.l7] 0.0555678119964193\n",
       "\\item[dintrate.l8] -0.0411644970564986\n",
       "\\item[dunrate.l8] 0.0610417991270095\n",
       "\\item[dintrate.l9] 0.121747753526758\n",
       "\\item[dunrate.l9] -0.0521890120437293\n",
       "\\item[dintrate.l10] -0.0467102289426563\n",
       "\\item[dunrate.l10] -0.0537507351412274\n",
       "\\item[dintrate.l11] -0.0177062196462094\n",
       "\\item[dunrate.l11] 0.00913608463811453\n",
       "\\item[dintrate.l12] 0.0402590088642343\n",
       "\\item[dunrate.l12] 0.0114433262448471\n",
       "\\end{description*}\n"
      ],
      "text/markdown": [
       "dintrate.l1\n",
       ":   0.331787629536354dunrate.l1\n",
       ":   -0.168686322146133dintrate.l2\n",
       ":   0.12459086841588dunrate.l2\n",
       ":   -0.0957420493006484dintrate.l3\n",
       ":   -0.0104495257703118dunrate.l3\n",
       ":   -0.0630312748719436dintrate.l4\n",
       ":   -0.0477831559850616dunrate.l4\n",
       ":   0.0158761419562832dintrate.l5\n",
       ":   0.0582674881109961dunrate.l5\n",
       ":   -0.01601946180222dintrate.l6\n",
       ":   -0.0317907222572374dunrate.l6\n",
       ":   0.00245322278658389dintrate.l7\n",
       ":   0.063339837919046dunrate.l7\n",
       ":   0.0555678119964193dintrate.l8\n",
       ":   -0.0411644970564986dunrate.l8\n",
       ":   0.0610417991270095dintrate.l9\n",
       ":   0.121747753526758dunrate.l9\n",
       ":   -0.0521890120437293dintrate.l10\n",
       ":   -0.0467102289426563dunrate.l10\n",
       ":   -0.0537507351412274dintrate.l11\n",
       ":   -0.0177062196462094dunrate.l11\n",
       ":   0.00913608463811453dintrate.l12\n",
       ":   0.0402590088642343dunrate.l12\n",
       ":   0.0114433262448471\n",
       "\n"
      ],
      "text/plain": [
       " dintrate.l1   dunrate.l1  dintrate.l2   dunrate.l2  dintrate.l3   dunrate.l3 \n",
       " 0.331787630 -0.168686322  0.124590868 -0.095742049 -0.010449526 -0.063031275 \n",
       " dintrate.l4   dunrate.l4  dintrate.l5   dunrate.l5  dintrate.l6   dunrate.l6 \n",
       "-0.047783156  0.015876142  0.058267488 -0.016019462 -0.031790722  0.002453223 \n",
       " dintrate.l7   dunrate.l7  dintrate.l8   dunrate.l8  dintrate.l9   dunrate.l9 \n",
       " 0.063339838  0.055567812 -0.041164497  0.061041799  0.121747754 -0.052189012 \n",
       "dintrate.l10  dunrate.l10 dintrate.l11  dunrate.l11 dintrate.l12  dunrate.l12 \n",
       "-0.046710229 -0.053750735 -0.017706220  0.009136085  0.040259009  0.011443326 "
      ]
     },
     "metadata": {},
     "output_type": "display_data"
    }
   ],
   "source": [
    "coef.dintrate = coefficients(mod)$dintrate[-(2*pord_1+1),1]\n",
    "coef.dintrate"
   ]
  },
  {
   "cell_type": "code",
   "execution_count": 9,
   "metadata": {},
   "outputs": [
    {
     "data": {
      "text/html": [
       "<table>\n",
       "<thead><tr><th></th><th scope=col>dintrate:(Intercept)</th><th scope=col>dintrate:dintrate.l1</th><th scope=col>dintrate:dunrate.l1</th><th scope=col>dintrate:dintrate.l2</th><th scope=col>dintrate:dunrate.l2</th><th scope=col>dintrate:dintrate.l3</th><th scope=col>dintrate:dunrate.l3</th><th scope=col>dintrate:dintrate.l4</th><th scope=col>dintrate:dunrate.l4</th><th scope=col>dintrate:dintrate.l5</th><th scope=col>...</th><th scope=col>dintrate:dunrate.l7</th><th scope=col>dintrate:dintrate.l8</th><th scope=col>dintrate:dunrate.l8</th><th scope=col>dintrate:dintrate.l9</th><th scope=col>dintrate:dunrate.l9</th><th scope=col>dintrate:dintrate.l10</th><th scope=col>dintrate:dunrate.l10</th><th scope=col>dintrate:dintrate.l11</th><th scope=col>dintrate:dunrate.l11</th><th scope=col>dintrate:dintrate.l12</th></tr></thead>\n",
       "<tbody>\n",
       "\t<tr><th scope=row>dintrate:(Intercept)</th><td> 4.559220e-05</td><td>-1.665208e-07</td><td> 8.278933e-08</td><td> 1.938842e-07</td><td>-6.139707e-07</td><td>-1.949552e-08</td><td>-1.145922e-06</td><td> 9.574064e-08</td><td>-7.337564e-07</td><td> 5.261520e-07</td><td>...          </td><td> 3.644189e-07</td><td> 6.753689e-07</td><td> 4.534599e-07</td><td> 7.941554e-07</td><td> 9.266696e-07</td><td> 7.970088e-07</td><td> 1.910053e-06</td><td> 7.052703e-07</td><td> 2.569216e-06</td><td> 5.875726e-07</td></tr>\n",
       "\t<tr><th scope=row>dintrate:dintrate.l1</th><td>-1.665208e-07</td><td> 1.316836e-03</td><td> 1.696495e-04</td><td>-4.408513e-04</td><td> 2.066117e-04</td><td>-1.606277e-04</td><td> 9.401798e-05</td><td> 5.331379e-06</td><td> 6.271839e-05</td><td> 6.498111e-05</td><td>...          </td><td>-1.303656e-05</td><td>-7.969122e-05</td><td>-7.113803e-05</td><td> 4.385920e-05</td><td>-8.048112e-05</td><td>-1.538091e-04</td><td> 6.945212e-05</td><td> 5.810983e-05</td><td> 8.680674e-05</td><td>-9.865812e-07</td></tr>\n",
       "\t<tr><th scope=row>dintrate:dunrate.l1</th><td> 8.278933e-08</td><td> 1.696495e-04</td><td> 1.444776e-03</td><td>-7.963590e-05</td><td>-9.017595e-05</td><td>-2.331059e-05</td><td>-2.761405e-04</td><td>-1.912844e-05</td><td>-1.642859e-04</td><td> 3.308732e-05</td><td>...          </td><td>-6.155058e-05</td><td> 4.616017e-05</td><td> 2.771309e-05</td><td>-9.570621e-05</td><td>-9.743544e-06</td><td> 2.377166e-05</td><td> 2.080137e-05</td><td> 2.807364e-05</td><td> 1.568670e-04</td><td>-5.180562e-05</td></tr>\n",
       "\t<tr><th scope=row>dintrate:dintrate.l2</th><td> 1.938842e-07</td><td>-4.408513e-04</td><td>-7.963590e-05</td><td> 1.466687e-03</td><td> 9.839411e-05</td><td>-3.869401e-04</td><td> 1.811095e-04</td><td>-1.617734e-04</td><td> 7.857223e-05</td><td>-1.565187e-05</td><td>...          </td><td> 1.210361e-05</td><td> 6.562371e-05</td><td> 8.792532e-06</td><td>-9.363966e-05</td><td>-4.604121e-05</td><td> 9.596340e-05</td><td>-1.046880e-04</td><td>-1.730531e-04</td><td> 3.695360e-05</td><td> 6.130630e-05</td></tr>\n",
       "\t<tr><th scope=row>dintrate:dunrate.l2</th><td>-6.139707e-07</td><td> 2.066117e-04</td><td>-9.017595e-05</td><td> 9.839411e-05</td><td> 1.480301e-03</td><td>-9.592376e-05</td><td>-4.441337e-05</td><td>-2.198394e-05</td><td>-2.510778e-04</td><td>-1.849760e-05</td><td>...          </td><td>-1.150961e-04</td><td>-5.849197e-05</td><td>-8.447666e-05</td><td> 6.088413e-05</td><td> 1.027081e-05</td><td>-1.183973e-04</td><td>-2.997076e-06</td><td> 2.857905e-05</td><td> 7.118306e-06</td><td> 2.271551e-05</td></tr>\n",
       "\t<tr><th scope=row>dintrate:dintrate.l3</th><td>-1.949552e-08</td><td>-1.606277e-04</td><td>-2.331059e-05</td><td>-3.869401e-04</td><td>-9.592376e-05</td><td> 1.478963e-03</td><td> 7.812399e-05</td><td>-3.832025e-04</td><td> 1.695633e-04</td><td>-1.663970e-04</td><td>...          </td><td>-3.970617e-05</td><td>-8.341021e-05</td><td> 2.900012e-05</td><td> 6.179456e-05</td><td> 2.623340e-05</td><td>-8.057683e-05</td><td>-4.711125e-05</td><td> 9.240472e-05</td><td>-1.032652e-04</td><td>-1.612851e-04</td></tr>\n",
       "\t<tr><th scope=row>dintrate:dunrate.l3</th><td>-1.145922e-06</td><td> 9.401798e-05</td><td>-2.761405e-04</td><td> 1.811095e-04</td><td>-4.441337e-05</td><td> 7.812399e-05</td><td> 1.527897e-03</td><td>-9.392681e-05</td><td>-8.141881e-06</td><td>-1.302111e-05</td><td>...          </td><td>-1.321935e-04</td><td>-3.183350e-05</td><td>-1.154851e-04</td><td>-2.811329e-05</td><td>-7.264523e-05</td><td> 3.275767e-05</td><td> 3.361399e-05</td><td>-1.232948e-04</td><td> 8.841142e-07</td><td> 2.630285e-05</td></tr>\n",
       "\t<tr><th scope=row>dintrate:dintrate.l4</th><td> 9.574064e-08</td><td> 5.331379e-06</td><td>-1.912844e-05</td><td>-1.617734e-04</td><td>-2.198394e-05</td><td>-3.832025e-04</td><td>-9.392681e-05</td><td> 1.455258e-03</td><td> 8.182641e-05</td><td>-3.762252e-04</td><td>...          </td><td> 7.378108e-05</td><td> 7.129213e-05</td><td>-3.916821e-05</td><td>-7.263523e-05</td><td> 3.716118e-05</td><td> 5.951535e-05</td><td> 3.338443e-05</td><td>-1.032917e-04</td><td>-3.206325e-05</td><td> 2.516668e-05</td></tr>\n",
       "\t<tr><th scope=row>dintrate:dunrate.l4</th><td>-7.337564e-07</td><td> 6.271839e-05</td><td>-1.642859e-04</td><td> 7.857223e-05</td><td>-2.510778e-04</td><td> 1.695633e-04</td><td>-8.141881e-06</td><td> 8.182641e-05</td><td> 1.552615e-03</td><td>-8.968718e-05</td><td>...          </td><td>-1.324913e-04</td><td> 1.800131e-05</td><td>-1.365089e-04</td><td>-1.766002e-05</td><td>-1.177809e-04</td><td>-4.252742e-05</td><td>-6.916134e-05</td><td> 3.473545e-05</td><td> 2.695640e-05</td><td>-1.109832e-04</td></tr>\n",
       "\t<tr><th scope=row>dintrate:dintrate.l5</th><td> 5.261520e-07</td><td> 6.498111e-05</td><td> 3.308732e-05</td><td>-1.565187e-05</td><td>-1.849760e-05</td><td>-1.663970e-04</td><td>-1.302111e-05</td><td>-3.762252e-04</td><td>-8.968718e-05</td><td> 1.454266e-03</td><td>...          </td><td> 8.055975e-05</td><td> 7.661128e-06</td><td> 6.364233e-05</td><td> 6.588518e-05</td><td>-5.433440e-05</td><td>-7.415507e-05</td><td> 3.016126e-05</td><td> 7.049308e-05</td><td> 2.323724e-05</td><td>-8.140240e-05</td></tr>\n",
       "\t<tr><th scope=row>dintrate:dunrate.l5</th><td>-4.304195e-07</td><td>-4.628360e-05</td><td>-1.730350e-04</td><td> 8.298655e-05</td><td>-1.638125e-04</td><td> 8.790722e-05</td><td>-2.209137e-04</td><td> 1.562366e-04</td><td> 1.391352e-05</td><td> 8.236403e-05</td><td>...          </td><td>-2.082098e-04</td><td>-2.007247e-05</td><td>-1.353991e-04</td><td> 3.372206e-05</td><td>-1.296446e-04</td><td>-1.642047e-05</td><td>-1.165787e-04</td><td>-6.177546e-05</td><td>-7.971829e-05</td><td>-3.045749e-06</td></tr>\n",
       "\t<tr><th scope=row>dintrate:dintrate.l6</th><td> 4.824790e-07</td><td>-8.198035e-05</td><td>-2.748245e-05</td><td> 9.116783e-05</td><td> 1.769808e-05</td><td> 9.145420e-07</td><td>-1.538484e-05</td><td>-1.752395e-04</td><td>-1.357978e-05</td><td>-3.825693e-04</td><td>...          </td><td> 1.521446e-04</td><td>-1.738480e-04</td><td> 7.952183e-05</td><td> 7.832196e-06</td><td> 6.615009e-05</td><td> 7.801921e-05</td><td>-6.219638e-05</td><td>-8.611304e-05</td><td> 1.803685e-05</td><td> 4.591067e-05</td></tr>\n",
       "\t<tr><th scope=row>dintrate:dunrate.l6</th><td>-8.222603e-08</td><td> 7.921651e-06</td><td>-1.172596e-04</td><td>-4.755561e-05</td><td>-1.531434e-04</td><td> 8.033059e-05</td><td>-1.393270e-04</td><td> 8.541717e-05</td><td>-2.103507e-04</td><td> 1.559005e-04</td><td>...          </td><td> 2.589598e-05</td><td>-1.396530e-05</td><td>-2.075257e-04</td><td>-1.078594e-05</td><td>-1.359784e-04</td><td> 2.650735e-05</td><td>-1.358233e-04</td><td>-1.924594e-05</td><td>-1.230513e-04</td><td>-6.226831e-05</td></tr>\n",
       "\t<tr><th scope=row>dintrate:dintrate.l7</th><td> 4.814904e-07</td><td> 3.880557e-05</td><td>-4.006703e-05</td><td>-9.428838e-05</td><td>-1.318214e-05</td><td> 8.318314e-05</td><td> 2.736177e-05</td><td> 6.336946e-06</td><td>-1.026191e-05</td><td>-1.740257e-04</td><td>...          </td><td> 8.799011e-05</td><td>-3.831640e-04</td><td> 1.519154e-04</td><td>-1.705073e-04</td><td> 7.773614e-05</td><td>-5.646967e-08</td><td> 6.745101e-05</td><td> 8.386263e-05</td><td>-6.256466e-05</td><td>-6.997819e-05</td></tr>\n",
       "\t<tr><th scope=row>dintrate:dunrate.l7</th><td> 3.644189e-07</td><td>-1.303656e-05</td><td>-6.155058e-05</td><td> 1.210361e-05</td><td>-1.150961e-04</td><td>-3.970617e-05</td><td>-1.321935e-04</td><td> 7.378108e-05</td><td>-1.324913e-04</td><td> 8.055975e-05</td><td>...          </td><td> 1.559911e-03</td><td>-9.515346e-05</td><td> 1.992503e-05</td><td>-1.116823e-05</td><td>-2.148146e-04</td><td>-7.594950e-06</td><td>-1.499139e-04</td><td> 2.071191e-05</td><td>-1.521886e-04</td><td>-3.150293e-05</td></tr>\n",
       "\t<tr><th scope=row>dintrate:dintrate.l8</th><td> 6.753689e-07</td><td>-7.969122e-05</td><td> 4.616017e-05</td><td> 6.562371e-05</td><td>-5.849197e-05</td><td>-8.341021e-05</td><td>-3.183350e-05</td><td> 7.129213e-05</td><td> 1.800131e-05</td><td> 7.661128e-06</td><td>...          </td><td>-9.515346e-05</td><td> 1.456805e-03</td><td> 9.471909e-05</td><td>-3.857583e-04</td><td> 1.608031e-04</td><td>-1.600147e-04</td><td> 7.769380e-05</td><td>-1.284480e-05</td><td> 7.680330e-05</td><td> 5.190849e-05</td></tr>\n",
       "\t<tr><th scope=row>dintrate:dunrate.l8</th><td> 4.534599e-07</td><td>-7.113803e-05</td><td> 2.771309e-05</td><td> 8.792532e-06</td><td>-8.447666e-05</td><td> 2.900012e-05</td><td>-1.154851e-04</td><td>-3.916821e-05</td><td>-1.365089e-04</td><td> 6.364233e-05</td><td>...          </td><td> 1.992503e-05</td><td> 9.471909e-05</td><td> 1.554226e-03</td><td>-1.041190e-04</td><td> 1.284634e-05</td><td> 5.191075e-06</td><td>-2.296031e-04</td><td>-8.398532e-06</td><td>-1.713845e-04</td><td> 2.344836e-05</td></tr>\n",
       "\t<tr><th scope=row>dintrate:dintrate.l9</th><td> 7.941554e-07</td><td> 4.385920e-05</td><td>-9.570621e-05</td><td>-9.363966e-05</td><td> 6.088413e-05</td><td> 6.179456e-05</td><td>-2.811329e-05</td><td>-7.263523e-05</td><td>-1.766002e-05</td><td> 6.588518e-05</td><td>...          </td><td>-1.116823e-05</td><td>-3.857583e-04</td><td>-1.041190e-04</td><td> 1.459959e-03</td><td> 8.300016e-05</td><td>-3.912452e-04</td><td> 1.519365e-04</td><td>-1.497019e-04</td><td> 5.544205e-05</td><td> 1.954916e-05</td></tr>\n",
       "\t<tr><th scope=row>dintrate:dunrate.l9</th><td> 9.266696e-07</td><td>-8.048112e-05</td><td>-9.743544e-06</td><td>-4.604121e-05</td><td> 1.027081e-05</td><td> 2.623340e-05</td><td>-7.264523e-05</td><td> 3.716118e-05</td><td>-1.177809e-04</td><td>-5.433440e-05</td><td>...          </td><td>-2.148146e-04</td><td> 1.608031e-04</td><td> 1.284634e-05</td><td> 8.300016e-05</td><td> 1.539577e-03</td><td>-8.686884e-05</td><td>-1.467985e-05</td><td> 1.260767e-05</td><td>-2.654106e-04</td><td> 2.244389e-05</td></tr>\n",
       "\t<tr><th scope=row>dintrate:dintrate.l10</th><td> 7.970088e-07</td><td>-1.538091e-04</td><td> 2.377166e-05</td><td> 9.596340e-05</td><td>-1.183973e-04</td><td>-8.057683e-05</td><td> 3.275767e-05</td><td> 5.951535e-05</td><td>-4.252742e-05</td><td>-7.415507e-05</td><td>...          </td><td>-7.594950e-06</td><td>-1.600147e-04</td><td> 5.191075e-06</td><td>-3.912452e-04</td><td>-8.686884e-05</td><td> 1.474747e-03</td><td> 8.343084e-05</td><td>-3.988484e-04</td><td> 1.604578e-04</td><td>-1.544555e-04</td></tr>\n",
       "\t<tr><th scope=row>dintrate:dunrate.l10</th><td> 1.910053e-06</td><td> 6.945212e-05</td><td> 2.080137e-05</td><td>-1.046880e-04</td><td>-2.997076e-06</td><td>-4.711125e-05</td><td> 3.361399e-05</td><td> 3.338443e-05</td><td>-6.916134e-05</td><td> 3.016126e-05</td><td>...          </td><td>-1.499139e-04</td><td> 7.769380e-05</td><td>-2.296031e-04</td><td> 1.519365e-04</td><td>-1.467985e-05</td><td> 8.343084e-05</td><td> 1.513410e-03</td><td>-7.201448e-05</td><td>-4.059381e-05</td><td> 4.478393e-05</td></tr>\n",
       "\t<tr><th scope=row>dintrate:dintrate.l11</th><td> 7.052703e-07</td><td> 5.810983e-05</td><td> 2.807364e-05</td><td>-1.730531e-04</td><td> 2.857905e-05</td><td> 9.240472e-05</td><td>-1.232948e-04</td><td>-1.032917e-04</td><td> 3.473545e-05</td><td> 7.049308e-05</td><td>...          </td><td> 2.071191e-05</td><td>-1.284480e-05</td><td>-8.398532e-06</td><td>-1.497019e-04</td><td> 1.260767e-05</td><td>-3.988484e-04</td><td>-7.201448e-05</td><td> 1.455059e-03</td><td> 1.080892e-04</td><td>-4.668876e-04</td></tr>\n",
       "\t<tr><th scope=row>dintrate:dunrate.l11</th><td> 2.569216e-06</td><td> 8.680674e-05</td><td> 1.568670e-04</td><td> 3.695360e-05</td><td> 7.118306e-06</td><td>-1.032652e-04</td><td> 8.841142e-07</td><td>-3.206325e-05</td><td> 2.695640e-05</td><td> 2.323724e-05</td><td>...          </td><td>-1.521886e-04</td><td> 7.680330e-05</td><td>-1.713845e-04</td><td> 5.544205e-05</td><td>-2.654106e-04</td><td> 1.604578e-04</td><td>-4.059381e-05</td><td> 1.080892e-04</td><td> 1.484039e-03</td><td>-2.373702e-05</td></tr>\n",
       "\t<tr><th scope=row>dintrate:dintrate.l12</th><td> 5.875726e-07</td><td>-9.865812e-07</td><td>-5.180562e-05</td><td> 6.130630e-05</td><td> 2.271551e-05</td><td>-1.612851e-04</td><td> 2.630285e-05</td><td> 2.516668e-05</td><td>-1.109832e-04</td><td>-8.140240e-05</td><td>...          </td><td>-3.150293e-05</td><td> 5.190849e-05</td><td> 2.344836e-05</td><td> 1.954916e-05</td><td> 2.244389e-05</td><td>-1.544555e-04</td><td> 4.478393e-05</td><td>-4.668876e-04</td><td>-2.373702e-05</td><td> 1.256336e-03</td></tr>\n",
       "</tbody>\n",
       "</table>\n"
      ],
      "text/latex": [
       "\\begin{tabular}{r|llllllllllllllllllllllll}\n",
       "  & dintrate:(Intercept) & dintrate:dintrate.l1 & dintrate:dunrate.l1 & dintrate:dintrate.l2 & dintrate:dunrate.l2 & dintrate:dintrate.l3 & dintrate:dunrate.l3 & dintrate:dintrate.l4 & dintrate:dunrate.l4 & dintrate:dintrate.l5 & ... & dintrate:dunrate.l7 & dintrate:dintrate.l8 & dintrate:dunrate.l8 & dintrate:dintrate.l9 & dintrate:dunrate.l9 & dintrate:dintrate.l10 & dintrate:dunrate.l10 & dintrate:dintrate.l11 & dintrate:dunrate.l11 & dintrate:dintrate.l12\\\\\n",
       "\\hline\n",
       "\tdintrate:(Intercept) &  4.559220e-05 & -1.665208e-07 &  8.278933e-08 &  1.938842e-07 & -6.139707e-07 & -1.949552e-08 & -1.145922e-06 &  9.574064e-08 & -7.337564e-07 &  5.261520e-07 & ...           &  3.644189e-07 &  6.753689e-07 &  4.534599e-07 &  7.941554e-07 &  9.266696e-07 &  7.970088e-07 &  1.910053e-06 &  7.052703e-07 &  2.569216e-06 &  5.875726e-07\\\\\n",
       "\tdintrate:dintrate.l1 & -1.665208e-07 &  1.316836e-03 &  1.696495e-04 & -4.408513e-04 &  2.066117e-04 & -1.606277e-04 &  9.401798e-05 &  5.331379e-06 &  6.271839e-05 &  6.498111e-05 & ...           & -1.303656e-05 & -7.969122e-05 & -7.113803e-05 &  4.385920e-05 & -8.048112e-05 & -1.538091e-04 &  6.945212e-05 &  5.810983e-05 &  8.680674e-05 & -9.865812e-07\\\\\n",
       "\tdintrate:dunrate.l1 &  8.278933e-08 &  1.696495e-04 &  1.444776e-03 & -7.963590e-05 & -9.017595e-05 & -2.331059e-05 & -2.761405e-04 & -1.912844e-05 & -1.642859e-04 &  3.308732e-05 & ...           & -6.155058e-05 &  4.616017e-05 &  2.771309e-05 & -9.570621e-05 & -9.743544e-06 &  2.377166e-05 &  2.080137e-05 &  2.807364e-05 &  1.568670e-04 & -5.180562e-05\\\\\n",
       "\tdintrate:dintrate.l2 &  1.938842e-07 & -4.408513e-04 & -7.963590e-05 &  1.466687e-03 &  9.839411e-05 & -3.869401e-04 &  1.811095e-04 & -1.617734e-04 &  7.857223e-05 & -1.565187e-05 & ...           &  1.210361e-05 &  6.562371e-05 &  8.792532e-06 & -9.363966e-05 & -4.604121e-05 &  9.596340e-05 & -1.046880e-04 & -1.730531e-04 &  3.695360e-05 &  6.130630e-05\\\\\n",
       "\tdintrate:dunrate.l2 & -6.139707e-07 &  2.066117e-04 & -9.017595e-05 &  9.839411e-05 &  1.480301e-03 & -9.592376e-05 & -4.441337e-05 & -2.198394e-05 & -2.510778e-04 & -1.849760e-05 & ...           & -1.150961e-04 & -5.849197e-05 & -8.447666e-05 &  6.088413e-05 &  1.027081e-05 & -1.183973e-04 & -2.997076e-06 &  2.857905e-05 &  7.118306e-06 &  2.271551e-05\\\\\n",
       "\tdintrate:dintrate.l3 & -1.949552e-08 & -1.606277e-04 & -2.331059e-05 & -3.869401e-04 & -9.592376e-05 &  1.478963e-03 &  7.812399e-05 & -3.832025e-04 &  1.695633e-04 & -1.663970e-04 & ...           & -3.970617e-05 & -8.341021e-05 &  2.900012e-05 &  6.179456e-05 &  2.623340e-05 & -8.057683e-05 & -4.711125e-05 &  9.240472e-05 & -1.032652e-04 & -1.612851e-04\\\\\n",
       "\tdintrate:dunrate.l3 & -1.145922e-06 &  9.401798e-05 & -2.761405e-04 &  1.811095e-04 & -4.441337e-05 &  7.812399e-05 &  1.527897e-03 & -9.392681e-05 & -8.141881e-06 & -1.302111e-05 & ...           & -1.321935e-04 & -3.183350e-05 & -1.154851e-04 & -2.811329e-05 & -7.264523e-05 &  3.275767e-05 &  3.361399e-05 & -1.232948e-04 &  8.841142e-07 &  2.630285e-05\\\\\n",
       "\tdintrate:dintrate.l4 &  9.574064e-08 &  5.331379e-06 & -1.912844e-05 & -1.617734e-04 & -2.198394e-05 & -3.832025e-04 & -9.392681e-05 &  1.455258e-03 &  8.182641e-05 & -3.762252e-04 & ...           &  7.378108e-05 &  7.129213e-05 & -3.916821e-05 & -7.263523e-05 &  3.716118e-05 &  5.951535e-05 &  3.338443e-05 & -1.032917e-04 & -3.206325e-05 &  2.516668e-05\\\\\n",
       "\tdintrate:dunrate.l4 & -7.337564e-07 &  6.271839e-05 & -1.642859e-04 &  7.857223e-05 & -2.510778e-04 &  1.695633e-04 & -8.141881e-06 &  8.182641e-05 &  1.552615e-03 & -8.968718e-05 & ...           & -1.324913e-04 &  1.800131e-05 & -1.365089e-04 & -1.766002e-05 & -1.177809e-04 & -4.252742e-05 & -6.916134e-05 &  3.473545e-05 &  2.695640e-05 & -1.109832e-04\\\\\n",
       "\tdintrate:dintrate.l5 &  5.261520e-07 &  6.498111e-05 &  3.308732e-05 & -1.565187e-05 & -1.849760e-05 & -1.663970e-04 & -1.302111e-05 & -3.762252e-04 & -8.968718e-05 &  1.454266e-03 & ...           &  8.055975e-05 &  7.661128e-06 &  6.364233e-05 &  6.588518e-05 & -5.433440e-05 & -7.415507e-05 &  3.016126e-05 &  7.049308e-05 &  2.323724e-05 & -8.140240e-05\\\\\n",
       "\tdintrate:dunrate.l5 & -4.304195e-07 & -4.628360e-05 & -1.730350e-04 &  8.298655e-05 & -1.638125e-04 &  8.790722e-05 & -2.209137e-04 &  1.562366e-04 &  1.391352e-05 &  8.236403e-05 & ...           & -2.082098e-04 & -2.007247e-05 & -1.353991e-04 &  3.372206e-05 & -1.296446e-04 & -1.642047e-05 & -1.165787e-04 & -6.177546e-05 & -7.971829e-05 & -3.045749e-06\\\\\n",
       "\tdintrate:dintrate.l6 &  4.824790e-07 & -8.198035e-05 & -2.748245e-05 &  9.116783e-05 &  1.769808e-05 &  9.145420e-07 & -1.538484e-05 & -1.752395e-04 & -1.357978e-05 & -3.825693e-04 & ...           &  1.521446e-04 & -1.738480e-04 &  7.952183e-05 &  7.832196e-06 &  6.615009e-05 &  7.801921e-05 & -6.219638e-05 & -8.611304e-05 &  1.803685e-05 &  4.591067e-05\\\\\n",
       "\tdintrate:dunrate.l6 & -8.222603e-08 &  7.921651e-06 & -1.172596e-04 & -4.755561e-05 & -1.531434e-04 &  8.033059e-05 & -1.393270e-04 &  8.541717e-05 & -2.103507e-04 &  1.559005e-04 & ...           &  2.589598e-05 & -1.396530e-05 & -2.075257e-04 & -1.078594e-05 & -1.359784e-04 &  2.650735e-05 & -1.358233e-04 & -1.924594e-05 & -1.230513e-04 & -6.226831e-05\\\\\n",
       "\tdintrate:dintrate.l7 &  4.814904e-07 &  3.880557e-05 & -4.006703e-05 & -9.428838e-05 & -1.318214e-05 &  8.318314e-05 &  2.736177e-05 &  6.336946e-06 & -1.026191e-05 & -1.740257e-04 & ...           &  8.799011e-05 & -3.831640e-04 &  1.519154e-04 & -1.705073e-04 &  7.773614e-05 & -5.646967e-08 &  6.745101e-05 &  8.386263e-05 & -6.256466e-05 & -6.997819e-05\\\\\n",
       "\tdintrate:dunrate.l7 &  3.644189e-07 & -1.303656e-05 & -6.155058e-05 &  1.210361e-05 & -1.150961e-04 & -3.970617e-05 & -1.321935e-04 &  7.378108e-05 & -1.324913e-04 &  8.055975e-05 & ...           &  1.559911e-03 & -9.515346e-05 &  1.992503e-05 & -1.116823e-05 & -2.148146e-04 & -7.594950e-06 & -1.499139e-04 &  2.071191e-05 & -1.521886e-04 & -3.150293e-05\\\\\n",
       "\tdintrate:dintrate.l8 &  6.753689e-07 & -7.969122e-05 &  4.616017e-05 &  6.562371e-05 & -5.849197e-05 & -8.341021e-05 & -3.183350e-05 &  7.129213e-05 &  1.800131e-05 &  7.661128e-06 & ...           & -9.515346e-05 &  1.456805e-03 &  9.471909e-05 & -3.857583e-04 &  1.608031e-04 & -1.600147e-04 &  7.769380e-05 & -1.284480e-05 &  7.680330e-05 &  5.190849e-05\\\\\n",
       "\tdintrate:dunrate.l8 &  4.534599e-07 & -7.113803e-05 &  2.771309e-05 &  8.792532e-06 & -8.447666e-05 &  2.900012e-05 & -1.154851e-04 & -3.916821e-05 & -1.365089e-04 &  6.364233e-05 & ...           &  1.992503e-05 &  9.471909e-05 &  1.554226e-03 & -1.041190e-04 &  1.284634e-05 &  5.191075e-06 & -2.296031e-04 & -8.398532e-06 & -1.713845e-04 &  2.344836e-05\\\\\n",
       "\tdintrate:dintrate.l9 &  7.941554e-07 &  4.385920e-05 & -9.570621e-05 & -9.363966e-05 &  6.088413e-05 &  6.179456e-05 & -2.811329e-05 & -7.263523e-05 & -1.766002e-05 &  6.588518e-05 & ...           & -1.116823e-05 & -3.857583e-04 & -1.041190e-04 &  1.459959e-03 &  8.300016e-05 & -3.912452e-04 &  1.519365e-04 & -1.497019e-04 &  5.544205e-05 &  1.954916e-05\\\\\n",
       "\tdintrate:dunrate.l9 &  9.266696e-07 & -8.048112e-05 & -9.743544e-06 & -4.604121e-05 &  1.027081e-05 &  2.623340e-05 & -7.264523e-05 &  3.716118e-05 & -1.177809e-04 & -5.433440e-05 & ...           & -2.148146e-04 &  1.608031e-04 &  1.284634e-05 &  8.300016e-05 &  1.539577e-03 & -8.686884e-05 & -1.467985e-05 &  1.260767e-05 & -2.654106e-04 &  2.244389e-05\\\\\n",
       "\tdintrate:dintrate.l10 &  7.970088e-07 & -1.538091e-04 &  2.377166e-05 &  9.596340e-05 & -1.183973e-04 & -8.057683e-05 &  3.275767e-05 &  5.951535e-05 & -4.252742e-05 & -7.415507e-05 & ...           & -7.594950e-06 & -1.600147e-04 &  5.191075e-06 & -3.912452e-04 & -8.686884e-05 &  1.474747e-03 &  8.343084e-05 & -3.988484e-04 &  1.604578e-04 & -1.544555e-04\\\\\n",
       "\tdintrate:dunrate.l10 &  1.910053e-06 &  6.945212e-05 &  2.080137e-05 & -1.046880e-04 & -2.997076e-06 & -4.711125e-05 &  3.361399e-05 &  3.338443e-05 & -6.916134e-05 &  3.016126e-05 & ...           & -1.499139e-04 &  7.769380e-05 & -2.296031e-04 &  1.519365e-04 & -1.467985e-05 &  8.343084e-05 &  1.513410e-03 & -7.201448e-05 & -4.059381e-05 &  4.478393e-05\\\\\n",
       "\tdintrate:dintrate.l11 &  7.052703e-07 &  5.810983e-05 &  2.807364e-05 & -1.730531e-04 &  2.857905e-05 &  9.240472e-05 & -1.232948e-04 & -1.032917e-04 &  3.473545e-05 &  7.049308e-05 & ...           &  2.071191e-05 & -1.284480e-05 & -8.398532e-06 & -1.497019e-04 &  1.260767e-05 & -3.988484e-04 & -7.201448e-05 &  1.455059e-03 &  1.080892e-04 & -4.668876e-04\\\\\n",
       "\tdintrate:dunrate.l11 &  2.569216e-06 &  8.680674e-05 &  1.568670e-04 &  3.695360e-05 &  7.118306e-06 & -1.032652e-04 &  8.841142e-07 & -3.206325e-05 &  2.695640e-05 &  2.323724e-05 & ...           & -1.521886e-04 &  7.680330e-05 & -1.713845e-04 &  5.544205e-05 & -2.654106e-04 &  1.604578e-04 & -4.059381e-05 &  1.080892e-04 &  1.484039e-03 & -2.373702e-05\\\\\n",
       "\tdintrate:dintrate.l12 &  5.875726e-07 & -9.865812e-07 & -5.180562e-05 &  6.130630e-05 &  2.271551e-05 & -1.612851e-04 &  2.630285e-05 &  2.516668e-05 & -1.109832e-04 & -8.140240e-05 & ...           & -3.150293e-05 &  5.190849e-05 &  2.344836e-05 &  1.954916e-05 &  2.244389e-05 & -1.544555e-04 &  4.478393e-05 & -4.668876e-04 & -2.373702e-05 &  1.256336e-03\\\\\n",
       "\\end{tabular}\n"
      ],
      "text/markdown": [
       "\n",
       "| <!--/--> | dintrate:(Intercept) | dintrate:dintrate.l1 | dintrate:dunrate.l1 | dintrate:dintrate.l2 | dintrate:dunrate.l2 | dintrate:dintrate.l3 | dintrate:dunrate.l3 | dintrate:dintrate.l4 | dintrate:dunrate.l4 | dintrate:dintrate.l5 | ... | dintrate:dunrate.l7 | dintrate:dintrate.l8 | dintrate:dunrate.l8 | dintrate:dintrate.l9 | dintrate:dunrate.l9 | dintrate:dintrate.l10 | dintrate:dunrate.l10 | dintrate:dintrate.l11 | dintrate:dunrate.l11 | dintrate:dintrate.l12 |\n",
       "|---|---|---|---|---|---|---|---|---|---|---|---|---|---|---|---|---|---|---|---|---|---|\n",
       "| dintrate:(Intercept) |  4.559220e-05 | -1.665208e-07 |  8.278933e-08 |  1.938842e-07 | -6.139707e-07 | -1.949552e-08 | -1.145922e-06 |  9.574064e-08 | -7.337564e-07 |  5.261520e-07 | ...           |  3.644189e-07 |  6.753689e-07 |  4.534599e-07 |  7.941554e-07 |  9.266696e-07 |  7.970088e-07 |  1.910053e-06 |  7.052703e-07 |  2.569216e-06 |  5.875726e-07 |\n",
       "| dintrate:dintrate.l1 | -1.665208e-07 |  1.316836e-03 |  1.696495e-04 | -4.408513e-04 |  2.066117e-04 | -1.606277e-04 |  9.401798e-05 |  5.331379e-06 |  6.271839e-05 |  6.498111e-05 | ...           | -1.303656e-05 | -7.969122e-05 | -7.113803e-05 |  4.385920e-05 | -8.048112e-05 | -1.538091e-04 |  6.945212e-05 |  5.810983e-05 |  8.680674e-05 | -9.865812e-07 |\n",
       "| dintrate:dunrate.l1 |  8.278933e-08 |  1.696495e-04 |  1.444776e-03 | -7.963590e-05 | -9.017595e-05 | -2.331059e-05 | -2.761405e-04 | -1.912844e-05 | -1.642859e-04 |  3.308732e-05 | ...           | -6.155058e-05 |  4.616017e-05 |  2.771309e-05 | -9.570621e-05 | -9.743544e-06 |  2.377166e-05 |  2.080137e-05 |  2.807364e-05 |  1.568670e-04 | -5.180562e-05 |\n",
       "| dintrate:dintrate.l2 |  1.938842e-07 | -4.408513e-04 | -7.963590e-05 |  1.466687e-03 |  9.839411e-05 | -3.869401e-04 |  1.811095e-04 | -1.617734e-04 |  7.857223e-05 | -1.565187e-05 | ...           |  1.210361e-05 |  6.562371e-05 |  8.792532e-06 | -9.363966e-05 | -4.604121e-05 |  9.596340e-05 | -1.046880e-04 | -1.730531e-04 |  3.695360e-05 |  6.130630e-05 |\n",
       "| dintrate:dunrate.l2 | -6.139707e-07 |  2.066117e-04 | -9.017595e-05 |  9.839411e-05 |  1.480301e-03 | -9.592376e-05 | -4.441337e-05 | -2.198394e-05 | -2.510778e-04 | -1.849760e-05 | ...           | -1.150961e-04 | -5.849197e-05 | -8.447666e-05 |  6.088413e-05 |  1.027081e-05 | -1.183973e-04 | -2.997076e-06 |  2.857905e-05 |  7.118306e-06 |  2.271551e-05 |\n",
       "| dintrate:dintrate.l3 | -1.949552e-08 | -1.606277e-04 | -2.331059e-05 | -3.869401e-04 | -9.592376e-05 |  1.478963e-03 |  7.812399e-05 | -3.832025e-04 |  1.695633e-04 | -1.663970e-04 | ...           | -3.970617e-05 | -8.341021e-05 |  2.900012e-05 |  6.179456e-05 |  2.623340e-05 | -8.057683e-05 | -4.711125e-05 |  9.240472e-05 | -1.032652e-04 | -1.612851e-04 |\n",
       "| dintrate:dunrate.l3 | -1.145922e-06 |  9.401798e-05 | -2.761405e-04 |  1.811095e-04 | -4.441337e-05 |  7.812399e-05 |  1.527897e-03 | -9.392681e-05 | -8.141881e-06 | -1.302111e-05 | ...           | -1.321935e-04 | -3.183350e-05 | -1.154851e-04 | -2.811329e-05 | -7.264523e-05 |  3.275767e-05 |  3.361399e-05 | -1.232948e-04 |  8.841142e-07 |  2.630285e-05 |\n",
       "| dintrate:dintrate.l4 |  9.574064e-08 |  5.331379e-06 | -1.912844e-05 | -1.617734e-04 | -2.198394e-05 | -3.832025e-04 | -9.392681e-05 |  1.455258e-03 |  8.182641e-05 | -3.762252e-04 | ...           |  7.378108e-05 |  7.129213e-05 | -3.916821e-05 | -7.263523e-05 |  3.716118e-05 |  5.951535e-05 |  3.338443e-05 | -1.032917e-04 | -3.206325e-05 |  2.516668e-05 |\n",
       "| dintrate:dunrate.l4 | -7.337564e-07 |  6.271839e-05 | -1.642859e-04 |  7.857223e-05 | -2.510778e-04 |  1.695633e-04 | -8.141881e-06 |  8.182641e-05 |  1.552615e-03 | -8.968718e-05 | ...           | -1.324913e-04 |  1.800131e-05 | -1.365089e-04 | -1.766002e-05 | -1.177809e-04 | -4.252742e-05 | -6.916134e-05 |  3.473545e-05 |  2.695640e-05 | -1.109832e-04 |\n",
       "| dintrate:dintrate.l5 |  5.261520e-07 |  6.498111e-05 |  3.308732e-05 | -1.565187e-05 | -1.849760e-05 | -1.663970e-04 | -1.302111e-05 | -3.762252e-04 | -8.968718e-05 |  1.454266e-03 | ...           |  8.055975e-05 |  7.661128e-06 |  6.364233e-05 |  6.588518e-05 | -5.433440e-05 | -7.415507e-05 |  3.016126e-05 |  7.049308e-05 |  2.323724e-05 | -8.140240e-05 |\n",
       "| dintrate:dunrate.l5 | -4.304195e-07 | -4.628360e-05 | -1.730350e-04 |  8.298655e-05 | -1.638125e-04 |  8.790722e-05 | -2.209137e-04 |  1.562366e-04 |  1.391352e-05 |  8.236403e-05 | ...           | -2.082098e-04 | -2.007247e-05 | -1.353991e-04 |  3.372206e-05 | -1.296446e-04 | -1.642047e-05 | -1.165787e-04 | -6.177546e-05 | -7.971829e-05 | -3.045749e-06 |\n",
       "| dintrate:dintrate.l6 |  4.824790e-07 | -8.198035e-05 | -2.748245e-05 |  9.116783e-05 |  1.769808e-05 |  9.145420e-07 | -1.538484e-05 | -1.752395e-04 | -1.357978e-05 | -3.825693e-04 | ...           |  1.521446e-04 | -1.738480e-04 |  7.952183e-05 |  7.832196e-06 |  6.615009e-05 |  7.801921e-05 | -6.219638e-05 | -8.611304e-05 |  1.803685e-05 |  4.591067e-05 |\n",
       "| dintrate:dunrate.l6 | -8.222603e-08 |  7.921651e-06 | -1.172596e-04 | -4.755561e-05 | -1.531434e-04 |  8.033059e-05 | -1.393270e-04 |  8.541717e-05 | -2.103507e-04 |  1.559005e-04 | ...           |  2.589598e-05 | -1.396530e-05 | -2.075257e-04 | -1.078594e-05 | -1.359784e-04 |  2.650735e-05 | -1.358233e-04 | -1.924594e-05 | -1.230513e-04 | -6.226831e-05 |\n",
       "| dintrate:dintrate.l7 |  4.814904e-07 |  3.880557e-05 | -4.006703e-05 | -9.428838e-05 | -1.318214e-05 |  8.318314e-05 |  2.736177e-05 |  6.336946e-06 | -1.026191e-05 | -1.740257e-04 | ...           |  8.799011e-05 | -3.831640e-04 |  1.519154e-04 | -1.705073e-04 |  7.773614e-05 | -5.646967e-08 |  6.745101e-05 |  8.386263e-05 | -6.256466e-05 | -6.997819e-05 |\n",
       "| dintrate:dunrate.l7 |  3.644189e-07 | -1.303656e-05 | -6.155058e-05 |  1.210361e-05 | -1.150961e-04 | -3.970617e-05 | -1.321935e-04 |  7.378108e-05 | -1.324913e-04 |  8.055975e-05 | ...           |  1.559911e-03 | -9.515346e-05 |  1.992503e-05 | -1.116823e-05 | -2.148146e-04 | -7.594950e-06 | -1.499139e-04 |  2.071191e-05 | -1.521886e-04 | -3.150293e-05 |\n",
       "| dintrate:dintrate.l8 |  6.753689e-07 | -7.969122e-05 |  4.616017e-05 |  6.562371e-05 | -5.849197e-05 | -8.341021e-05 | -3.183350e-05 |  7.129213e-05 |  1.800131e-05 |  7.661128e-06 | ...           | -9.515346e-05 |  1.456805e-03 |  9.471909e-05 | -3.857583e-04 |  1.608031e-04 | -1.600147e-04 |  7.769380e-05 | -1.284480e-05 |  7.680330e-05 |  5.190849e-05 |\n",
       "| dintrate:dunrate.l8 |  4.534599e-07 | -7.113803e-05 |  2.771309e-05 |  8.792532e-06 | -8.447666e-05 |  2.900012e-05 | -1.154851e-04 | -3.916821e-05 | -1.365089e-04 |  6.364233e-05 | ...           |  1.992503e-05 |  9.471909e-05 |  1.554226e-03 | -1.041190e-04 |  1.284634e-05 |  5.191075e-06 | -2.296031e-04 | -8.398532e-06 | -1.713845e-04 |  2.344836e-05 |\n",
       "| dintrate:dintrate.l9 |  7.941554e-07 |  4.385920e-05 | -9.570621e-05 | -9.363966e-05 |  6.088413e-05 |  6.179456e-05 | -2.811329e-05 | -7.263523e-05 | -1.766002e-05 |  6.588518e-05 | ...           | -1.116823e-05 | -3.857583e-04 | -1.041190e-04 |  1.459959e-03 |  8.300016e-05 | -3.912452e-04 |  1.519365e-04 | -1.497019e-04 |  5.544205e-05 |  1.954916e-05 |\n",
       "| dintrate:dunrate.l9 |  9.266696e-07 | -8.048112e-05 | -9.743544e-06 | -4.604121e-05 |  1.027081e-05 |  2.623340e-05 | -7.264523e-05 |  3.716118e-05 | -1.177809e-04 | -5.433440e-05 | ...           | -2.148146e-04 |  1.608031e-04 |  1.284634e-05 |  8.300016e-05 |  1.539577e-03 | -8.686884e-05 | -1.467985e-05 |  1.260767e-05 | -2.654106e-04 |  2.244389e-05 |\n",
       "| dintrate:dintrate.l10 |  7.970088e-07 | -1.538091e-04 |  2.377166e-05 |  9.596340e-05 | -1.183973e-04 | -8.057683e-05 |  3.275767e-05 |  5.951535e-05 | -4.252742e-05 | -7.415507e-05 | ...           | -7.594950e-06 | -1.600147e-04 |  5.191075e-06 | -3.912452e-04 | -8.686884e-05 |  1.474747e-03 |  8.343084e-05 | -3.988484e-04 |  1.604578e-04 | -1.544555e-04 |\n",
       "| dintrate:dunrate.l10 |  1.910053e-06 |  6.945212e-05 |  2.080137e-05 | -1.046880e-04 | -2.997076e-06 | -4.711125e-05 |  3.361399e-05 |  3.338443e-05 | -6.916134e-05 |  3.016126e-05 | ...           | -1.499139e-04 |  7.769380e-05 | -2.296031e-04 |  1.519365e-04 | -1.467985e-05 |  8.343084e-05 |  1.513410e-03 | -7.201448e-05 | -4.059381e-05 |  4.478393e-05 |\n",
       "| dintrate:dintrate.l11 |  7.052703e-07 |  5.810983e-05 |  2.807364e-05 | -1.730531e-04 |  2.857905e-05 |  9.240472e-05 | -1.232948e-04 | -1.032917e-04 |  3.473545e-05 |  7.049308e-05 | ...           |  2.071191e-05 | -1.284480e-05 | -8.398532e-06 | -1.497019e-04 |  1.260767e-05 | -3.988484e-04 | -7.201448e-05 |  1.455059e-03 |  1.080892e-04 | -4.668876e-04 |\n",
       "| dintrate:dunrate.l11 |  2.569216e-06 |  8.680674e-05 |  1.568670e-04 |  3.695360e-05 |  7.118306e-06 | -1.032652e-04 |  8.841142e-07 | -3.206325e-05 |  2.695640e-05 |  2.323724e-05 | ...           | -1.521886e-04 |  7.680330e-05 | -1.713845e-04 |  5.544205e-05 | -2.654106e-04 |  1.604578e-04 | -4.059381e-05 |  1.080892e-04 |  1.484039e-03 | -2.373702e-05 |\n",
       "| dintrate:dintrate.l12 |  5.875726e-07 | -9.865812e-07 | -5.180562e-05 |  6.130630e-05 |  2.271551e-05 | -1.612851e-04 |  2.630285e-05 |  2.516668e-05 | -1.109832e-04 | -8.140240e-05 | ...           | -3.150293e-05 |  5.190849e-05 |  2.344836e-05 |  1.954916e-05 |  2.244389e-05 | -1.544555e-04 |  4.478393e-05 | -4.668876e-04 | -2.373702e-05 |  1.256336e-03 |\n",
       "\n"
      ],
      "text/plain": [
       "                      dintrate:(Intercept) dintrate:dintrate.l1\n",
       "dintrate:(Intercept)   4.559220e-05        -1.665208e-07       \n",
       "dintrate:dintrate.l1  -1.665208e-07         1.316836e-03       \n",
       "dintrate:dunrate.l1    8.278933e-08         1.696495e-04       \n",
       "dintrate:dintrate.l2   1.938842e-07        -4.408513e-04       \n",
       "dintrate:dunrate.l2   -6.139707e-07         2.066117e-04       \n",
       "dintrate:dintrate.l3  -1.949552e-08        -1.606277e-04       \n",
       "dintrate:dunrate.l3   -1.145922e-06         9.401798e-05       \n",
       "dintrate:dintrate.l4   9.574064e-08         5.331379e-06       \n",
       "dintrate:dunrate.l4   -7.337564e-07         6.271839e-05       \n",
       "dintrate:dintrate.l5   5.261520e-07         6.498111e-05       \n",
       "dintrate:dunrate.l5   -4.304195e-07        -4.628360e-05       \n",
       "dintrate:dintrate.l6   4.824790e-07        -8.198035e-05       \n",
       "dintrate:dunrate.l6   -8.222603e-08         7.921651e-06       \n",
       "dintrate:dintrate.l7   4.814904e-07         3.880557e-05       \n",
       "dintrate:dunrate.l7    3.644189e-07        -1.303656e-05       \n",
       "dintrate:dintrate.l8   6.753689e-07        -7.969122e-05       \n",
       "dintrate:dunrate.l8    4.534599e-07        -7.113803e-05       \n",
       "dintrate:dintrate.l9   7.941554e-07         4.385920e-05       \n",
       "dintrate:dunrate.l9    9.266696e-07        -8.048112e-05       \n",
       "dintrate:dintrate.l10  7.970088e-07        -1.538091e-04       \n",
       "dintrate:dunrate.l10   1.910053e-06         6.945212e-05       \n",
       "dintrate:dintrate.l11  7.052703e-07         5.810983e-05       \n",
       "dintrate:dunrate.l11   2.569216e-06         8.680674e-05       \n",
       "dintrate:dintrate.l12  5.875726e-07        -9.865812e-07       \n",
       "                      dintrate:dunrate.l1 dintrate:dintrate.l2\n",
       "dintrate:(Intercept)   8.278933e-08        1.938842e-07       \n",
       "dintrate:dintrate.l1   1.696495e-04       -4.408513e-04       \n",
       "dintrate:dunrate.l1    1.444776e-03       -7.963590e-05       \n",
       "dintrate:dintrate.l2  -7.963590e-05        1.466687e-03       \n",
       "dintrate:dunrate.l2   -9.017595e-05        9.839411e-05       \n",
       "dintrate:dintrate.l3  -2.331059e-05       -3.869401e-04       \n",
       "dintrate:dunrate.l3   -2.761405e-04        1.811095e-04       \n",
       "dintrate:dintrate.l4  -1.912844e-05       -1.617734e-04       \n",
       "dintrate:dunrate.l4   -1.642859e-04        7.857223e-05       \n",
       "dintrate:dintrate.l5   3.308732e-05       -1.565187e-05       \n",
       "dintrate:dunrate.l5   -1.730350e-04        8.298655e-05       \n",
       "dintrate:dintrate.l6  -2.748245e-05        9.116783e-05       \n",
       "dintrate:dunrate.l6   -1.172596e-04       -4.755561e-05       \n",
       "dintrate:dintrate.l7  -4.006703e-05       -9.428838e-05       \n",
       "dintrate:dunrate.l7   -6.155058e-05        1.210361e-05       \n",
       "dintrate:dintrate.l8   4.616017e-05        6.562371e-05       \n",
       "dintrate:dunrate.l8    2.771309e-05        8.792532e-06       \n",
       "dintrate:dintrate.l9  -9.570621e-05       -9.363966e-05       \n",
       "dintrate:dunrate.l9   -9.743544e-06       -4.604121e-05       \n",
       "dintrate:dintrate.l10  2.377166e-05        9.596340e-05       \n",
       "dintrate:dunrate.l10   2.080137e-05       -1.046880e-04       \n",
       "dintrate:dintrate.l11  2.807364e-05       -1.730531e-04       \n",
       "dintrate:dunrate.l11   1.568670e-04        3.695360e-05       \n",
       "dintrate:dintrate.l12 -5.180562e-05        6.130630e-05       \n",
       "                      dintrate:dunrate.l2 dintrate:dintrate.l3\n",
       "dintrate:(Intercept)  -6.139707e-07       -1.949552e-08       \n",
       "dintrate:dintrate.l1   2.066117e-04       -1.606277e-04       \n",
       "dintrate:dunrate.l1   -9.017595e-05       -2.331059e-05       \n",
       "dintrate:dintrate.l2   9.839411e-05       -3.869401e-04       \n",
       "dintrate:dunrate.l2    1.480301e-03       -9.592376e-05       \n",
       "dintrate:dintrate.l3  -9.592376e-05        1.478963e-03       \n",
       "dintrate:dunrate.l3   -4.441337e-05        7.812399e-05       \n",
       "dintrate:dintrate.l4  -2.198394e-05       -3.832025e-04       \n",
       "dintrate:dunrate.l4   -2.510778e-04        1.695633e-04       \n",
       "dintrate:dintrate.l5  -1.849760e-05       -1.663970e-04       \n",
       "dintrate:dunrate.l5   -1.638125e-04        8.790722e-05       \n",
       "dintrate:dintrate.l6   1.769808e-05        9.145420e-07       \n",
       "dintrate:dunrate.l6   -1.531434e-04        8.033059e-05       \n",
       "dintrate:dintrate.l7  -1.318214e-05        8.318314e-05       \n",
       "dintrate:dunrate.l7   -1.150961e-04       -3.970617e-05       \n",
       "dintrate:dintrate.l8  -5.849197e-05       -8.341021e-05       \n",
       "dintrate:dunrate.l8   -8.447666e-05        2.900012e-05       \n",
       "dintrate:dintrate.l9   6.088413e-05        6.179456e-05       \n",
       "dintrate:dunrate.l9    1.027081e-05        2.623340e-05       \n",
       "dintrate:dintrate.l10 -1.183973e-04       -8.057683e-05       \n",
       "dintrate:dunrate.l10  -2.997076e-06       -4.711125e-05       \n",
       "dintrate:dintrate.l11  2.857905e-05        9.240472e-05       \n",
       "dintrate:dunrate.l11   7.118306e-06       -1.032652e-04       \n",
       "dintrate:dintrate.l12  2.271551e-05       -1.612851e-04       \n",
       "                      dintrate:dunrate.l3 dintrate:dintrate.l4\n",
       "dintrate:(Intercept)  -1.145922e-06        9.574064e-08       \n",
       "dintrate:dintrate.l1   9.401798e-05        5.331379e-06       \n",
       "dintrate:dunrate.l1   -2.761405e-04       -1.912844e-05       \n",
       "dintrate:dintrate.l2   1.811095e-04       -1.617734e-04       \n",
       "dintrate:dunrate.l2   -4.441337e-05       -2.198394e-05       \n",
       "dintrate:dintrate.l3   7.812399e-05       -3.832025e-04       \n",
       "dintrate:dunrate.l3    1.527897e-03       -9.392681e-05       \n",
       "dintrate:dintrate.l4  -9.392681e-05        1.455258e-03       \n",
       "dintrate:dunrate.l4   -8.141881e-06        8.182641e-05       \n",
       "dintrate:dintrate.l5  -1.302111e-05       -3.762252e-04       \n",
       "dintrate:dunrate.l5   -2.209137e-04        1.562366e-04       \n",
       "dintrate:dintrate.l6  -1.538484e-05       -1.752395e-04       \n",
       "dintrate:dunrate.l6   -1.393270e-04        8.541717e-05       \n",
       "dintrate:dintrate.l7   2.736177e-05        6.336946e-06       \n",
       "dintrate:dunrate.l7   -1.321935e-04        7.378108e-05       \n",
       "dintrate:dintrate.l8  -3.183350e-05        7.129213e-05       \n",
       "dintrate:dunrate.l8   -1.154851e-04       -3.916821e-05       \n",
       "dintrate:dintrate.l9  -2.811329e-05       -7.263523e-05       \n",
       "dintrate:dunrate.l9   -7.264523e-05        3.716118e-05       \n",
       "dintrate:dintrate.l10  3.275767e-05        5.951535e-05       \n",
       "dintrate:dunrate.l10   3.361399e-05        3.338443e-05       \n",
       "dintrate:dintrate.l11 -1.232948e-04       -1.032917e-04       \n",
       "dintrate:dunrate.l11   8.841142e-07       -3.206325e-05       \n",
       "dintrate:dintrate.l12  2.630285e-05        2.516668e-05       \n",
       "                      dintrate:dunrate.l4 dintrate:dintrate.l5 ...\n",
       "dintrate:(Intercept)  -7.337564e-07        5.261520e-07        ...\n",
       "dintrate:dintrate.l1   6.271839e-05        6.498111e-05        ...\n",
       "dintrate:dunrate.l1   -1.642859e-04        3.308732e-05        ...\n",
       "dintrate:dintrate.l2   7.857223e-05       -1.565187e-05        ...\n",
       "dintrate:dunrate.l2   -2.510778e-04       -1.849760e-05        ...\n",
       "dintrate:dintrate.l3   1.695633e-04       -1.663970e-04        ...\n",
       "dintrate:dunrate.l3   -8.141881e-06       -1.302111e-05        ...\n",
       "dintrate:dintrate.l4   8.182641e-05       -3.762252e-04        ...\n",
       "dintrate:dunrate.l4    1.552615e-03       -8.968718e-05        ...\n",
       "dintrate:dintrate.l5  -8.968718e-05        1.454266e-03        ...\n",
       "dintrate:dunrate.l5    1.391352e-05        8.236403e-05        ...\n",
       "dintrate:dintrate.l6  -1.357978e-05       -3.825693e-04        ...\n",
       "dintrate:dunrate.l6   -2.103507e-04        1.559005e-04        ...\n",
       "dintrate:dintrate.l7  -1.026191e-05       -1.740257e-04        ...\n",
       "dintrate:dunrate.l7   -1.324913e-04        8.055975e-05        ...\n",
       "dintrate:dintrate.l8   1.800131e-05        7.661128e-06        ...\n",
       "dintrate:dunrate.l8   -1.365089e-04        6.364233e-05        ...\n",
       "dintrate:dintrate.l9  -1.766002e-05        6.588518e-05        ...\n",
       "dintrate:dunrate.l9   -1.177809e-04       -5.433440e-05        ...\n",
       "dintrate:dintrate.l10 -4.252742e-05       -7.415507e-05        ...\n",
       "dintrate:dunrate.l10  -6.916134e-05        3.016126e-05        ...\n",
       "dintrate:dintrate.l11  3.473545e-05        7.049308e-05        ...\n",
       "dintrate:dunrate.l11   2.695640e-05        2.323724e-05        ...\n",
       "dintrate:dintrate.l12 -1.109832e-04       -8.140240e-05        ...\n",
       "                      dintrate:dunrate.l7 dintrate:dintrate.l8\n",
       "dintrate:(Intercept)   3.644189e-07        6.753689e-07       \n",
       "dintrate:dintrate.l1  -1.303656e-05       -7.969122e-05       \n",
       "dintrate:dunrate.l1   -6.155058e-05        4.616017e-05       \n",
       "dintrate:dintrate.l2   1.210361e-05        6.562371e-05       \n",
       "dintrate:dunrate.l2   -1.150961e-04       -5.849197e-05       \n",
       "dintrate:dintrate.l3  -3.970617e-05       -8.341021e-05       \n",
       "dintrate:dunrate.l3   -1.321935e-04       -3.183350e-05       \n",
       "dintrate:dintrate.l4   7.378108e-05        7.129213e-05       \n",
       "dintrate:dunrate.l4   -1.324913e-04        1.800131e-05       \n",
       "dintrate:dintrate.l5   8.055975e-05        7.661128e-06       \n",
       "dintrate:dunrate.l5   -2.082098e-04       -2.007247e-05       \n",
       "dintrate:dintrate.l6   1.521446e-04       -1.738480e-04       \n",
       "dintrate:dunrate.l6    2.589598e-05       -1.396530e-05       \n",
       "dintrate:dintrate.l7   8.799011e-05       -3.831640e-04       \n",
       "dintrate:dunrate.l7    1.559911e-03       -9.515346e-05       \n",
       "dintrate:dintrate.l8  -9.515346e-05        1.456805e-03       \n",
       "dintrate:dunrate.l8    1.992503e-05        9.471909e-05       \n",
       "dintrate:dintrate.l9  -1.116823e-05       -3.857583e-04       \n",
       "dintrate:dunrate.l9   -2.148146e-04        1.608031e-04       \n",
       "dintrate:dintrate.l10 -7.594950e-06       -1.600147e-04       \n",
       "dintrate:dunrate.l10  -1.499139e-04        7.769380e-05       \n",
       "dintrate:dintrate.l11  2.071191e-05       -1.284480e-05       \n",
       "dintrate:dunrate.l11  -1.521886e-04        7.680330e-05       \n",
       "dintrate:dintrate.l12 -3.150293e-05        5.190849e-05       \n",
       "                      dintrate:dunrate.l8 dintrate:dintrate.l9\n",
       "dintrate:(Intercept)   4.534599e-07        7.941554e-07       \n",
       "dintrate:dintrate.l1  -7.113803e-05        4.385920e-05       \n",
       "dintrate:dunrate.l1    2.771309e-05       -9.570621e-05       \n",
       "dintrate:dintrate.l2   8.792532e-06       -9.363966e-05       \n",
       "dintrate:dunrate.l2   -8.447666e-05        6.088413e-05       \n",
       "dintrate:dintrate.l3   2.900012e-05        6.179456e-05       \n",
       "dintrate:dunrate.l3   -1.154851e-04       -2.811329e-05       \n",
       "dintrate:dintrate.l4  -3.916821e-05       -7.263523e-05       \n",
       "dintrate:dunrate.l4   -1.365089e-04       -1.766002e-05       \n",
       "dintrate:dintrate.l5   6.364233e-05        6.588518e-05       \n",
       "dintrate:dunrate.l5   -1.353991e-04        3.372206e-05       \n",
       "dintrate:dintrate.l6   7.952183e-05        7.832196e-06       \n",
       "dintrate:dunrate.l6   -2.075257e-04       -1.078594e-05       \n",
       "dintrate:dintrate.l7   1.519154e-04       -1.705073e-04       \n",
       "dintrate:dunrate.l7    1.992503e-05       -1.116823e-05       \n",
       "dintrate:dintrate.l8   9.471909e-05       -3.857583e-04       \n",
       "dintrate:dunrate.l8    1.554226e-03       -1.041190e-04       \n",
       "dintrate:dintrate.l9  -1.041190e-04        1.459959e-03       \n",
       "dintrate:dunrate.l9    1.284634e-05        8.300016e-05       \n",
       "dintrate:dintrate.l10  5.191075e-06       -3.912452e-04       \n",
       "dintrate:dunrate.l10  -2.296031e-04        1.519365e-04       \n",
       "dintrate:dintrate.l11 -8.398532e-06       -1.497019e-04       \n",
       "dintrate:dunrate.l11  -1.713845e-04        5.544205e-05       \n",
       "dintrate:dintrate.l12  2.344836e-05        1.954916e-05       \n",
       "                      dintrate:dunrate.l9 dintrate:dintrate.l10\n",
       "dintrate:(Intercept)   9.266696e-07        7.970088e-07        \n",
       "dintrate:dintrate.l1  -8.048112e-05       -1.538091e-04        \n",
       "dintrate:dunrate.l1   -9.743544e-06        2.377166e-05        \n",
       "dintrate:dintrate.l2  -4.604121e-05        9.596340e-05        \n",
       "dintrate:dunrate.l2    1.027081e-05       -1.183973e-04        \n",
       "dintrate:dintrate.l3   2.623340e-05       -8.057683e-05        \n",
       "dintrate:dunrate.l3   -7.264523e-05        3.275767e-05        \n",
       "dintrate:dintrate.l4   3.716118e-05        5.951535e-05        \n",
       "dintrate:dunrate.l4   -1.177809e-04       -4.252742e-05        \n",
       "dintrate:dintrate.l5  -5.433440e-05       -7.415507e-05        \n",
       "dintrate:dunrate.l5   -1.296446e-04       -1.642047e-05        \n",
       "dintrate:dintrate.l6   6.615009e-05        7.801921e-05        \n",
       "dintrate:dunrate.l6   -1.359784e-04        2.650735e-05        \n",
       "dintrate:dintrate.l7   7.773614e-05       -5.646967e-08        \n",
       "dintrate:dunrate.l7   -2.148146e-04       -7.594950e-06        \n",
       "dintrate:dintrate.l8   1.608031e-04       -1.600147e-04        \n",
       "dintrate:dunrate.l8    1.284634e-05        5.191075e-06        \n",
       "dintrate:dintrate.l9   8.300016e-05       -3.912452e-04        \n",
       "dintrate:dunrate.l9    1.539577e-03       -8.686884e-05        \n",
       "dintrate:dintrate.l10 -8.686884e-05        1.474747e-03        \n",
       "dintrate:dunrate.l10  -1.467985e-05        8.343084e-05        \n",
       "dintrate:dintrate.l11  1.260767e-05       -3.988484e-04        \n",
       "dintrate:dunrate.l11  -2.654106e-04        1.604578e-04        \n",
       "dintrate:dintrate.l12  2.244389e-05       -1.544555e-04        \n",
       "                      dintrate:dunrate.l10 dintrate:dintrate.l11\n",
       "dintrate:(Intercept)   1.910053e-06         7.052703e-07        \n",
       "dintrate:dintrate.l1   6.945212e-05         5.810983e-05        \n",
       "dintrate:dunrate.l1    2.080137e-05         2.807364e-05        \n",
       "dintrate:dintrate.l2  -1.046880e-04        -1.730531e-04        \n",
       "dintrate:dunrate.l2   -2.997076e-06         2.857905e-05        \n",
       "dintrate:dintrate.l3  -4.711125e-05         9.240472e-05        \n",
       "dintrate:dunrate.l3    3.361399e-05        -1.232948e-04        \n",
       "dintrate:dintrate.l4   3.338443e-05        -1.032917e-04        \n",
       "dintrate:dunrate.l4   -6.916134e-05         3.473545e-05        \n",
       "dintrate:dintrate.l5   3.016126e-05         7.049308e-05        \n",
       "dintrate:dunrate.l5   -1.165787e-04        -6.177546e-05        \n",
       "dintrate:dintrate.l6  -6.219638e-05        -8.611304e-05        \n",
       "dintrate:dunrate.l6   -1.358233e-04        -1.924594e-05        \n",
       "dintrate:dintrate.l7   6.745101e-05         8.386263e-05        \n",
       "dintrate:dunrate.l7   -1.499139e-04         2.071191e-05        \n",
       "dintrate:dintrate.l8   7.769380e-05        -1.284480e-05        \n",
       "dintrate:dunrate.l8   -2.296031e-04        -8.398532e-06        \n",
       "dintrate:dintrate.l9   1.519365e-04        -1.497019e-04        \n",
       "dintrate:dunrate.l9   -1.467985e-05         1.260767e-05        \n",
       "dintrate:dintrate.l10  8.343084e-05        -3.988484e-04        \n",
       "dintrate:dunrate.l10   1.513410e-03        -7.201448e-05        \n",
       "dintrate:dintrate.l11 -7.201448e-05         1.455059e-03        \n",
       "dintrate:dunrate.l11  -4.059381e-05         1.080892e-04        \n",
       "dintrate:dintrate.l12  4.478393e-05        -4.668876e-04        \n",
       "                      dintrate:dunrate.l11 dintrate:dintrate.l12\n",
       "dintrate:(Intercept)   2.569216e-06         5.875726e-07        \n",
       "dintrate:dintrate.l1   8.680674e-05        -9.865812e-07        \n",
       "dintrate:dunrate.l1    1.568670e-04        -5.180562e-05        \n",
       "dintrate:dintrate.l2   3.695360e-05         6.130630e-05        \n",
       "dintrate:dunrate.l2    7.118306e-06         2.271551e-05        \n",
       "dintrate:dintrate.l3  -1.032652e-04        -1.612851e-04        \n",
       "dintrate:dunrate.l3    8.841142e-07         2.630285e-05        \n",
       "dintrate:dintrate.l4  -3.206325e-05         2.516668e-05        \n",
       "dintrate:dunrate.l4    2.695640e-05        -1.109832e-04        \n",
       "dintrate:dintrate.l5   2.323724e-05        -8.140240e-05        \n",
       "dintrate:dunrate.l5   -7.971829e-05        -3.045749e-06        \n",
       "dintrate:dintrate.l6   1.803685e-05         4.591067e-05        \n",
       "dintrate:dunrate.l6   -1.230513e-04        -6.226831e-05        \n",
       "dintrate:dintrate.l7  -6.256466e-05        -6.997819e-05        \n",
       "dintrate:dunrate.l7   -1.521886e-04        -3.150293e-05        \n",
       "dintrate:dintrate.l8   7.680330e-05         5.190849e-05        \n",
       "dintrate:dunrate.l8   -1.713845e-04         2.344836e-05        \n",
       "dintrate:dintrate.l9   5.544205e-05         1.954916e-05        \n",
       "dintrate:dunrate.l9   -2.654106e-04         2.244389e-05        \n",
       "dintrate:dintrate.l10  1.604578e-04        -1.544555e-04        \n",
       "dintrate:dunrate.l10  -4.059381e-05         4.478393e-05        \n",
       "dintrate:dintrate.l11  1.080892e-04        -4.668876e-04        \n",
       "dintrate:dunrate.l11   1.484039e-03        -2.373702e-05        \n",
       "dintrate:dintrate.l12 -2.373702e-05         1.256336e-03        "
      ]
     },
     "metadata": {},
     "output_type": "display_data"
    }
   ],
   "source": [
    "var.dintrate = vcov(mod)[1:(2*pord_1),1:(2*pord_1)]\n",
    "var.dintrate"
   ]
  },
  {
   "cell_type": "code",
   "execution_count": 10,
   "metadata": {},
   "outputs": [
    {
     "data": {
      "text/plain": [
       "Wald test:\n",
       "----------\n",
       "\n",
       "Chi-squared test:\n",
       "X2 = 67.3, df = 12, P(> X2) = 1e-09"
      ]
     },
     "metadata": {},
     "output_type": "display_data"
    }
   ],
   "source": [
    "wald.test(b=coef.dintrate, var.dintrate, Terms=seq(2, 2*pord_1, 2))"
   ]
  },
  {
   "attachments": {
    "image.png": {
     "image/png": "[encoded data removed]"
    }
   },
   "cell_type": "markdown",
   "metadata": {},
   "source": [
    "![image.png](attachment:image.png)"
   ]
  },
  {
   "cell_type": "markdown",
   "metadata": {},
   "source": [
    "## Comparing prediction with AR"
   ]
  },
  {
   "cell_type": "code",
   "execution_count": 11,
   "metadata": {},
   "outputs": [
    {
     "name": "stdout",
     "output_type": "stream",
     "text": [
      "[1] 10\n"
     ]
    }
   ],
   "source": [
    "## Predict Interest Rate Change using Univariate AR\n",
    "nfit = 12*67\n",
    "n = length(dintrate)\n",
    "dintrate.train = dintrate[1:nfit]\n",
    "dintrate.test = dintrate[(nfit+1):n]\n",
    "ar.train = ar(dintrate.train, order.max=12)\n",
    "print(ar.train$order)\n",
    "dintrate.predict = predict(ar.train,n.ahead=(n-nfit))\n",
    "dintrate.fcst.1 = dintrate.predict$pred"
   ]
  },
  {
   "cell_type": "code",
   "execution_count": 13,
   "metadata": {},
   "outputs": [],
   "source": [
    "## Predict Interest Rate Change using VAR\n",
    "ddata.train = ddata.ts[1:nfit,]\n",
    "mod.train = VAR(ddata.train,pord_1)\n",
    "ddata.predict = predict(mod.train,n.ahead=(n-nfit))\n",
    "dintrate.fcst.2 = ddata.predict[[1]]$dintrate[,1]"
   ]
  },
  {
   "cell_type": "code",
   "execution_count": 30,
   "metadata": {},
   "outputs": [
    {
     "data": {
      "image/png": "[encoded data removed]",
      "text/plain": [
       "plot without title"
      ]
     },
     "metadata": {},
     "output_type": "display_data"
    }
   ],
   "source": [
    "plot(dates[(n-20):n], dintrate[(n-20):n],type=\"o\", xlab=\"Time\", ylab=\"Dintrate\", ylim=c(-0.4,0.4))\n",
    "#AR(10)\n",
    "lines(dates[(nfit+1):n],dintrate.fcst.1,col=\"red\",lwd=2, type=\"o\")\n",
    "#VAR(12)\n",
    "lines(dates[(nfit+1):n],dintrate.fcst.2,col=\"green\",lwd=2,  type=\"o\")"
   ]
  }
 ],
 "metadata": {
  "kernelspec": {
   "display_name": "R",
   "language": "R",
   "name": "ir"
  },
  "language_info": {
   "codemirror_mode": "r",
   "file_extension": ".r",
   "mimetype": "text/x-r-source",
   "name": "R",
   "pygments_lexer": "r",
   "version": "3.6.1"
  }
 },
 "nbformat": 4,
 "nbformat_minor": 2
}
